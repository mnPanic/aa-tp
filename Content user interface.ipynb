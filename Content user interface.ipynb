{
 "cells": [
  {
   "cell_type": "markdown",
   "id": "4be80f25-ad24-4346-8386-90df77604ddf",
   "metadata": {},
   "source": [
    "## Evaluating the systems\n",
    "Tomamos los usuarios que tengan x+y ratings de peliculas.\n",
    "Removemos las x peliculas de sus ratings, y pedimos las recomendaciones para las y peliculas.\\\n",
    "Del total de recomendaciones nos quedamos con el TOP z, ordenando por aparicion, y el promedio del cosine_similarity.\\\n",
    "Calculamos recall y precision, variamos x,y,z"
   ]
  },
  {
   "cell_type": "code",
   "execution_count": 1,
   "id": "3db24e22",
   "metadata": {},
   "outputs": [],
   "source": [
    "import pandas as pd\n",
    "import numpy as np"
   ]
  },
  {
   "cell_type": "code",
   "execution_count": 2,
   "id": "dce10f31",
   "metadata": {
    "tags": []
   },
   "outputs": [],
   "source": [
    "movies = pd.read_csv(\"../archive/movies_metadata.csv\", low_memory=False)"
   ]
  },
  {
   "cell_type": "code",
   "execution_count": 3,
   "id": "d077c5fd-6614-47a6-a08c-a040c06d0b5b",
   "metadata": {},
   "outputs": [],
   "source": [
    "real_shit_indices = pd.Series(movies.index, index=movies['id']).drop_duplicates()"
   ]
  },
  {
   "cell_type": "code",
   "execution_count": 4,
   "id": "a11ee196-49a7-40ca-a1a1-328041ad4f9c",
   "metadata": {},
   "outputs": [
    {
     "data": {
      "text/plain": [
       "id\n",
       "862           0\n",
       "8844          1\n",
       "15602         2\n",
       "31357         3\n",
       "11862         4\n",
       "          ...  \n",
       "439050    45461\n",
       "111109    45462\n",
       "67758     45463\n",
       "227506    45464\n",
       "461257    45465\n",
       "Length: 45466, dtype: int64"
      ]
     },
     "execution_count": 4,
     "metadata": {},
     "output_type": "execute_result"
    }
   ],
   "source": [
    "real_shit_indices"
   ]
  },
  {
   "cell_type": "code",
   "execution_count": 5,
   "id": "b2b169d2",
   "metadata": {
    "tags": []
   },
   "outputs": [
    {
     "data": {
      "text/plain": [
       "(45466, 75827)"
      ]
     },
     "execution_count": 5,
     "metadata": {},
     "output_type": "execute_result"
    }
   ],
   "source": [
    "#Import TfIdfVectorizer from scikit-learn\n",
    "from sklearn.feature_extraction.text import TfidfVectorizer\n",
    "\n",
    "#Define a TF-IDF Vectorizer Object. Remove all english stop words such as 'the', 'a'\n",
    "tfidf = TfidfVectorizer(stop_words='english')\n",
    "\n",
    "#Replace NaN with an empty string\n",
    "movies['overview'] = movies['overview'].fillna('')\n",
    "\n",
    "#Construct the required TF-IDF matrix by fitting and transforming the data\n",
    "tfidf_matrix = tfidf.fit_transform(movies['overview'])\n",
    "\n",
    "#Output the shape of tfidf_matrix\n",
    "tfidf_matrix.shape"
   ]
  },
  {
   "cell_type": "code",
   "execution_count": 6,
   "id": "2fc5cfd1-5427-4162-b575-f8ccc8d79a13",
   "metadata": {},
   "outputs": [],
   "source": [
    "# Import linear_kernel\n",
    "from sklearn.metrics.pairwise import linear_kernel\n",
    "\n",
    "# Compute the cosine similarity matrix\n",
    "cosine_sim = linear_kernel(tfidf_matrix, tfidf_matrix)"
   ]
  },
  {
   "cell_type": "code",
   "execution_count": 7,
   "id": "11bb5d9b",
   "metadata": {},
   "outputs": [],
   "source": [
    "def get_recommendations_and_similarities(data, movie_id, cosine_sim):\n",
    "    # Get the movie index from dataframe\n",
    "    idx = real_shit_indices[movie_id]\n",
    "    \n",
    "    # Get the pairwsie similarity scores of all movies with that movie\n",
    "    sim_scores = list(enumerate(cosine_sim[idx]))\n",
    "\n",
    "    # Sort the movies based on the similarity scores\n",
    "    sim_scores = sorted(sim_scores, key=lambda x: x[1], reverse=True)\n",
    "\n",
    "    # Get the scores of the 10 most similar movies\n",
    "    sim_scores = sim_scores[1:11]\n",
    "    \n",
    "    rows = []\n",
    "    \n",
    "    for index, similarity in sim_scores:\n",
    "        title = data.iloc[index]['title']\n",
    "        # TODO ¿ tener movieId o Index (id fila) ?\n",
    "        row = {'index':index, 'title':title, 'similarity':similarity}\n",
    "        rows.append(row)\n",
    "\n",
    "    # Return the top 10 most similar movies\n",
    "    return pd.DataFrame.from_records(rows)"
   ]
  },
  {
   "cell_type": "code",
   "execution_count": 8,
   "id": "33978bcf",
   "metadata": {},
   "outputs": [],
   "source": [
    "user_ratings = pd.read_csv(\"../archive/ratings.csv\", dtype={'userId': int, 'movieId': str, 'rating': float,'timestamp': int})"
   ]
  },
  {
   "cell_type": "code",
   "execution_count": 9,
   "id": "af9d360a-6e80-441e-805c-ffbe92f3a618",
   "metadata": {},
   "outputs": [
    {
     "data": {
      "text/html": [
       "<div>\n",
       "<style scoped>\n",
       "    .dataframe tbody tr th:only-of-type {\n",
       "        vertical-align: middle;\n",
       "    }\n",
       "\n",
       "    .dataframe tbody tr th {\n",
       "        vertical-align: top;\n",
       "    }\n",
       "\n",
       "    .dataframe thead th {\n",
       "        text-align: right;\n",
       "    }\n",
       "</style>\n",
       "<table border=\"1\" class=\"dataframe\">\n",
       "  <thead>\n",
       "    <tr style=\"text-align: right;\">\n",
       "      <th></th>\n",
       "      <th>userId</th>\n",
       "      <th>movieId</th>\n",
       "      <th>rating</th>\n",
       "      <th>timestamp</th>\n",
       "    </tr>\n",
       "  </thead>\n",
       "  <tbody>\n",
       "    <tr>\n",
       "      <th>0</th>\n",
       "      <td>1</td>\n",
       "      <td>110</td>\n",
       "      <td>1.0</td>\n",
       "      <td>1425941529</td>\n",
       "    </tr>\n",
       "    <tr>\n",
       "      <th>1</th>\n",
       "      <td>1</td>\n",
       "      <td>147</td>\n",
       "      <td>4.5</td>\n",
       "      <td>1425942435</td>\n",
       "    </tr>\n",
       "  </tbody>\n",
       "</table>\n",
       "</div>"
      ],
      "text/plain": [
       "   userId movieId  rating   timestamp\n",
       "0       1     110     1.0  1425941529\n",
       "1       1     147     4.5  1425942435"
      ]
     },
     "execution_count": 9,
     "metadata": {},
     "output_type": "execute_result"
    }
   ],
   "source": [
    "user_ratings.head(2)"
   ]
  },
  {
   "cell_type": "code",
   "execution_count": 10,
   "id": "635ae581",
   "metadata": {},
   "outputs": [],
   "source": [
    "id_links = pd.read_csv(\"../archive/links.csv\", dtype={'movieId': str, 'imdbId': str, 'tmdbId': str})"
   ]
  },
  {
   "cell_type": "code",
   "execution_count": 26,
   "id": "25058158",
   "metadata": {},
   "outputs": [
    {
     "data": {
      "text/html": [
       "<div>\n",
       "<style scoped>\n",
       "    .dataframe tbody tr th:only-of-type {\n",
       "        vertical-align: middle;\n",
       "    }\n",
       "\n",
       "    .dataframe tbody tr th {\n",
       "        vertical-align: top;\n",
       "    }\n",
       "\n",
       "    .dataframe thead th {\n",
       "        text-align: right;\n",
       "    }\n",
       "</style>\n",
       "<table border=\"1\" class=\"dataframe\">\n",
       "  <thead>\n",
       "    <tr style=\"text-align: right;\">\n",
       "      <th></th>\n",
       "      <th>movieId</th>\n",
       "      <th>imdbId</th>\n",
       "      <th>tmdbId</th>\n",
       "    </tr>\n",
       "  </thead>\n",
       "  <tbody>\n",
       "    <tr>\n",
       "      <th>0</th>\n",
       "      <td>1</td>\n",
       "      <td>0114709</td>\n",
       "      <td>862</td>\n",
       "    </tr>\n",
       "    <tr>\n",
       "      <th>1</th>\n",
       "      <td>2</td>\n",
       "      <td>0113497</td>\n",
       "      <td>8844</td>\n",
       "    </tr>\n",
       "  </tbody>\n",
       "</table>\n",
       "</div>"
      ],
      "text/plain": [
       "  movieId   imdbId tmdbId\n",
       "0       1  0114709    862\n",
       "1       2  0113497   8844"
      ]
     },
     "execution_count": 26,
     "metadata": {},
     "output_type": "execute_result"
    }
   ],
   "source": [
    "id_links.head(2)"
   ]
  },
  {
   "cell_type": "code",
   "execution_count": 11,
   "id": "db05d338-796e-489b-af8a-e67d4711dcee",
   "metadata": {},
   "outputs": [],
   "source": [
    "user_ratings = pd.merge(user_ratings, id_links, left_on='movieId', right_on='movieId', how='left')"
   ]
  },
  {
   "cell_type": "code",
   "execution_count": 29,
   "id": "4c5e7b56-2b0e-4ad4-8b23-fe1a45b75c69",
   "metadata": {},
   "outputs": [
    {
     "data": {
      "text/html": [
       "<div>\n",
       "<style scoped>\n",
       "    .dataframe tbody tr th:only-of-type {\n",
       "        vertical-align: middle;\n",
       "    }\n",
       "\n",
       "    .dataframe tbody tr th {\n",
       "        vertical-align: top;\n",
       "    }\n",
       "\n",
       "    .dataframe thead th {\n",
       "        text-align: right;\n",
       "    }\n",
       "</style>\n",
       "<table border=\"1\" class=\"dataframe\">\n",
       "  <thead>\n",
       "    <tr style=\"text-align: right;\">\n",
       "      <th></th>\n",
       "      <th>userId</th>\n",
       "      <th>movieId</th>\n",
       "      <th>rating</th>\n",
       "      <th>timestamp</th>\n",
       "      <th>imdbId</th>\n",
       "      <th>tmdbId</th>\n",
       "    </tr>\n",
       "  </thead>\n",
       "  <tbody>\n",
       "    <tr>\n",
       "      <th>0</th>\n",
       "      <td>1</td>\n",
       "      <td>110</td>\n",
       "      <td>1.0</td>\n",
       "      <td>1425941529</td>\n",
       "      <td>0112573</td>\n",
       "      <td>197</td>\n",
       "    </tr>\n",
       "    <tr>\n",
       "      <th>1</th>\n",
       "      <td>1</td>\n",
       "      <td>147</td>\n",
       "      <td>4.5</td>\n",
       "      <td>1425942435</td>\n",
       "      <td>0112461</td>\n",
       "      <td>10474</td>\n",
       "    </tr>\n",
       "  </tbody>\n",
       "</table>\n",
       "</div>"
      ],
      "text/plain": [
       "   userId movieId  rating   timestamp   imdbId tmdbId\n",
       "0       1     110     1.0  1425941529  0112573    197\n",
       "1       1     147     4.5  1425942435  0112461  10474"
      ]
     },
     "execution_count": 29,
     "metadata": {},
     "output_type": "execute_result"
    }
   ],
   "source": [
    "user_ratings.head(2)"
   ]
  },
  {
   "cell_type": "code",
   "execution_count": 12,
   "id": "1d252130",
   "metadata": {},
   "outputs": [],
   "source": [
    "def get_user_recommendations(user):\n",
    "    # WARNING!\n",
    "    #\n",
    "    # La matriz de ratings no usa el mismo ID que la matriz movies_metadata\n",
    "    # En el archivo links se establece una relación entre el movieID de ratings y los IDs de TMBD e IMBD (que el primero parece ser el de movies_metadata)\n",
    "    movies_and_ratings = user_ratings[user_ratings['userId'] == user][['tmdbId','rating']]\n",
    "    out = pd.DataFrame(columns=['index', 'title', 'similarity'])\n",
    "    \n",
    "    for _, info in movies_and_ratings.iterrows():\n",
    "        # real shit indices se indexa con string, y estos son numeros i.e. '123', y movieId es un float, tonse '123.0' pincha\n",
    "        movieID = str(int(info.loc['tmdbId']))\n",
    "        rating = info.loc['rating']\n",
    "        # ID = id_links[id_links[\"movieId\"] == movieID][\"tmdbId\"].iloc[0]\n",
    "        recommendations = get_recommendations_and_similarities(movies, movieID, cosine_sim)\n",
    "        # Pesa la similaridad * rating, y la normaliza ( /5.0)\n",
    "        recommendations['similarity'] = recommendations['similarity'] * rating / 5.0\n",
    "        out = pd.concat([out,recommendations])\n",
    "        #out = out.append(recommendations, ignore_index=True)\n",
    "    \n",
    "    out = out.groupby(['index','title'])\n",
    "    #out['aux'] = None\n",
    "    #out = out.agg({'similarity':'mean', 'aux':'size'}).rename(columns={'similarity':'mean_similarity','aux':'count'}).reset_index()\n",
    "    out = out.agg({'similarity':'mean'}).rename(columns={'similarity':'mean_similarity'}).reset_index()\n",
    "    \n",
    "    #out.sort_values(by='count', ascending=False, inplace=True)\n",
    "    out.sort_values(by='mean_similarity', ascending=False, inplace=True)\n",
    "    to_remove = pd.merge(movies_and_ratings, real_shit_indices.to_frame(), left_on='tmdbId', right_on='id', how='left')\n",
    "    # Dado que le mergeamos la serie, queda la columna referenciable con el int 0 que son la lista de index del dataframe de movies\n",
    "    to_remove = to_remove[0].to_list()\n",
    "    \n",
    "    out = out[~out['index'].isin(to_remove)][0:10]\n",
    "    \n",
    "    \n",
    "    return out"
   ]
  },
  {
   "cell_type": "code",
   "execution_count": 15,
   "id": "95dbd309-517a-477a-8728-60e16a05bc41",
   "metadata": {},
   "outputs": [
    {
     "data": {
      "text/html": [
       "<div>\n",
       "<style scoped>\n",
       "    .dataframe tbody tr th:only-of-type {\n",
       "        vertical-align: middle;\n",
       "    }\n",
       "\n",
       "    .dataframe tbody tr th {\n",
       "        vertical-align: top;\n",
       "    }\n",
       "\n",
       "    .dataframe thead th {\n",
       "        text-align: right;\n",
       "    }\n",
       "</style>\n",
       "<table border=\"1\" class=\"dataframe\">\n",
       "  <thead>\n",
       "    <tr style=\"text-align: right;\">\n",
       "      <th></th>\n",
       "      <th>index</th>\n",
       "      <th>title</th>\n",
       "      <th>mean_similarity</th>\n",
       "    </tr>\n",
       "  </thead>\n",
       "  <tbody>\n",
       "    <tr>\n",
       "      <th>10</th>\n",
       "      <td>1154</td>\n",
       "      <td>The Empire Strikes Back</td>\n",
       "      <td>0.319861</td>\n",
       "    </tr>\n",
       "    <tr>\n",
       "      <th>16</th>\n",
       "      <td>2280</td>\n",
       "      <td>Star Trek: Insurrection</td>\n",
       "      <td>0.233709</td>\n",
       "    </tr>\n",
       "    <tr>\n",
       "      <th>145</th>\n",
       "      <td>30557</td>\n",
       "      <td>Star Trek Beyond</td>\n",
       "      <td>0.212372</td>\n",
       "    </tr>\n",
       "    <tr>\n",
       "      <th>19</th>\n",
       "      <td>2659</td>\n",
       "      <td>Better Than Chocolate</td>\n",
       "      <td>0.210412</td>\n",
       "    </tr>\n",
       "    <tr>\n",
       "      <th>144</th>\n",
       "      <td>30434</td>\n",
       "      <td>The Star Wars Holiday Special</td>\n",
       "      <td>0.192190</td>\n",
       "    </tr>\n",
       "    <tr>\n",
       "      <th>43</th>\n",
       "      <td>6793</td>\n",
       "      <td>Father of the Bride</td>\n",
       "      <td>0.188938</td>\n",
       "    </tr>\n",
       "    <tr>\n",
       "      <th>129</th>\n",
       "      <td>26555</td>\n",
       "      <td>Star Wars: The Force Awakens</td>\n",
       "      <td>0.188669</td>\n",
       "    </tr>\n",
       "    <tr>\n",
       "      <th>4</th>\n",
       "      <td>324</td>\n",
       "      <td>Star Trek: Generations</td>\n",
       "      <td>0.183683</td>\n",
       "    </tr>\n",
       "    <tr>\n",
       "      <th>95</th>\n",
       "      <td>18231</td>\n",
       "      <td>Getting to Know You</td>\n",
       "      <td>0.179414</td>\n",
       "    </tr>\n",
       "    <tr>\n",
       "      <th>118</th>\n",
       "      <td>23187</td>\n",
       "      <td>The Amazing Spider-Man 2</td>\n",
       "      <td>0.178032</td>\n",
       "    </tr>\n",
       "  </tbody>\n",
       "</table>\n",
       "</div>"
      ],
      "text/plain": [
       "     index                          title  mean_similarity\n",
       "10    1154        The Empire Strikes Back         0.319861\n",
       "16    2280        Star Trek: Insurrection         0.233709\n",
       "145  30557               Star Trek Beyond         0.212372\n",
       "19    2659          Better Than Chocolate         0.210412\n",
       "144  30434  The Star Wars Holiday Special         0.192190\n",
       "43    6793            Father of the Bride         0.188938\n",
       "129  26555   Star Wars: The Force Awakens         0.188669\n",
       "4      324         Star Trek: Generations         0.183683\n",
       "95   18231            Getting to Know You         0.179414\n",
       "118  23187       The Amazing Spider-Man 2         0.178032"
      ]
     },
     "execution_count": 15,
     "metadata": {},
     "output_type": "execute_result"
    }
   ],
   "source": [
    "get_user_recommendations(2)"
   ]
  }
 ],
 "metadata": {
  "kernelspec": {
   "display_name": "Python 3 (ipykernel)",
   "language": "python",
   "name": "python3"
  },
  "language_info": {
   "codemirror_mode": {
    "name": "ipython",
    "version": 3
   },
   "file_extension": ".py",
   "mimetype": "text/x-python",
   "name": "python",
   "nbconvert_exporter": "python",
   "pygments_lexer": "ipython3",
   "version": "3.9.7"
  }
 },
 "nbformat": 4,
 "nbformat_minor": 5
}
