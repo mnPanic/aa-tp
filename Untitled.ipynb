{
 "cells": [
  {
   "cell_type": "code",
   "execution_count": 101,
   "id": "a7ac40be-654a-43ce-9c42-069aca83d62d",
   "metadata": {},
   "outputs": [],
   "source": [
    "import pandas as pd\n",
    "import numpy as np\n",
    "import math\n",
    "import scipy.stats as stats\n",
    "from scipy import spatial\n",
    "\n",
    "from sklearn.metrics.pairwise import cosine_similarity"
   ]
  },
  {
   "cell_type": "code",
   "execution_count": 2,
   "id": "31e6b405-fdca-48d1-8a7f-e17a75d33d84",
   "metadata": {
    "tags": []
   },
   "outputs": [],
   "source": [
    "movies = pd.read_csv(\"../archive/movies_metadata.csv\", low_memory=False)\n",
    "user_ratings = pd.read_csv(\"../archive/ratings.csv\", dtype={'userId': int, 'movieId': str, 'rating': float,'timestamp': int})\n",
    "id_links = pd.read_csv(\"../archive/links.csv\", dtype={'movieId': str, 'imdbId': str, 'tmdbId': str})\n",
    "user_ratings = pd.merge(user_ratings, id_links, left_on='movieId', right_on='movieId', how='left')"
   ]
  },
  {
   "cell_type": "code",
   "execution_count": 84,
   "id": "d5f4dae6-9d54-4059-a027-cc18c303e9e6",
   "metadata": {},
   "outputs": [
    {
     "data": {
      "text/html": [
       "<div>\n",
       "<style scoped>\n",
       "    .dataframe tbody tr th:only-of-type {\n",
       "        vertical-align: middle;\n",
       "    }\n",
       "\n",
       "    .dataframe tbody tr th {\n",
       "        vertical-align: top;\n",
       "    }\n",
       "\n",
       "    .dataframe thead th {\n",
       "        text-align: right;\n",
       "    }\n",
       "</style>\n",
       "<table border=\"1\" class=\"dataframe\">\n",
       "  <thead>\n",
       "    <tr style=\"text-align: right;\">\n",
       "      <th></th>\n",
       "      <th>userId</th>\n",
       "      <th>movieId</th>\n",
       "      <th>rating</th>\n",
       "      <th>timestamp</th>\n",
       "      <th>imdbId</th>\n",
       "      <th>tmdbId</th>\n",
       "    </tr>\n",
       "  </thead>\n",
       "  <tbody>\n",
       "    <tr>\n",
       "      <th>0</th>\n",
       "      <td>1</td>\n",
       "      <td>110</td>\n",
       "      <td>1.0</td>\n",
       "      <td>1425941529</td>\n",
       "      <td>0112573</td>\n",
       "      <td>197</td>\n",
       "    </tr>\n",
       "    <tr>\n",
       "      <th>1</th>\n",
       "      <td>1</td>\n",
       "      <td>147</td>\n",
       "      <td>4.5</td>\n",
       "      <td>1425942435</td>\n",
       "      <td>0112461</td>\n",
       "      <td>10474</td>\n",
       "    </tr>\n",
       "  </tbody>\n",
       "</table>\n",
       "</div>"
      ],
      "text/plain": [
       "   userId movieId  rating   timestamp   imdbId tmdbId\n",
       "0       1     110     1.0  1425941529  0112573    197\n",
       "1       1     147     4.5  1425942435  0112461  10474"
      ]
     },
     "execution_count": 84,
     "metadata": {},
     "output_type": "execute_result"
    }
   ],
   "source": [
    "user_ratings.head(2)"
   ]
  },
  {
   "cell_type": "code",
   "execution_count": 67,
   "id": "e5a495ed-0eee-43c6-adc9-d24ab73e9dd9",
   "metadata": {},
   "outputs": [],
   "source": [
    "def pearson_for_ratings(my_ratings, other_ratings):\n",
    "    # Puedo tener ratings que el otro usuario no tiene\n",
    "    my_ratings = my_ratings[my_ratings['movieId'].isin(other_ratings['movieId'].tolist())]\n",
    "\n",
    "    my_ratings = my_ratings.sort_values(by='movieId', ascending=False)['rating'].tolist()\n",
    "    other_ratings = other_ratings.sort_values(by='movieId', ascending=False)['rating'].tolist()\n",
    "    \n",
    "    correlation, _ = stats.pearsonr(my_ratings,other_ratings)\n",
    "    #correlation = spatial.distance.euclidean(my_ratings,other_ratings)\n",
    "    #correlation = spatial.distance.cosine(my_ratings,other_ratings)\n",
    "    return correlation"
   ]
  },
  {
   "cell_type": "code",
   "execution_count": null,
   "id": "42006bb1-bd28-44b0-a93b-3e6a11466e93",
   "metadata": {},
   "outputs": [],
   "source": [
    "def get_collab_recommendations_2(user):\n",
    "    my_ratings = user_ratings[user_ratings['userId']==user]\n",
    "    similar_users = user_ratings[user_ratings['movieId'].isin(my_ratings['movieId'].to_list())]\n",
    "\n",
    "    # TODO Hay mejor manera de obtener los 100 users mayor interseccion de peliculas\n",
    "    ratings_grouped = similar_users.groupby(['userId'])\n",
    "    ratings_grouped = sorted(ratings_grouped,  key=lambda x: len(x[1]), reverse=True)\n",
    "    ratings_grouped = ratings_grouped[0:100]\n",
    "    # Pisamos nos interesan solos los ids\n",
    "    users = [user_df[0] for user_df in ratings_grouped]\n",
    "    ratings_grouped = \":(\"\n",
    "    less_ratings = user_ratings[user_ratings['userId'].isin(users)]\n",
    "    # Movies X Users matrix\n",
    "    user_data = less_ratings.pivot(index = 'userId', columns = 'movieId', values = 'rating').fillna(0)\n",
    "    \n",
    "    user_similarity = cosine_similarity(user_data)\n",
    "    user_similarity[np.isnan(user_similarity)] = 0\n",
    "    user_predicted_ratings = np.dot(user_similarity, user_data)\n",
    "    \n",
    "    user_predicted_ratings = user_predicted_ratings.loc[user].sort_values(ascending = False)\n",
    "    \n",
    "    to_remove = my_ratings['movieId'].to_list()\n",
    "    \n",
    "    out = out[~out['movieId'].isin(to_remove)][0:10]\n",
    "\n",
    "    out = pd.merge(out, movies, left_on='tmdbId', right_on='id', how='left')\n",
    "    \n",
    "    return out[['title', 'tmdbId', 'mean_weighted_rating']]"
   ]
  },
  {
   "cell_type": "code",
   "execution_count": 61,
   "id": "c16ed5fc-c911-469a-8009-8bff0bcb301c",
   "metadata": {},
   "outputs": [],
   "source": [
    "def get_collab_recommendations(user):\n",
    "    my_ratings = user_ratings[user_ratings['userId']==user]\n",
    "    similar_users = user_ratings[user_ratings['movieId'].isin(my_ratings['movieId'].to_list())]\n",
    "    \n",
    "    ratings_grouped = similar_users.groupby(['userId'])\n",
    "    ratings_grouped = sorted(ratings_grouped,  key=lambda x: len(x[1]), reverse=True)\n",
    "    ratings_grouped = ratings_grouped[0:100]\n",
    "    \n",
    "    users_pearson = []\n",
    "    for user, ratings_df in ratings_grouped:\n",
    "        pearson_row = {'userId':user, 'pearson': pearson_for_ratings(my_ratings, ratings_df)}\n",
    "        users_pearson.append(pearson_row)\n",
    "    \n",
    "    # Removemos el mismo usuario\n",
    "    users_pearson = [up for up in users_pearson if up['userId']!=user]\n",
    "    near_users = pd.DataFrame.from_records(users_pearson)\n",
    "\n",
    "    ratings_with_pearson = pd.merge(user_ratings, near_users, left_on='userId', right_on='userId', how='right')\n",
    "    ratings_with_pearson['weighted_rating'] = ratings_with_pearson['pearson'] * ratings_with_pearson['rating']\n",
    "    \n",
    "    # Para no perder el tmdbId en la agregacion\n",
    "    out = ratings_with_pearson.groupby(['movieId','tmdbId'])\n",
    "    out = out.agg({'weighted_rating':'mean'}).rename(columns={'weighted_rating':'mean_weighted_rating'}).reset_index()\n",
    "    \n",
    "    out.sort_values(by='mean_weighted_rating', ascending=False, inplace=True)\n",
    "    to_remove = my_ratings['movieId'].to_list()\n",
    "    out = out[~out['movieId'].isin(to_remove)][0:10]\n",
    "\n",
    "    out = pd.merge(out, movies, left_on='tmdbId', right_on='id', how='left')\n",
    "    \n",
    "    return out[['title', 'tmdbId', 'mean_weighted_rating']]"
   ]
  },
  {
   "cell_type": "code",
   "execution_count": 68,
   "id": "fc3811d5-ef08-4256-8625-ba0b4ef35945",
   "metadata": {},
   "outputs": [],
   "source": [
    "rec = get_collab_recommendations(2)"
   ]
  },
  {
   "cell_type": "code",
   "execution_count": 69,
   "id": "53caf1d9-844c-4be5-8532-07dc54b13ae7",
   "metadata": {},
   "outputs": [
    {
     "data": {
      "text/html": [
       "<div>\n",
       "<style scoped>\n",
       "    .dataframe tbody tr th:only-of-type {\n",
       "        vertical-align: middle;\n",
       "    }\n",
       "\n",
       "    .dataframe tbody tr th {\n",
       "        vertical-align: top;\n",
       "    }\n",
       "\n",
       "    .dataframe thead th {\n",
       "        text-align: right;\n",
       "    }\n",
       "</style>\n",
       "<table border=\"1\" class=\"dataframe\">\n",
       "  <thead>\n",
       "    <tr style=\"text-align: right;\">\n",
       "      <th></th>\n",
       "      <th>title</th>\n",
       "      <th>tmdbId</th>\n",
       "      <th>mean_weighted_rating</th>\n",
       "    </tr>\n",
       "  </thead>\n",
       "  <tbody>\n",
       "    <tr>\n",
       "      <th>0</th>\n",
       "      <td>Entity</td>\n",
       "      <td>131887</td>\n",
       "      <td>1.981880</td>\n",
       "    </tr>\n",
       "    <tr>\n",
       "      <th>1</th>\n",
       "      <td>Rudolph's Shiny New Year</td>\n",
       "      <td>30059</td>\n",
       "      <td>1.981880</td>\n",
       "    </tr>\n",
       "    <tr>\n",
       "      <th>2</th>\n",
       "      <td>The Ghost</td>\n",
       "      <td>21792</td>\n",
       "      <td>1.981880</td>\n",
       "    </tr>\n",
       "    <tr>\n",
       "      <th>3</th>\n",
       "      <td>Pearl Jam: Immagine in Cornice</td>\n",
       "      <td>18968</td>\n",
       "      <td>1.884463</td>\n",
       "    </tr>\n",
       "    <tr>\n",
       "      <th>4</th>\n",
       "      <td>The Smashing Pumpkins: Vieuphoria</td>\n",
       "      <td>57644</td>\n",
       "      <td>1.884463</td>\n",
       "    </tr>\n",
       "    <tr>\n",
       "      <th>5</th>\n",
       "      <td>A Haunting at Silver Falls</td>\n",
       "      <td>197919</td>\n",
       "      <td>1.783692</td>\n",
       "    </tr>\n",
       "    <tr>\n",
       "      <th>6</th>\n",
       "      <td>Oliver's Story</td>\n",
       "      <td>163631</td>\n",
       "      <td>1.783692</td>\n",
       "    </tr>\n",
       "    <tr>\n",
       "      <th>7</th>\n",
       "      <td>The War Tapes</td>\n",
       "      <td>23495</td>\n",
       "      <td>1.696016</td>\n",
       "    </tr>\n",
       "    <tr>\n",
       "      <th>8</th>\n",
       "      <td>Smashing Pumpkins: If All Goes Wrong</td>\n",
       "      <td>20996</td>\n",
       "      <td>1.696016</td>\n",
       "    </tr>\n",
       "    <tr>\n",
       "      <th>9</th>\n",
       "      <td>Salvador (Puig Antich)</td>\n",
       "      <td>1896</td>\n",
       "      <td>1.662431</td>\n",
       "    </tr>\n",
       "  </tbody>\n",
       "</table>\n",
       "</div>"
      ],
      "text/plain": [
       "                                  title  tmdbId  mean_weighted_rating\n",
       "0                                Entity  131887              1.981880\n",
       "1              Rudolph's Shiny New Year   30059              1.981880\n",
       "2                             The Ghost   21792              1.981880\n",
       "3        Pearl Jam: Immagine in Cornice   18968              1.884463\n",
       "4     The Smashing Pumpkins: Vieuphoria   57644              1.884463\n",
       "5            A Haunting at Silver Falls  197919              1.783692\n",
       "6                        Oliver's Story  163631              1.783692\n",
       "7                         The War Tapes   23495              1.696016\n",
       "8  Smashing Pumpkins: If All Goes Wrong   20996              1.696016\n",
       "9                Salvador (Puig Antich)    1896              1.662431"
      ]
     },
     "execution_count": 69,
     "metadata": {},
     "output_type": "execute_result"
    }
   ],
   "source": [
    "rec"
   ]
  },
  {
   "cell_type": "markdown",
   "id": "f1741a15-2230-4bc7-9fff-b53cb7a43880",
   "metadata": {},
   "source": [
    "## Esto es un asco la idea es hacer cosine similarity con las peliculas de los que tengo en comun y coso"
   ]
  },
  {
   "cell_type": "code",
   "execution_count": 154,
   "id": "b61ce169-7d38-4b12-b7dc-01cea1ae44b3",
   "metadata": {},
   "outputs": [
    {
     "ename": "AttributeError",
     "evalue": "'list' object has no attribute 'sort_values'",
     "output_type": "error",
     "traceback": [
      "\u001b[0;31m---------------------------------------------------------------------------\u001b[0m",
      "\u001b[0;31mAttributeError\u001b[0m                            Traceback (most recent call last)",
      "\u001b[0;32m/var/folders/pm/8bj3x22x16n6qmt9sym5kn2wtj1f4g/T/ipykernel_72773/972896770.py\u001b[0m in \u001b[0;36m<cell line: 21>\u001b[0;34m()\u001b[0m\n\u001b[1;32m     19\u001b[0m \u001b[0muser_similarity\u001b[0m\u001b[0;34m[\u001b[0m\u001b[0mnp\u001b[0m\u001b[0;34m.\u001b[0m\u001b[0misnan\u001b[0m\u001b[0;34m(\u001b[0m\u001b[0muser_similarity\u001b[0m\u001b[0;34m)\u001b[0m\u001b[0;34m]\u001b[0m \u001b[0;34m=\u001b[0m \u001b[0;36m0\u001b[0m\u001b[0;34m\u001b[0m\u001b[0;34m\u001b[0m\u001b[0m\n\u001b[1;32m     20\u001b[0m \u001b[0muser_predicted_ratings\u001b[0m \u001b[0;34m=\u001b[0m \u001b[0mnp\u001b[0m\u001b[0;34m.\u001b[0m\u001b[0mdot\u001b[0m\u001b[0;34m(\u001b[0m\u001b[0muser_similarity\u001b[0m\u001b[0;34m,\u001b[0m \u001b[0muser_data\u001b[0m\u001b[0;34m)\u001b[0m\u001b[0;34m\u001b[0m\u001b[0;34m\u001b[0m\u001b[0m\n\u001b[0;32m---> 21\u001b[0;31m \u001b[0mpredictions\u001b[0m \u001b[0;34m=\u001b[0m \u001b[0muser_predicted_ratings\u001b[0m\u001b[0;34m[\u001b[0m\u001b[0mindex_of_user\u001b[0m\u001b[0;34m]\u001b[0m\u001b[0;34m.\u001b[0m\u001b[0mtolist\u001b[0m\u001b[0;34m(\u001b[0m\u001b[0;34m)\u001b[0m\u001b[0;34m.\u001b[0m\u001b[0msort_values\u001b[0m\u001b[0;34m(\u001b[0m\u001b[0mascending\u001b[0m \u001b[0;34m=\u001b[0m \u001b[0;32mFalse\u001b[0m\u001b[0;34m)\u001b[0m\u001b[0;34m\u001b[0m\u001b[0;34m\u001b[0m\u001b[0m\n\u001b[0m\u001b[1;32m     22\u001b[0m \u001b[0;34m\u001b[0m\u001b[0m\n",
      "\u001b[0;31mAttributeError\u001b[0m: 'list' object has no attribute 'sort_values'"
     ]
    }
   ],
   "source": [
    "    my_ratings = user_ratings[user_ratings['userId']==2862]\n",
    "    similar_users = user_ratings[user_ratings['movieId'].isin(my_ratings['movieId'].to_list())]\n",
    "\n",
    "    # TODO Hay mejor manera de obtener los 100 users mayor interseccion de peliculas\n",
    "    ratings_grouped = similar_users.groupby(['userId'])\n",
    "    ratings_grouped = sorted(ratings_grouped,  key=lambda x: len(x[1]), reverse=True)\n",
    "    ratings_grouped = ratings_grouped[0:100]\n",
    "    # Pisamos nos interesan solos los ids\n",
    "    users = [user_df[0] for user_df in ratings_grouped]\n",
    "    ratings_grouped = \":(\"\n",
    "    less_ratings = user_ratings[user_ratings['userId'].isin(users)]\n",
    "    # Movies X Users matrix\n",
    "    user_data = less_ratings.pivot(index = 'userId', columns = 'movieId', values = 'rating').fillna(0)\n",
    "    \n",
    "    aux = user_data.reset_index()\n",
    "    index_of_user = aux[aux['userId']==2862].index[0]\n",
    "    \n",
    "    user_similarity = cosine_similarity(user_data)\n",
    "    user_similarity[np.isnan(user_similarity)] = 0\n",
    "    user_predicted_ratings = np.dot(user_similarity, user_data)\n",
    "    predictions = user_predicted_ratings[index_of_user].tolist().sort(ascending = False)\n",
    "    "
   ]
  },
  {
   "cell_type": "code",
   "execution_count": 158,
   "id": "5300ef37-0bbf-4ff0-9fa9-6289148139ad",
   "metadata": {},
   "outputs": [
    {
     "data": {
      "text/plain": [
       "array([[164.51648734, 137.00035256,  49.82170075, ...,   4.49095806,\n",
       "          4.21840435,   2.80172795],\n",
       "       [171.75781165, 145.04180305,  51.23844915, ...,   3.52220957,\n",
       "          3.45056042,   2.2645039 ],\n",
       "       [ 31.81036537,  26.89558894,   8.94130721, ...,   0.67692318,\n",
       "          0.59815499,   0.34146169],\n",
       "       ...,\n",
       "       [203.60197958, 170.24239027,  63.51575533, ...,   4.57702244,\n",
       "          4.61339061,   3.31938519],\n",
       "       [176.81822193, 149.31732752,  52.9758087 , ...,   3.53337633,\n",
       "          3.64764367,   2.39384144],\n",
       "       [144.49794307, 120.01193603,  49.05633895, ...,   4.14405101,\n",
       "          6.01028413,   3.5323429 ]])"
      ]
     },
     "execution_count": 158,
     "metadata": {},
     "output_type": "execute_result"
    }
   ],
   "source": [
    "user_predicted_ratings"
   ]
  },
  {
   "cell_type": "code",
   "execution_count": 152,
   "id": "39dd0c4d-c08d-440a-a555-e26123e58fa4",
   "metadata": {},
   "outputs": [
    {
     "ename": "NameError",
     "evalue": "name 'predictions' is not defined",
     "output_type": "error",
     "traceback": [
      "\u001b[0;31m---------------------------------------------------------------------------\u001b[0m",
      "\u001b[0;31mNameError\u001b[0m                                 Traceback (most recent call last)",
      "\u001b[0;32m/var/folders/pm/8bj3x22x16n6qmt9sym5kn2wtj1f4g/T/ipykernel_72773/1748661853.py\u001b[0m in \u001b[0;36m<cell line: 1>\u001b[0;34m()\u001b[0m\n\u001b[0;32m----> 1\u001b[0;31m \u001b[0mtype\u001b[0m\u001b[0;34m(\u001b[0m\u001b[0mpredictions\u001b[0m\u001b[0;34m)\u001b[0m\u001b[0;34m\u001b[0m\u001b[0;34m\u001b[0m\u001b[0m\n\u001b[0m",
      "\u001b[0;31mNameError\u001b[0m: name 'predictions' is not defined"
     ]
    }
   ],
   "source": [
    "type(predictions)"
   ]
  },
  {
   "cell_type": "code",
   "execution_count": 134,
   "id": "c088349e-576d-4c31-aa57-061cdfdbcdcc",
   "metadata": {},
   "outputs": [],
   "source": [
    "asd = user_data.reset_index()"
   ]
  },
  {
   "cell_type": "code",
   "execution_count": 145,
   "id": "4fb6c683-f859-44eb-8cda-5b16ae577e17",
   "metadata": {},
   "outputs": [
    {
     "data": {
      "text/html": [
       "<div>\n",
       "<style scoped>\n",
       "    .dataframe tbody tr th:only-of-type {\n",
       "        vertical-align: middle;\n",
       "    }\n",
       "\n",
       "    .dataframe tbody tr th {\n",
       "        vertical-align: top;\n",
       "    }\n",
       "\n",
       "    .dataframe thead th {\n",
       "        text-align: right;\n",
       "    }\n",
       "</style>\n",
       "<table border=\"1\" class=\"dataframe\">\n",
       "  <thead>\n",
       "    <tr style=\"text-align: right;\">\n",
       "      <th></th>\n",
       "      <th>userId</th>\n",
       "      <th>movieId</th>\n",
       "      <th>rating</th>\n",
       "      <th>timestamp</th>\n",
       "      <th>imdbId</th>\n",
       "      <th>tmdbId</th>\n",
       "    </tr>\n",
       "  </thead>\n",
       "  <tbody>\n",
       "    <tr>\n",
       "      <th>0</th>\n",
       "      <td>1</td>\n",
       "      <td>110</td>\n",
       "      <td>1.0</td>\n",
       "      <td>1425941529</td>\n",
       "      <td>0112573</td>\n",
       "      <td>197</td>\n",
       "    </tr>\n",
       "    <tr>\n",
       "      <th>1</th>\n",
       "      <td>1</td>\n",
       "      <td>147</td>\n",
       "      <td>4.5</td>\n",
       "      <td>1425942435</td>\n",
       "      <td>0112461</td>\n",
       "      <td>10474</td>\n",
       "    </tr>\n",
       "    <tr>\n",
       "      <th>2</th>\n",
       "      <td>1</td>\n",
       "      <td>858</td>\n",
       "      <td>5.0</td>\n",
       "      <td>1425941523</td>\n",
       "      <td>0068646</td>\n",
       "      <td>238</td>\n",
       "    </tr>\n",
       "    <tr>\n",
       "      <th>3</th>\n",
       "      <td>1</td>\n",
       "      <td>1221</td>\n",
       "      <td>5.0</td>\n",
       "      <td>1425941546</td>\n",
       "      <td>0071562</td>\n",
       "      <td>240</td>\n",
       "    </tr>\n",
       "    <tr>\n",
       "      <th>4</th>\n",
       "      <td>1</td>\n",
       "      <td>1246</td>\n",
       "      <td>5.0</td>\n",
       "      <td>1425941556</td>\n",
       "      <td>0097165</td>\n",
       "      <td>207</td>\n",
       "    </tr>\n",
       "  </tbody>\n",
       "</table>\n",
       "</div>"
      ],
      "text/plain": [
       "   userId movieId  rating   timestamp   imdbId tmdbId\n",
       "0       1     110     1.0  1425941529  0112573    197\n",
       "1       1     147     4.5  1425942435  0112461  10474\n",
       "2       1     858     5.0  1425941523  0068646    238\n",
       "3       1    1221     5.0  1425941546  0071562    240\n",
       "4       1    1246     5.0  1425941556  0097165    207"
      ]
     },
     "execution_count": 145,
     "metadata": {},
     "output_type": "execute_result"
    }
   ],
   "source": [
    "user_ratings.head()"
   ]
  }
 ],
 "metadata": {
  "kernelspec": {
   "display_name": "Python 3 (ipykernel)",
   "language": "python",
   "name": "python3"
  },
  "language_info": {
   "codemirror_mode": {
    "name": "ipython",
    "version": 3
   },
   "file_extension": ".py",
   "mimetype": "text/x-python",
   "name": "python",
   "nbconvert_exporter": "python",
   "pygments_lexer": "ipython3",
   "version": "3.9.7"
  }
 },
 "nbformat": 4,
 "nbformat_minor": 5
}
