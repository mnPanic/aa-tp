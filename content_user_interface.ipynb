{
 "cells": [
  {
   "cell_type": "markdown",
   "id": "4be80f25-ad24-4346-8386-90df77604ddf",
   "metadata": {},
   "source": [
    "## Evaluating the systems\n",
    "Tomamos los usuarios que tengan x+y ratings de peliculas.\n",
    "Removemos las x peliculas de sus ratings, y pedimos las recomendaciones para las y peliculas.\\\n",
    "Del total de recomendaciones nos quedamos con el TOP z, ordenando por aparicion, y el promedio del cosine_similarity.\\\n",
    "Calculamos recall y precision, variamos x,y,z"
   ]
  },
  {
   "cell_type": "code",
   "execution_count": 1,
   "id": "3db24e22",
   "metadata": {},
   "outputs": [],
   "source": [
    "import pandas as pd\n",
    "import numpy as np\n",
    "from tqdm.notebook import tqdm\n",
    "import time\n",
    "import result_io"
   ]
  },
  {
   "cell_type": "code",
   "execution_count": 2,
   "id": "dce10f31",
   "metadata": {
    "tags": []
   },
   "outputs": [],
   "source": [
    "BASE_PATH = \"dataset\"\n",
    "movies = pd.read_csv(f\"{BASE_PATH}/movies_metadata.csv\", low_memory=False)"
   ]
  },
  {
   "cell_type": "code",
   "execution_count": 3,
   "id": "a172555f-db10-4094-b510-a869ba7f556b",
   "metadata": {},
   "outputs": [
    {
     "name": "stdout",
     "output_type": "stream",
     "text": [
      "before: 45466, after: 45436, diff: 30\n"
     ]
    }
   ],
   "source": [
    "# Sacamos las películas duplicadas, algunas como id 69234 aparecen dos veces\n",
    "len_before = len(movies)\n",
    "movies = movies.drop_duplicates(subset=[\"id\"]).reset_index()\n",
    "print(f\"before: {len_before}, after: {len(movies)}, diff: {len_before - len(movies)}\")"
   ]
  },
  {
   "cell_type": "code",
   "execution_count": 4,
   "id": "d077c5fd-6614-47a6-a08c-a040c06d0b5b",
   "metadata": {},
   "outputs": [],
   "source": [
    "real_shit_indices = pd.Series(movies.index, index=movies['id']).drop_duplicates()"
   ]
  },
  {
   "cell_type": "code",
   "execution_count": 5,
   "id": "b2b169d2",
   "metadata": {
    "tags": []
   },
   "outputs": [
    {
     "data": {
      "text/plain": [
       "(45436, 75827)"
      ]
     },
     "execution_count": 5,
     "metadata": {},
     "output_type": "execute_result"
    }
   ],
   "source": [
    "#Import TfIdfVectorizer from scikit-learn\n",
    "from sklearn.feature_extraction.text import TfidfVectorizer\n",
    "\n",
    "#Define a TF-IDF Vectorizer Object. Remove all english stop words such as 'the', 'a'\n",
    "tfidf = TfidfVectorizer(stop_words='english')\n",
    "\n",
    "#Replace NaN with an empty string\n",
    "movies['overview'] = movies['overview'].fillna('')\n",
    "\n",
    "#Construct the required TF-IDF matrix by fitting and transforming the data\n",
    "tfidf_matrix = tfidf.fit_transform(movies['overview'])\n",
    "\n",
    "#Output the shape of tfidf_matrix\n",
    "tfidf_matrix.shape"
   ]
  },
  {
   "cell_type": "code",
   "execution_count": 111,
   "id": "2fc5cfd1-5427-4162-b575-f8ccc8d79a13",
   "metadata": {},
   "outputs": [],
   "source": [
    "# Import linear_kernel\n",
    "from sklearn.metrics.pairwise import linear_kernel\n",
    "\n",
    "# Compute the cosine similarity matrix\n",
    "cosine_sim = linear_kernel(tfidf_matrix, tfidf_matrix)"
   ]
  },
  {
   "cell_type": "code",
   "execution_count": 6,
   "id": "11bb5d9b",
   "metadata": {},
   "outputs": [],
   "source": [
    "def get_recommendations_and_similarities(data, movie_id, cosine_sim):\n",
    "    # Get the movie index from dataframe\n",
    "    idx = real_shit_indices[movie_id]\n",
    "    \n",
    "    # Get the pairwsie similarity scores of all movies with that movie\n",
    "    sim_scores = list(enumerate(cosine_sim[idx]))\n",
    "\n",
    "    # Sort the movies based on the similarity scores\n",
    "    sim_scores = sorted(sim_scores, key=lambda x: x[1], reverse=True)\n",
    "\n",
    "    # Get the scores of the 10 most similar movies\n",
    "    sim_scores = sim_scores[1:11]\n",
    "    \n",
    "    rows = []\n",
    "    \n",
    "    for index, similarity in sim_scores:\n",
    "        title = data.iloc[index]['title']\n",
    "        tmdb_id = data.iloc[index]['id']\n",
    "        row = {'index':index, 'title':title, 'similarity':similarity, 'tmdbId': tmdb_id}\n",
    "        rows.append(row)\n",
    "\n",
    "    # Return the top 10 most similar movies\n",
    "    #return pd.DataFrame.from_records(rows)\n",
    "    return rows"
   ]
  },
  {
   "cell_type": "code",
   "execution_count": 5,
   "id": "33978bcf",
   "metadata": {},
   "outputs": [],
   "source": [
    "user_ratings = pd.read_csv(f\"{BASE_PATH}/ratings.csv\", dtype={'userId': int, 'movieId': str, 'rating': float,'timestamp': int})"
   ]
  },
  {
   "cell_type": "code",
   "execution_count": 6,
   "id": "af9d360a-6e80-441e-805c-ffbe92f3a618",
   "metadata": {},
   "outputs": [
    {
     "data": {
      "text/html": [
       "<div>\n",
       "<style scoped>\n",
       "    .dataframe tbody tr th:only-of-type {\n",
       "        vertical-align: middle;\n",
       "    }\n",
       "\n",
       "    .dataframe tbody tr th {\n",
       "        vertical-align: top;\n",
       "    }\n",
       "\n",
       "    .dataframe thead th {\n",
       "        text-align: right;\n",
       "    }\n",
       "</style>\n",
       "<table border=\"1\" class=\"dataframe\">\n",
       "  <thead>\n",
       "    <tr style=\"text-align: right;\">\n",
       "      <th></th>\n",
       "      <th>userId</th>\n",
       "      <th>movieId</th>\n",
       "      <th>rating</th>\n",
       "      <th>timestamp</th>\n",
       "    </tr>\n",
       "  </thead>\n",
       "  <tbody>\n",
       "    <tr>\n",
       "      <th>0</th>\n",
       "      <td>1</td>\n",
       "      <td>110</td>\n",
       "      <td>1.0</td>\n",
       "      <td>1425941529</td>\n",
       "    </tr>\n",
       "    <tr>\n",
       "      <th>1</th>\n",
       "      <td>1</td>\n",
       "      <td>147</td>\n",
       "      <td>4.5</td>\n",
       "      <td>1425942435</td>\n",
       "    </tr>\n",
       "  </tbody>\n",
       "</table>\n",
       "</div>"
      ],
      "text/plain": [
       "   userId movieId  rating   timestamp\n",
       "0       1     110     1.0  1425941529\n",
       "1       1     147     4.5  1425942435"
      ]
     },
     "execution_count": 6,
     "metadata": {},
     "output_type": "execute_result"
    }
   ],
   "source": [
    "user_ratings.head(2)"
   ]
  },
  {
   "cell_type": "code",
   "execution_count": 7,
   "id": "635ae581",
   "metadata": {},
   "outputs": [],
   "source": [
    "id_links = pd.read_csv(f\"{BASE_PATH}/links.csv\", dtype={'movieId': str, 'imdbId': str, 'tmdbId': str})"
   ]
  },
  {
   "cell_type": "code",
   "execution_count": 8,
   "id": "25058158",
   "metadata": {},
   "outputs": [
    {
     "data": {
      "text/html": [
       "<div>\n",
       "<style scoped>\n",
       "    .dataframe tbody tr th:only-of-type {\n",
       "        vertical-align: middle;\n",
       "    }\n",
       "\n",
       "    .dataframe tbody tr th {\n",
       "        vertical-align: top;\n",
       "    }\n",
       "\n",
       "    .dataframe thead th {\n",
       "        text-align: right;\n",
       "    }\n",
       "</style>\n",
       "<table border=\"1\" class=\"dataframe\">\n",
       "  <thead>\n",
       "    <tr style=\"text-align: right;\">\n",
       "      <th></th>\n",
       "      <th>movieId</th>\n",
       "      <th>imdbId</th>\n",
       "      <th>tmdbId</th>\n",
       "    </tr>\n",
       "  </thead>\n",
       "  <tbody>\n",
       "    <tr>\n",
       "      <th>0</th>\n",
       "      <td>1</td>\n",
       "      <td>0114709</td>\n",
       "      <td>862</td>\n",
       "    </tr>\n",
       "    <tr>\n",
       "      <th>1</th>\n",
       "      <td>2</td>\n",
       "      <td>0113497</td>\n",
       "      <td>8844</td>\n",
       "    </tr>\n",
       "  </tbody>\n",
       "</table>\n",
       "</div>"
      ],
      "text/plain": [
       "  movieId   imdbId tmdbId\n",
       "0       1  0114709    862\n",
       "1       2  0113497   8844"
      ]
     },
     "execution_count": 8,
     "metadata": {},
     "output_type": "execute_result"
    }
   ],
   "source": [
    "id_links.head(2)"
   ]
  },
  {
   "cell_type": "code",
   "execution_count": 9,
   "id": "db05d338-796e-489b-af8a-e67d4711dcee",
   "metadata": {},
   "outputs": [],
   "source": [
    "user_ratings = pd.merge(user_ratings, id_links, left_on='movieId', right_on='movieId', how='left')"
   ]
  },
  {
   "cell_type": "code",
   "execution_count": 10,
   "id": "4c5e7b56-2b0e-4ad4-8b23-fe1a45b75c69",
   "metadata": {},
   "outputs": [
    {
     "data": {
      "text/html": [
       "<div>\n",
       "<style scoped>\n",
       "    .dataframe tbody tr th:only-of-type {\n",
       "        vertical-align: middle;\n",
       "    }\n",
       "\n",
       "    .dataframe tbody tr th {\n",
       "        vertical-align: top;\n",
       "    }\n",
       "\n",
       "    .dataframe thead th {\n",
       "        text-align: right;\n",
       "    }\n",
       "</style>\n",
       "<table border=\"1\" class=\"dataframe\">\n",
       "  <thead>\n",
       "    <tr style=\"text-align: right;\">\n",
       "      <th></th>\n",
       "      <th>userId</th>\n",
       "      <th>movieId</th>\n",
       "      <th>rating</th>\n",
       "      <th>timestamp</th>\n",
       "      <th>imdbId</th>\n",
       "      <th>tmdbId</th>\n",
       "    </tr>\n",
       "  </thead>\n",
       "  <tbody>\n",
       "    <tr>\n",
       "      <th>0</th>\n",
       "      <td>1</td>\n",
       "      <td>110</td>\n",
       "      <td>1.0</td>\n",
       "      <td>1425941529</td>\n",
       "      <td>0112573</td>\n",
       "      <td>197</td>\n",
       "    </tr>\n",
       "    <tr>\n",
       "      <th>1</th>\n",
       "      <td>1</td>\n",
       "      <td>147</td>\n",
       "      <td>4.5</td>\n",
       "      <td>1425942435</td>\n",
       "      <td>0112461</td>\n",
       "      <td>10474</td>\n",
       "    </tr>\n",
       "  </tbody>\n",
       "</table>\n",
       "</div>"
      ],
      "text/plain": [
       "   userId movieId  rating   timestamp   imdbId tmdbId\n",
       "0       1     110     1.0  1425941529  0112573    197\n",
       "1       1     147     4.5  1425942435  0112461  10474"
      ]
     },
     "execution_count": 10,
     "metadata": {},
     "output_type": "execute_result"
    }
   ],
   "source": [
    "user_ratings.head(2)"
   ]
  },
  {
   "cell_type": "code",
   "execution_count": 13,
   "id": "7691b677-e11b-4c8f-9aa7-221df44f1866",
   "metadata": {},
   "outputs": [
    {
     "data": {
      "application/vnd.jupyter.widget-view+json": {
       "model_id": "5e8957860d7947288d9a89653e099c54",
       "version_major": 2,
       "version_minor": 0
      },
      "text/plain": [
       "HBox(children=(HTML(value=''), FloatProgress(value=0.0, max=45436.0), HTML(value='')))"
      ]
     },
     "metadata": {},
     "output_type": "display_data"
    },
    {
     "name": "stdout",
     "output_type": "stream",
     "text": [
      "\n"
     ]
    },
    {
     "ename": "NameError",
     "evalue": "name 'cosine_sim' is not defined",
     "output_type": "error",
     "traceback": [
      "\u001b[0;31m---------------------------------------------------------------------------\u001b[0m",
      "\u001b[0;31mNameError\u001b[0m                                 Traceback (most recent call last)",
      "\u001b[0;32m/var/folders/ww/8n507dkn503d0xnc7_dlmgy1lj2mm0/T/ipykernel_62520/4073027172.py\u001b[0m in \u001b[0;36m<module>\u001b[0;34m\u001b[0m\n\u001b[1;32m      5\u001b[0m \u001b[0;34m\u001b[0m\u001b[0m\n\u001b[1;32m      6\u001b[0m \u001b[0;32mfor\u001b[0m \u001b[0mmovie_id\u001b[0m \u001b[0;32min\u001b[0m \u001b[0mtqdm\u001b[0m\u001b[0;34m(\u001b[0m\u001b[0mmovie_ids\u001b[0m\u001b[0;34m)\u001b[0m\u001b[0;34m:\u001b[0m\u001b[0;34m\u001b[0m\u001b[0;34m\u001b[0m\u001b[0m\n\u001b[0;32m----> 7\u001b[0;31m     \u001b[0mrecoms_by_movie\u001b[0m\u001b[0;34m[\u001b[0m\u001b[0mmovie_id\u001b[0m\u001b[0;34m]\u001b[0m \u001b[0;34m=\u001b[0m \u001b[0mget_recommendations_and_similarities\u001b[0m\u001b[0;34m(\u001b[0m\u001b[0mmovies\u001b[0m\u001b[0;34m,\u001b[0m \u001b[0mmovie_id\u001b[0m\u001b[0;34m,\u001b[0m \u001b[0mcosine_sim\u001b[0m\u001b[0;34m)\u001b[0m\u001b[0;34m\u001b[0m\u001b[0;34m\u001b[0m\u001b[0m\n\u001b[0m",
      "\u001b[0;31mNameError\u001b[0m: name 'cosine_sim' is not defined"
     ]
    }
   ],
   "source": [
    "# Precomputamos \n",
    "movie_ids = movies[\"id\"]\n",
    "\n",
    "recoms_by_movie = {}\n",
    "\n",
    "for movie_id in tqdm(movie_ids):\n",
    "    recoms_by_movie[movie_id] = get_recommendations_and_similarities(movies, movie_id, cosine_sim)"
   ]
  },
  {
   "cell_type": "code",
   "execution_count": 146,
   "id": "463655cc-0d71-49ec-b26f-205876002674",
   "metadata": {},
   "outputs": [],
   "source": [
    "import result_io\n",
    "import json\n",
    "\n",
    "def write_recoms_by_movie(recoms: dict):\n",
    "    with open(\"results/recoms-by-movie.json\", 'w') as f:\n",
    "        json_str = json.dumps(recoms)\n",
    "        f.write(json_str)\n",
    "\n",
    "#json_str = json.dumps(recoms_by_movie)\n",
    "#write_recoms_by_movie(recoms_by_movie)\n",
    "#recoms_by_movie = result_io.read_recoms_by_movie()"
   ]
  },
  {
   "cell_type": "code",
   "execution_count": 23,
   "id": "a11c006d-ca23-4750-a4b8-92c522ec2b69",
   "metadata": {},
   "outputs": [],
   "source": [
    "def timestep(start: float, name: str) -> float:\n",
    "    now = time.time()\n",
    "    print(f\"{name}: {now - start}\")\n",
    "    return now"
   ]
  },
  {
   "cell_type": "code",
   "execution_count": 151,
   "id": "0886d697-7723-4f5c-b061-84c92217e49f",
   "metadata": {},
   "outputs": [],
   "source": [
    "def get_cached_recommendations_and_similarities(movie_id):\n",
    "    rows = recoms_by_movie[movie_id]\n",
    "    return pd.DataFrame.from_records(rows)"
   ]
  },
  {
   "cell_type": "code",
   "execution_count": 161,
   "id": "1d252130",
   "metadata": {},
   "outputs": [],
   "source": [
    "def get_user_recommendations(user, user_ratings_train=user_ratings):\n",
    "    # WARNING!\n",
    "    #\n",
    "    # La matriz de ratings no usa el mismo ID que la matriz movies_metadata\n",
    "    # En el archivo links se establece una relación entre el movieID de ratings y los IDs de TMBD e IMBD (que el primero parece ser el de movies_metadata)\n",
    "    movies_and_ratings = user_ratings_train[user_ratings_train['userId'] == user][['tmdbId','rating']]\n",
    "    out = pd.DataFrame(columns=['index', 'title', 'similarity', \"tmdbId\"])\n",
    "\n",
    "    for _, info in movies_and_ratings.iterrows():\n",
    "        # real shit indices se indexa con string, y estos son numeros i.e. '123', y movieId es un float, tonse '123.0' pincha\n",
    "        movieID = str(int(info.loc['tmdbId']))\n",
    "        rating = info.loc['rating']\n",
    "\n",
    "        recommendations = get_cached_recommendations_and_similarities(movieID)\n",
    "        \n",
    "        # Pesa la similaridad * rating, y la normaliza ( /5.0)\n",
    "        recommendations['similarity'] = recommendations['similarity'] * rating / 5.0\n",
    "\n",
    "        out = pd.concat([out,recommendations])\n",
    "        #out = out.append(recommendations, ignore_index=True)\n",
    "\n",
    "    out = out.groupby(['index','title', 'tmdbId'])\n",
    "\n",
    "    # TODO: tal vez hacer algo diferente de mean que premie que aparezca más de una vez.\n",
    "    out = out.agg({'similarity':'mean'}).rename(columns={'similarity':'mean_similarity'}).reset_index()\n",
    "    \n",
    "    out.sort_values(by='mean_similarity', ascending=False, inplace=True)\n",
    "    to_remove = pd.merge(movies_and_ratings, real_shit_indices.to_frame(), left_on='tmdbId', right_on='id', how='left')\n",
    "    \n",
    "    # Dado que le mergeamos la serie, queda la columna referenciable con el int 0 que son\n",
    "    # la lista de index del dataframe de movies\n",
    "    to_remove = to_remove[0].to_list()\n",
    "\n",
    "    out = out[~out['index'].isin(to_remove)][0:10]\n",
    "    return out"
   ]
  },
  {
   "cell_type": "code",
   "execution_count": 162,
   "id": "95dbd309-517a-477a-8728-60e16a05bc41",
   "metadata": {},
   "outputs": [
    {
     "data": {
      "text/html": [
       "<div>\n",
       "<style scoped>\n",
       "    .dataframe tbody tr th:only-of-type {\n",
       "        vertical-align: middle;\n",
       "    }\n",
       "\n",
       "    .dataframe tbody tr th {\n",
       "        vertical-align: top;\n",
       "    }\n",
       "\n",
       "    .dataframe thead th {\n",
       "        text-align: right;\n",
       "    }\n",
       "</style>\n",
       "<table border=\"1\" class=\"dataframe\">\n",
       "  <thead>\n",
       "    <tr style=\"text-align: right;\">\n",
       "      <th></th>\n",
       "      <th>index</th>\n",
       "      <th>title</th>\n",
       "      <th>tmdbId</th>\n",
       "      <th>mean_similarity</th>\n",
       "    </tr>\n",
       "  </thead>\n",
       "  <tbody>\n",
       "    <tr>\n",
       "      <th>10</th>\n",
       "      <td>1154</td>\n",
       "      <td>The Empire Strikes Back</td>\n",
       "      <td>1891</td>\n",
       "      <td>0.319849</td>\n",
       "    </tr>\n",
       "    <tr>\n",
       "      <th>16</th>\n",
       "      <td>2279</td>\n",
       "      <td>Star Trek: Insurrection</td>\n",
       "      <td>200</td>\n",
       "      <td>0.233646</td>\n",
       "    </tr>\n",
       "    <tr>\n",
       "      <th>145</th>\n",
       "      <td>30536</td>\n",
       "      <td>Star Trek Beyond</td>\n",
       "      <td>188927</td>\n",
       "      <td>0.212369</td>\n",
       "    </tr>\n",
       "    <tr>\n",
       "      <th>19</th>\n",
       "      <td>2658</td>\n",
       "      <td>Better Than Chocolate</td>\n",
       "      <td>18212</td>\n",
       "      <td>0.210309</td>\n",
       "    </tr>\n",
       "    <tr>\n",
       "      <th>144</th>\n",
       "      <td>30413</td>\n",
       "      <td>The Star Wars Holiday Special</td>\n",
       "      <td>74849</td>\n",
       "      <td>0.192172</td>\n",
       "    </tr>\n",
       "    <tr>\n",
       "      <th>43</th>\n",
       "      <td>6792</td>\n",
       "      <td>Father of the Bride</td>\n",
       "      <td>11846</td>\n",
       "      <td>0.188924</td>\n",
       "    </tr>\n",
       "    <tr>\n",
       "      <th>129</th>\n",
       "      <td>26538</td>\n",
       "      <td>Star Wars: The Force Awakens</td>\n",
       "      <td>140607</td>\n",
       "      <td>0.188655</td>\n",
       "    </tr>\n",
       "    <tr>\n",
       "      <th>4</th>\n",
       "      <td>324</td>\n",
       "      <td>Star Trek: Generations</td>\n",
       "      <td>193</td>\n",
       "      <td>0.183676</td>\n",
       "    </tr>\n",
       "    <tr>\n",
       "      <th>95</th>\n",
       "      <td>18223</td>\n",
       "      <td>Getting to Know You</td>\n",
       "      <td>125506</td>\n",
       "      <td>0.179393</td>\n",
       "    </tr>\n",
       "    <tr>\n",
       "      <th>118</th>\n",
       "      <td>23172</td>\n",
       "      <td>The Amazing Spider-Man 2</td>\n",
       "      <td>102382</td>\n",
       "      <td>0.177994</td>\n",
       "    </tr>\n",
       "  </tbody>\n",
       "</table>\n",
       "</div>"
      ],
      "text/plain": [
       "     index                          title  tmdbId  mean_similarity\n",
       "10    1154        The Empire Strikes Back    1891         0.319849\n",
       "16    2279        Star Trek: Insurrection     200         0.233646\n",
       "145  30536               Star Trek Beyond  188927         0.212369\n",
       "19    2658          Better Than Chocolate   18212         0.210309\n",
       "144  30413  The Star Wars Holiday Special   74849         0.192172\n",
       "43    6792            Father of the Bride   11846         0.188924\n",
       "129  26538   Star Wars: The Force Awakens  140607         0.188655\n",
       "4      324         Star Trek: Generations     193         0.183676\n",
       "95   18223            Getting to Know You  125506         0.179393\n",
       "118  23172       The Amazing Spider-Man 2  102382         0.177994"
      ]
     },
     "execution_count": 162,
     "metadata": {},
     "output_type": "execute_result"
    }
   ],
   "source": [
    "get_user_recommendations(2)"
   ]
  },
  {
   "cell_type": "code",
   "execution_count": 11,
   "id": "4e8d65bd-00b5-4b7f-a7c9-7719b4a652b6",
   "metadata": {},
   "outputs": [],
   "source": [
    "user_ratings_small = user_ratings[:len(user_ratings) // 2**11]\n",
    "len(user_ratings_small)\n",
    "user_ratings_small = user_ratings"
   ]
  },
  {
   "cell_type": "code",
   "execution_count": 12,
   "id": "d5d7653e-3eb3-44cf-8dfb-7b746bdf35a5",
   "metadata": {},
   "outputs": [
    {
     "name": "stdout",
     "output_type": "stream",
     "text": [
      "total: 26024289, after filter: 25981582\n"
     ]
    }
   ],
   "source": [
    "# 1. Sacar películas para las que no tenemos metadata\n",
    "# hay algunas películas como \"253768\" que están en ratings pero no en movies.\n",
    "rated_movies = user_ratings_small[\"tmdbId\"]\n",
    "rated_movies_with_metadata = rated_movies[rated_movies.isin(movies[\"id\"])]\n",
    "metadata_filtered_user_ratings = user_ratings_small[user_ratings_small[\"tmdbId\"].isin(rated_movies_with_metadata)]\n",
    "\n",
    "print(f\"total: {len(user_ratings_small)}, after filter: {len(metadata_filtered_user_ratings)}\")"
   ]
  },
  {
   "cell_type": "code",
   "execution_count": 13,
   "id": "ea02dca6-cfe5-40da-8f6a-d77bfc707405",
   "metadata": {},
   "outputs": [
    {
     "name": "stdout",
     "output_type": "stream",
     "text": [
      "total: 25981582, after filter: 25556154\n",
      "(diff = 425428)\n"
     ]
    }
   ],
   "source": [
    "# 2. Sacar los que tienen menos de 15\n",
    "user_rating_count = metadata_filtered_user_ratings.groupby([\"userId\"]).count()\n",
    "users_to_remove = user_rating_count[user_rating_count[\"movieId\"] < 15].reset_index()[\"userId\"]\n",
    "filtered_user_ratings = metadata_filtered_user_ratings[~metadata_filtered_user_ratings[\"userId\"].isin(users_to_remove)]\n",
    "\n",
    "print(f\"total: {len(metadata_filtered_user_ratings)}, after filter: {len(filtered_user_ratings)}\")\n",
    "print(f\"(diff = {len(metadata_filtered_user_ratings) - len(filtered_user_ratings)})\")"
   ]
  },
  {
   "cell_type": "code",
   "execution_count": null,
   "id": "0ff13cec-d1f2-4c63-98b3-323a56cdeacb",
   "metadata": {
    "tags": []
   },
   "outputs": [],
   "source": [
    "# 3. Sacar 10 de cada uno para test\n",
    "user_ids = filtered_user_ratings[\"userId\"].unique()\n",
    "train = filtered_user_ratings\n",
    "test = pd.DataFrame(columns=filtered_user_ratings.columns)\n",
    "\n",
    "for user_id in tqdm(user_ids):\n",
    "    movies_of_user = filtered_user_ratings[filtered_user_ratings[\"userId\"] == user_id].sample(n=10)\n",
    "    test = pd.concat([test, movies_of_user])\n",
    "\n",
    "train = train.drop(test.index)"
   ]
  },
  {
   "cell_type": "code",
   "execution_count": 14,
   "id": "bae8325b-67a7-4ac7-a212-6c321577f28e",
   "metadata": {},
   "outputs": [],
   "source": [
    "def split_into_chunks(elems: list, chunks: int):\n",
    "    chunk_size = len(elems)//chunks\n",
    "    rem = len(elems)%chunks\n",
    "    chunks_split = [ elems[chunk_size*i:chunk_size*(i+1)] for i in range(0, chunks)]\n",
    "\n",
    "    # Agregamos el resto al último\n",
    "    chunks_split[chunks-1].extend(elems[len(elems) - rem:])\n",
    "\n",
    "    return chunks_split"
   ]
  },
  {
   "cell_type": "code",
   "execution_count": 15,
   "id": "873c3ebe-9f00-40aa-aa15-2a0689d5cf35",
   "metadata": {
    "tags": []
   },
   "outputs": [
    {
     "name": "stdout",
     "output_type": "stream",
     "text": [
      "[0] start[1] start\n",
      "[2] start\n",
      "\n",
      "[3] start\n",
      "[4] start\n",
      "[5] start\n"
     ]
    },
    {
     "data": {
      "application/vnd.jupyter.widget-view+json": {
       "model_id": "333568c519be42e8a8c3844d4e09417b",
       "version_major": 2,
       "version_minor": 0
      },
      "text/plain": [
       "HBox(children=(HTML(value=' proc #1'), FloatProgress(value=0.0, max=35411.0), HTML(value='')))"
      ]
     },
     "metadata": {},
     "output_type": "display_data"
    },
    {
     "data": {
      "application/vnd.jupyter.widget-view+json": {
       "model_id": "3333932847de4b23ae891781c6ba49ba",
       "version_major": 2,
       "version_minor": 0
      },
      "text/plain": [
       "HBox(children=(HTML(value=' proc #0'), FloatProgress(value=0.0, max=35411.0), HTML(value='')))"
      ]
     },
     "metadata": {},
     "output_type": "display_data"
    },
    {
     "data": {
      "application/vnd.jupyter.widget-view+json": {
       "model_id": "6213bcad155740e0aff847427fe42f47",
       "version_major": 2,
       "version_minor": 0
      },
      "text/plain": [
       "HBox(children=(HTML(value=' proc #2'), FloatProgress(value=0.0, max=35411.0), HTML(value='')))"
      ]
     },
     "metadata": {},
     "output_type": "display_data"
    },
    {
     "data": {
      "application/vnd.jupyter.widget-view+json": {
       "model_id": "6c5cd04f04dd47e888a8d0c6b9c90ca2",
       "version_major": 2,
       "version_minor": 0
      },
      "text/plain": [
       "HBox(children=(HTML(value=' proc #4'), FloatProgress(value=0.0, max=35411.0), HTML(value='')))"
      ]
     },
     "metadata": {},
     "output_type": "display_data"
    },
    {
     "data": {
      "application/vnd.jupyter.widget-view+json": {
       "model_id": "395cb66c2787465f8c28da4a71ee995e",
       "version_major": 2,
       "version_minor": 0
      },
      "text/plain": [
       "HBox(children=(HTML(value=' proc #3'), FloatProgress(value=0.0, max=35411.0), HTML(value='')))"
      ]
     },
     "metadata": {},
     "output_type": "display_data"
    },
    {
     "data": {
      "application/vnd.jupyter.widget-view+json": {
       "model_id": "c49f94f68c8e4548bc8656bb7d50ae34",
       "version_major": 2,
       "version_minor": 0
      },
      "text/plain": [
       "HBox(children=(HTML(value=' proc #5'), FloatProgress(value=0.0, max=35413.0), HTML(value='')))"
      ]
     },
     "metadata": {},
     "output_type": "display_data"
    },
    {
     "name": "stdout",
     "output_type": "stream",
     "text": [
      "\n",
      "\n",
      "\n",
      "\n",
      "\n",
      "\n"
     ]
    },
    {
     "name": "stderr",
     "output_type": "stream",
     "text": [
      "Process Process-5:\n",
      "Process Process-6:\n",
      "Process Process-7:\n",
      "Process Process-4:\n",
      "Process Process-3:\n",
      "Process Process-2:\n",
      "Traceback (most recent call last):\n",
      "Traceback (most recent call last):\n",
      "Traceback (most recent call last):\n",
      "Traceback (most recent call last):\n",
      "Traceback (most recent call last):\n",
      "Traceback (most recent call last):\n",
      "  File \"/opt/homebrew/anaconda3/lib/python3.9/site-packages/multiprocess/process.py\", line 315, in _bootstrap\n",
      "    self.run()\n",
      "  File \"/opt/homebrew/anaconda3/lib/python3.9/site-packages/multiprocess/process.py\", line 315, in _bootstrap\n",
      "    self.run()\n",
      "  File \"/opt/homebrew/anaconda3/lib/python3.9/site-packages/multiprocess/process.py\", line 315, in _bootstrap\n",
      "    self.run()\n",
      "  File \"/opt/homebrew/anaconda3/lib/python3.9/site-packages/multiprocess/process.py\", line 315, in _bootstrap\n",
      "    self.run()\n",
      "  File \"/opt/homebrew/anaconda3/lib/python3.9/site-packages/multiprocess/process.py\", line 315, in _bootstrap\n",
      "    self.run()\n",
      "  File \"/opt/homebrew/anaconda3/lib/python3.9/site-packages/multiprocess/process.py\", line 315, in _bootstrap\n",
      "    self.run()\n",
      "  File \"/opt/homebrew/anaconda3/lib/python3.9/site-packages/multiprocess/process.py\", line 108, in run\n",
      "    self._target(*self._args, **self._kwargs)\n",
      "  File \"/opt/homebrew/anaconda3/lib/python3.9/site-packages/multiprocess/process.py\", line 108, in run\n",
      "    self._target(*self._args, **self._kwargs)\n",
      "  File \"/opt/homebrew/anaconda3/lib/python3.9/site-packages/multiprocess/process.py\", line 108, in run\n",
      "    self._target(*self._args, **self._kwargs)\n",
      "  File \"/opt/homebrew/anaconda3/lib/python3.9/site-packages/multiprocess/process.py\", line 108, in run\n",
      "    self._target(*self._args, **self._kwargs)\n",
      "  File \"/opt/homebrew/anaconda3/lib/python3.9/site-packages/multiprocess/process.py\", line 108, in run\n",
      "    self._target(*self._args, **self._kwargs)\n",
      "  File \"/opt/homebrew/anaconda3/lib/python3.9/site-packages/multiprocess/process.py\", line 108, in run\n",
      "    self._target(*self._args, **self._kwargs)\n",
      "  File \"<timed exec>\", line 12, in sample_test_ratings\n",
      "  File \"<timed exec>\", line 11, in sample_test_ratings\n",
      "  File \"<timed exec>\", line 12, in sample_test_ratings\n",
      "  File \"<timed exec>\", line 12, in sample_test_ratings\n",
      "  File \"<timed exec>\", line 11, in sample_test_ratings\n",
      "  File \"<timed exec>\", line 11, in sample_test_ratings\n",
      "  File \"/opt/homebrew/anaconda3/lib/python3.9/site-packages/pandas/core/frame.py\", line 3449, in __getitem__\n",
      "    return self._getitem_bool_array(key)\n",
      "  File \"/opt/homebrew/anaconda3/lib/python3.9/site-packages/pandas/core/ops/common.py\", line 69, in new_method\n",
      "    return method(self, other)\n",
      "  File \"/opt/homebrew/anaconda3/lib/python3.9/site-packages/pandas/core/ops/common.py\", line 69, in new_method\n",
      "    return method(self, other)\n",
      "  File \"/Users/mpanichelli/.local/lib/python3.9/site-packages/tqdm/notebook.py\", line 234, in __iter__\n",
      "    for obj in super(tqdm_notebook, self).__iter__(*args, **kwargs):\n",
      "  File \"/Users/mpanichelli/.local/lib/python3.9/site-packages/tqdm/notebook.py\", line 234, in __iter__\n",
      "    for obj in super(tqdm_notebook, self).__iter__(*args, **kwargs):\n",
      "  File \"/Users/mpanichelli/.local/lib/python3.9/site-packages/tqdm/notebook.py\", line 234, in __iter__\n",
      "    for obj in super(tqdm_notebook, self).__iter__(*args, **kwargs):\n",
      "  File \"/opt/homebrew/anaconda3/lib/python3.9/site-packages/pandas/core/frame.py\", line 3503, in _getitem_bool_array\n",
      "    indexer = key.nonzero()[0]\n",
      "  File \"/opt/homebrew/anaconda3/lib/python3.9/site-packages/pandas/core/arraylike.py\", line 32, in __eq__\n",
      "    return self._cmp_method(other, operator.eq)\n",
      "  File \"/opt/homebrew/anaconda3/lib/python3.9/site-packages/pandas/core/arraylike.py\", line 32, in __eq__\n",
      "    return self._cmp_method(other, operator.eq)\n",
      "  File \"/Users/mpanichelli/.local/lib/python3.9/site-packages/tqdm/std.py\", line 1190, in __iter__\n",
      "    self.refresh(lock_args=self.lock_args)\n",
      "  File \"/Users/mpanichelli/.local/lib/python3.9/site-packages/tqdm/std.py\", line 1190, in __iter__\n",
      "    self.refresh(lock_args=self.lock_args)\n",
      "  File \"/Users/mpanichelli/.local/lib/python3.9/site-packages/tqdm/std.py\", line 1190, in __iter__\n",
      "    self.refresh(lock_args=self.lock_args)\n",
      "KeyboardInterrupt\n",
      "  File \"/opt/homebrew/anaconda3/lib/python3.9/site-packages/pandas/core/series.py\", line 5502, in _cmp_method\n",
      "    res_values = ops.comparison_op(lvalues, rvalues, op)\n",
      "  File \"/opt/homebrew/anaconda3/lib/python3.9/site-packages/pandas/core/series.py\", line 5502, in _cmp_method\n",
      "    res_values = ops.comparison_op(lvalues, rvalues, op)\n",
      "  File \"/Users/mpanichelli/.local/lib/python3.9/site-packages/tqdm/std.py\", line 1386, in refresh\n",
      "    self.display()\n",
      "  File \"/Users/mpanichelli/.local/lib/python3.9/site-packages/tqdm/std.py\", line 1386, in refresh\n",
      "    self.display()\n",
      "  File \"/Users/mpanichelli/.local/lib/python3.9/site-packages/tqdm/std.py\", line 1386, in refresh\n",
      "    self.display()\n",
      "  File \"/opt/homebrew/anaconda3/lib/python3.9/site-packages/numpy/core/_ufunc_config.py\", line 438, in __exit__\n",
      "    def __exit__(self, *exc_info):\n",
      "  File \"/Users/mpanichelli/.local/lib/python3.9/site-packages/tqdm/notebook.py\", line 152, in display\n",
      "    pbar.value = self.n\n",
      "  File \"/opt/homebrew/anaconda3/lib/python3.9/site-packages/pandas/core/ops/array_ops.py\", line 287, in comparison_op\n",
      "    res_values = _na_arithmetic_op(lvalues, rvalues, op, is_cmp=True)\n",
      "KeyboardInterrupt\n",
      "  File \"/Users/mpanichelli/.local/lib/python3.9/site-packages/tqdm/notebook.py\", line 152, in display\n",
      "    pbar.value = self.n\n",
      "  File \"/Users/mpanichelli/.local/lib/python3.9/site-packages/tqdm/notebook.py\", line 152, in display\n",
      "    pbar.value = self.n\n",
      "  File \"/opt/homebrew/anaconda3/lib/python3.9/site-packages/traitlets/traitlets.py\", line 606, in __set__\n",
      "    self.set(obj, value)\n",
      "  File \"/opt/homebrew/anaconda3/lib/python3.9/site-packages/pandas/core/ops/array_ops.py\", line 166, in _na_arithmetic_op\n",
      "    result = func(left, right)\n",
      "  File \"/opt/homebrew/anaconda3/lib/python3.9/site-packages/traitlets/traitlets.py\", line 606, in __set__\n",
      "    self.set(obj, value)\n",
      "  File \"/opt/homebrew/anaconda3/lib/python3.9/site-packages/traitlets/traitlets.py\", line 606, in __set__\n",
      "    self.set(obj, value)\n",
      "  File \"/opt/homebrew/anaconda3/lib/python3.9/site-packages/pandas/core/computation/expressions.py\", line 239, in evaluate\n",
      "    return _evaluate(op, op_str, a, b)  # type: ignore[misc]\n",
      "  File \"/opt/homebrew/anaconda3/lib/python3.9/site-packages/traitlets/traitlets.py\", line 595, in set\n",
      "    obj._notify_trait(self.name, old_value, new_value)\n",
      "  File \"/opt/homebrew/anaconda3/lib/python3.9/site-packages/traitlets/traitlets.py\", line 595, in set\n",
      "    obj._notify_trait(self.name, old_value, new_value)\n",
      "  File \"/opt/homebrew/anaconda3/lib/python3.9/site-packages/traitlets/traitlets.py\", line 595, in set\n",
      "    obj._notify_trait(self.name, old_value, new_value)\n",
      "  File \"/opt/homebrew/anaconda3/lib/python3.9/site-packages/traitlets/traitlets.py\", line 1219, in _notify_trait\n",
      "    self.notify_change(Bunch(\n",
      "  File \"/opt/homebrew/anaconda3/lib/python3.9/site-packages/pandas/core/computation/expressions.py\", line 105, in _evaluate_numexpr\n",
      "    result = ne.evaluate(\n",
      "  File \"/opt/homebrew/anaconda3/lib/python3.9/site-packages/traitlets/traitlets.py\", line 1219, in _notify_trait\n",
      "    self.notify_change(Bunch(\n",
      "  File \"/opt/homebrew/anaconda3/lib/python3.9/site-packages/traitlets/traitlets.py\", line 1219, in _notify_trait\n",
      "    self.notify_change(Bunch(\n",
      "  File \"/opt/homebrew/anaconda3/lib/python3.9/site-packages/ipywidgets/widgets/widget.py\", line 605, in notify_change\n",
      "    self.send_state(key=name)\n",
      "  File \"/opt/homebrew/anaconda3/lib/python3.9/site-packages/numexpr/necompiler.py\", line 836, in evaluate\n",
      "    return compiled_ex(*arguments, **kwargs)\n",
      "  File \"/opt/homebrew/anaconda3/lib/python3.9/site-packages/ipywidgets/widgets/widget.py\", line 605, in notify_change\n",
      "    self.send_state(key=name)\n",
      "  File \"/opt/homebrew/anaconda3/lib/python3.9/site-packages/ipywidgets/widgets/widget.py\", line 605, in notify_change\n",
      "    self.send_state(key=name)\n",
      "  File \"/opt/homebrew/anaconda3/lib/python3.9/site-packages/ipywidgets/widgets/widget.py\", line 489, in send_state\n",
      "    self._send(msg, buffers=buffers)\n",
      "KeyboardInterrupt\n",
      "  File \"/opt/homebrew/anaconda3/lib/python3.9/site-packages/ipywidgets/widgets/widget.py\", line 489, in send_state\n",
      "    self._send(msg, buffers=buffers)\n",
      "  File \"/opt/homebrew/anaconda3/lib/python3.9/site-packages/ipywidgets/widgets/widget.py\", line 737, in _send\n",
      "    self.comm.send(data=msg, buffers=buffers)\n",
      "  File \"/opt/homebrew/anaconda3/lib/python3.9/site-packages/ipywidgets/widgets/widget.py\", line 489, in send_state\n",
      "    self._send(msg, buffers=buffers)\n",
      "  File \"/opt/homebrew/anaconda3/lib/python3.9/site-packages/ipywidgets/widgets/widget.py\", line 737, in _send\n",
      "    self.comm.send(data=msg, buffers=buffers)\n",
      "  File \"/opt/homebrew/anaconda3/lib/python3.9/site-packages/ipykernel/comm/comm.py\", line 122, in send\n",
      "    self._publish_msg('comm_msg',\n",
      "  File \"/opt/homebrew/anaconda3/lib/python3.9/site-packages/ipykernel/comm/comm.py\", line 122, in send\n",
      "    self._publish_msg('comm_msg',\n",
      "  File \"/opt/homebrew/anaconda3/lib/python3.9/site-packages/ipykernel/comm/comm.py\", line 66, in _publish_msg\n",
      "    self.kernel.session.send(self.kernel.iopub_socket, msg_type,\n",
      "  File \"/opt/homebrew/anaconda3/lib/python3.9/site-packages/ipywidgets/widgets/widget.py\", line 737, in _send\n",
      "    self.comm.send(data=msg, buffers=buffers)\n",
      "  File \"/opt/homebrew/anaconda3/lib/python3.9/site-packages/jupyter_client/session.py\", line 753, in send\n",
      "    stream.send_multipart(to_send, copy=copy)\n",
      "  File \"/opt/homebrew/anaconda3/lib/python3.9/site-packages/ipykernel/iostream.py\", line 283, in send_multipart\n",
      "    return self.io_thread.send_multipart(*args, **kwargs)\n",
      "  File \"/opt/homebrew/anaconda3/lib/python3.9/site-packages/ipykernel/comm/comm.py\", line 66, in _publish_msg\n",
      "    self.kernel.session.send(self.kernel.iopub_socket, msg_type,\n",
      "  File \"/opt/homebrew/anaconda3/lib/python3.9/site-packages/ipykernel/iostream.py\", line 223, in send_multipart\n",
      "    self.schedule(lambda : self._really_send(*args, **kwargs))\n",
      "  File \"/opt/homebrew/anaconda3/lib/python3.9/site-packages/ipykernel/comm/comm.py\", line 122, in send\n",
      "    self._publish_msg('comm_msg',\n",
      "  File \"/opt/homebrew/anaconda3/lib/python3.9/site-packages/ipykernel/iostream.py\", line 216, in schedule\n",
      "    f()\n",
      "  File \"/opt/homebrew/anaconda3/lib/python3.9/site-packages/ipykernel/iostream.py\", line 223, in <lambda>\n",
      "    self.schedule(lambda : self._really_send(*args, **kwargs))\n",
      "  File \"/opt/homebrew/anaconda3/lib/python3.9/site-packages/ipykernel/comm/comm.py\", line 66, in _publish_msg\n",
      "    self.kernel.session.send(self.kernel.iopub_socket, msg_type,\n",
      "  File \"/opt/homebrew/anaconda3/lib/python3.9/site-packages/ipykernel/iostream.py\", line 239, in _really_send\n",
      "    ctx.term()\n",
      "  File \"/opt/homebrew/anaconda3/lib/python3.9/site-packages/jupyter_client/session.py\", line 753, in send\n",
      "    stream.send_multipart(to_send, copy=copy)\n",
      "  File \"/opt/homebrew/anaconda3/lib/python3.9/site-packages/zmq/sugar/context.py\", line 183, in term\n",
      "    return super(Context, self).term()\n",
      "  File \"zmq/backend/cython/context.pyx\", line 82, in zmq.backend.cython.context.Context.term\n",
      "  File \"/opt/homebrew/anaconda3/lib/python3.9/site-packages/jupyter_client/session.py\", line 753, in send\n",
      "    stream.send_multipart(to_send, copy=copy)\n",
      "  File \"/opt/homebrew/anaconda3/lib/python3.9/site-packages/ipykernel/iostream.py\", line 283, in send_multipart\n",
      "    return self.io_thread.send_multipart(*args, **kwargs)\n",
      "  File \"zmq/backend/cython/checkrc.pxd\", line 13, in zmq.backend.cython.checkrc._check_rc\n",
      "KeyboardInterrupt\n",
      "  File \"/opt/homebrew/anaconda3/lib/python3.9/site-packages/ipykernel/iostream.py\", line 283, in send_multipart\n",
      "    return self.io_thread.send_multipart(*args, **kwargs)\n",
      "  File \"/opt/homebrew/anaconda3/lib/python3.9/site-packages/ipykernel/iostream.py\", line 223, in send_multipart\n",
      "    self.schedule(lambda : self._really_send(*args, **kwargs))\n",
      "  File \"/opt/homebrew/anaconda3/lib/python3.9/site-packages/ipykernel/iostream.py\", line 223, in send_multipart\n",
      "    self.schedule(lambda : self._really_send(*args, **kwargs))\n",
      "  File \"/opt/homebrew/anaconda3/lib/python3.9/site-packages/ipykernel/iostream.py\", line 216, in schedule\n",
      "    f()\n",
      "  File \"/opt/homebrew/anaconda3/lib/python3.9/site-packages/ipykernel/iostream.py\", line 216, in schedule\n",
      "    f()\n",
      "  File \"/opt/homebrew/anaconda3/lib/python3.9/site-packages/ipykernel/iostream.py\", line 223, in <lambda>\n",
      "    self.schedule(lambda : self._really_send(*args, **kwargs))\n",
      "  File \"/opt/homebrew/anaconda3/lib/python3.9/site-packages/ipykernel/iostream.py\", line 223, in <lambda>\n",
      "    self.schedule(lambda : self._really_send(*args, **kwargs))\n",
      "  File \"/opt/homebrew/anaconda3/lib/python3.9/site-packages/ipykernel/iostream.py\", line 239, in _really_send\n",
      "    ctx.term()\n",
      "  File \"/opt/homebrew/anaconda3/lib/python3.9/site-packages/zmq/sugar/context.py\", line 183, in term\n",
      "    return super(Context, self).term()\n",
      "  File \"/opt/homebrew/anaconda3/lib/python3.9/site-packages/ipykernel/iostream.py\", line 239, in _really_send\n",
      "    ctx.term()\n",
      "  File \"zmq/backend/cython/context.pyx\", line 82, in zmq.backend.cython.context.Context.term\n",
      "  File \"/opt/homebrew/anaconda3/lib/python3.9/site-packages/zmq/sugar/context.py\", line 183, in term\n",
      "    return super(Context, self).term()\n",
      "  File \"zmq/backend/cython/checkrc.pxd\", line 13, in zmq.backend.cython.checkrc._check_rc\n",
      "  File \"zmq/backend/cython/context.pyx\", line 82, in zmq.backend.cython.context.Context.term\n",
      "KeyboardInterrupt\n",
      "  File \"zmq/backend/cython/checkrc.pxd\", line 13, in zmq.backend.cython.checkrc._check_rc\n",
      "KeyboardInterrupt\n",
      "/opt/homebrew/anaconda3/lib/python3.9/multiprocessing/resource_tracker.py:216: UserWarning: resource_tracker: There appear to be 1 leaked semaphore objects to clean up at shutdown\n",
      "  warnings.warn('resource_tracker: There appear to be %d '\n",
      "/opt/homebrew/anaconda3/lib/python3.9/multiprocessing/resource_tracker.py:216: UserWarning: resource_tracker: There appear to be 1 leaked semaphore objects to clean up at shutdown\n",
      "  warnings.warn('resource_tracker: There appear to be %d '\n",
      "/opt/homebrew/anaconda3/lib/python3.9/multiprocessing/resource_tracker.py:216: UserWarning: resource_tracker: There appear to be 1 leaked semaphore objects to clean up at shutdown\n",
      "  warnings.warn('resource_tracker: There appear to be %d '\n",
      "/opt/homebrew/anaconda3/lib/python3.9/multiprocessing/resource_tracker.py:216: UserWarning: resource_tracker: There appear to be 1 leaked semaphore objects to clean up at shutdown\n",
      "  warnings.warn('resource_tracker: There appear to be %d '\n",
      "/opt/homebrew/anaconda3/lib/python3.9/multiprocessing/resource_tracker.py:216: UserWarning: resource_tracker: There appear to be 1 leaked semaphore objects to clean up at shutdown\n",
      "  warnings.warn('resource_tracker: There appear to be %d '\n",
      "/opt/homebrew/anaconda3/lib/python3.9/multiprocessing/resource_tracker.py:216: UserWarning: resource_tracker: There appear to be 1 leaked semaphore objects to clean up at shutdown\n",
      "  warnings.warn('resource_tracker: There appear to be %d '\n"
     ]
    },
    {
     "ename": "KeyboardInterrupt",
     "evalue": "",
     "output_type": "error",
     "traceback": [
      "\u001b[0;31m---------------------------------------------------------------------------\u001b[0m",
      "\u001b[0;31mKeyboardInterrupt\u001b[0m                         Traceback (most recent call last)",
      "\u001b[0;32m<timed exec>\u001b[0m in \u001b[0;36m<module>\u001b[0;34m\u001b[0m\n",
      "\u001b[0;32m/opt/homebrew/anaconda3/lib/python3.9/site-packages/multiprocess/process.py\u001b[0m in \u001b[0;36mjoin\u001b[0;34m(self, timeout)\u001b[0m\n\u001b[1;32m    147\u001b[0m         \u001b[0;32massert\u001b[0m \u001b[0mself\u001b[0m\u001b[0;34m.\u001b[0m\u001b[0m_parent_pid\u001b[0m \u001b[0;34m==\u001b[0m \u001b[0mos\u001b[0m\u001b[0;34m.\u001b[0m\u001b[0mgetpid\u001b[0m\u001b[0;34m(\u001b[0m\u001b[0;34m)\u001b[0m\u001b[0;34m,\u001b[0m \u001b[0;34m'can only join a child process'\u001b[0m\u001b[0;34m\u001b[0m\u001b[0;34m\u001b[0m\u001b[0m\n\u001b[1;32m    148\u001b[0m         \u001b[0;32massert\u001b[0m \u001b[0mself\u001b[0m\u001b[0;34m.\u001b[0m\u001b[0m_popen\u001b[0m \u001b[0;32mis\u001b[0m \u001b[0;32mnot\u001b[0m \u001b[0;32mNone\u001b[0m\u001b[0;34m,\u001b[0m \u001b[0;34m'can only join a started process'\u001b[0m\u001b[0;34m\u001b[0m\u001b[0;34m\u001b[0m\u001b[0m\n\u001b[0;32m--> 149\u001b[0;31m         \u001b[0mres\u001b[0m \u001b[0;34m=\u001b[0m \u001b[0mself\u001b[0m\u001b[0;34m.\u001b[0m\u001b[0m_popen\u001b[0m\u001b[0;34m.\u001b[0m\u001b[0mwait\u001b[0m\u001b[0;34m(\u001b[0m\u001b[0mtimeout\u001b[0m\u001b[0;34m)\u001b[0m\u001b[0;34m\u001b[0m\u001b[0;34m\u001b[0m\u001b[0m\n\u001b[0m\u001b[1;32m    150\u001b[0m         \u001b[0;32mif\u001b[0m \u001b[0mres\u001b[0m \u001b[0;32mis\u001b[0m \u001b[0;32mnot\u001b[0m \u001b[0;32mNone\u001b[0m\u001b[0;34m:\u001b[0m\u001b[0;34m\u001b[0m\u001b[0;34m\u001b[0m\u001b[0m\n\u001b[1;32m    151\u001b[0m             \u001b[0m_children\u001b[0m\u001b[0;34m.\u001b[0m\u001b[0mdiscard\u001b[0m\u001b[0;34m(\u001b[0m\u001b[0mself\u001b[0m\u001b[0;34m)\u001b[0m\u001b[0;34m\u001b[0m\u001b[0;34m\u001b[0m\u001b[0m\n",
      "\u001b[0;32m/opt/homebrew/anaconda3/lib/python3.9/site-packages/multiprocess/popen_fork.py\u001b[0m in \u001b[0;36mwait\u001b[0;34m(self, timeout)\u001b[0m\n\u001b[1;32m     41\u001b[0m                     \u001b[0;32mreturn\u001b[0m \u001b[0;32mNone\u001b[0m\u001b[0;34m\u001b[0m\u001b[0;34m\u001b[0m\u001b[0m\n\u001b[1;32m     42\u001b[0m             \u001b[0;31m# This shouldn't block if wait() returned successfully.\u001b[0m\u001b[0;34m\u001b[0m\u001b[0;34m\u001b[0m\u001b[0m\n\u001b[0;32m---> 43\u001b[0;31m             \u001b[0;32mreturn\u001b[0m \u001b[0mself\u001b[0m\u001b[0;34m.\u001b[0m\u001b[0mpoll\u001b[0m\u001b[0;34m(\u001b[0m\u001b[0mos\u001b[0m\u001b[0;34m.\u001b[0m\u001b[0mWNOHANG\u001b[0m \u001b[0;32mif\u001b[0m \u001b[0mtimeout\u001b[0m \u001b[0;34m==\u001b[0m \u001b[0;36m0.0\u001b[0m \u001b[0;32melse\u001b[0m \u001b[0;36m0\u001b[0m\u001b[0;34m)\u001b[0m\u001b[0;34m\u001b[0m\u001b[0;34m\u001b[0m\u001b[0m\n\u001b[0m\u001b[1;32m     44\u001b[0m         \u001b[0;32mreturn\u001b[0m \u001b[0mself\u001b[0m\u001b[0;34m.\u001b[0m\u001b[0mreturncode\u001b[0m\u001b[0;34m\u001b[0m\u001b[0;34m\u001b[0m\u001b[0m\n\u001b[1;32m     45\u001b[0m \u001b[0;34m\u001b[0m\u001b[0m\n",
      "\u001b[0;32m/opt/homebrew/anaconda3/lib/python3.9/site-packages/multiprocess/popen_fork.py\u001b[0m in \u001b[0;36mpoll\u001b[0;34m(self, flag)\u001b[0m\n\u001b[1;32m     25\u001b[0m         \u001b[0;32mif\u001b[0m \u001b[0mself\u001b[0m\u001b[0;34m.\u001b[0m\u001b[0mreturncode\u001b[0m \u001b[0;32mis\u001b[0m \u001b[0;32mNone\u001b[0m\u001b[0;34m:\u001b[0m\u001b[0;34m\u001b[0m\u001b[0;34m\u001b[0m\u001b[0m\n\u001b[1;32m     26\u001b[0m             \u001b[0;32mtry\u001b[0m\u001b[0;34m:\u001b[0m\u001b[0;34m\u001b[0m\u001b[0;34m\u001b[0m\u001b[0m\n\u001b[0;32m---> 27\u001b[0;31m                 \u001b[0mpid\u001b[0m\u001b[0;34m,\u001b[0m \u001b[0msts\u001b[0m \u001b[0;34m=\u001b[0m \u001b[0mos\u001b[0m\u001b[0;34m.\u001b[0m\u001b[0mwaitpid\u001b[0m\u001b[0;34m(\u001b[0m\u001b[0mself\u001b[0m\u001b[0;34m.\u001b[0m\u001b[0mpid\u001b[0m\u001b[0;34m,\u001b[0m \u001b[0mflag\u001b[0m\u001b[0;34m)\u001b[0m\u001b[0;34m\u001b[0m\u001b[0;34m\u001b[0m\u001b[0m\n\u001b[0m\u001b[1;32m     28\u001b[0m             \u001b[0;32mexcept\u001b[0m \u001b[0mOSError\u001b[0m\u001b[0;34m:\u001b[0m\u001b[0;34m\u001b[0m\u001b[0;34m\u001b[0m\u001b[0m\n\u001b[1;32m     29\u001b[0m                 \u001b[0;31m# Child process not yet created. See #1731717\u001b[0m\u001b[0;34m\u001b[0m\u001b[0;34m\u001b[0m\u001b[0m\n",
      "\u001b[0;31mKeyboardInterrupt\u001b[0m: "
     ]
    }
   ],
   "source": [
    "%%time\n",
    "# 3. Sacar 10 de cada uno para test\n",
    "\n",
    "from multiprocess import Process, Manager\n",
    "from typing import List\n",
    "# https://stackoverflow.com/questions/10415028/how-can-i-recover-the-return-value-of-a-function-passed-to-multiprocessing-proce\n",
    "\n",
    "def sample_test_ratings(procnum: int, return_dict, users: List[int]):\n",
    "    print(f\"[{procnum}] start\")\n",
    "    test = pd.DataFrame(columns=filtered_user_ratings.columns)\n",
    "\n",
    "    for user_id in tqdm(users, position=procnum, desc=f\" proc #{procnum}\"):\n",
    "        movies_of_user = filtered_user_ratings[filtered_user_ratings[\"userId\"] == user_id].sample(n=10)\n",
    "        test = pd.concat([test, movies_of_user])\n",
    "\n",
    "    return_dict[procnum] = test\n",
    "    print(f\"[{procnum}] finish\")\n",
    "\n",
    "user_ids = list(filtered_user_ratings[\"userId\"].unique())\n",
    "users_split = split_into_chunks(user_ids, 6)\n",
    "\n",
    "procs = []\n",
    "manager = Manager()\n",
    "return_dict = manager.dict()\n",
    "for i, chunk in enumerate(users_split):\n",
    "    p = Process(target=sample_test_ratings, args=(i, return_dict, chunk))\n",
    "    p.start()\n",
    "    procs.append(p)\n",
    "\n",
    "for p in procs:\n",
    "    p.join()\n",
    "\n",
    "test = pd.DataFrame(columns=filtered_user_ratings.columns)\n",
    "for return_value in return_dict.values():\n",
    "    test = pd.concat([test, return_value])\n",
    "    \n",
    "train = filtered_user_ratings.drop(test.index)\n",
    "\n",
    "print(\"Finished!\")"
   ]
  },
  {
   "cell_type": "code",
   "execution_count": 34,
   "id": "f558633a-43c6-46cb-8a62-13a836ac98e8",
   "metadata": {
    "tags": []
   },
   "outputs": [],
   "source": [
    "train.to_csv(\"dfs/content-train.csv\")\n",
    "test.to_csv(\"dfs/content-test.csv\")"
   ]
  },
  {
   "cell_type": "code",
   "execution_count": 64,
   "id": "7999b95d-419a-4474-ada2-56e1de9cab4a",
   "metadata": {},
   "outputs": [
    {
     "name": "stderr",
     "output_type": "stream",
     "text": [
      "/opt/homebrew/anaconda3/lib/python3.9/site-packages/numpy/lib/arraysetops.py:583: FutureWarning: elementwise comparison failed; returning scalar instead, but in the future will perform elementwise comparison\n",
      "  mask |= (ar1 == a)\n"
     ]
    }
   ],
   "source": [
    "train = pd.read_csv(\"dfs/content-train.csv\", index_col=0, dtype={\"tmdbId\": str})\n",
    "test = pd.read_csv(\"dfs/content-test.csv\", index_col=0, dtype={\"tmdbId\": str})"
   ]
  },
  {
   "cell_type": "code",
   "execution_count": 65,
   "id": "cf53dee6-dc80-4562-b820-5c1cd260ac03",
   "metadata": {},
   "outputs": [
    {
     "name": "stdout",
     "output_type": "stream",
     "text": [
      "<class 'pandas.core.frame.DataFrame'>\n",
      "Int64Index: 23431474 entries, 3 to 26024288\n",
      "Data columns (total 6 columns):\n",
      " #   Column     Dtype  \n",
      "---  ------     -----  \n",
      " 0   userId     int64  \n",
      " 1   movieId    int64  \n",
      " 2   rating     float64\n",
      " 3   timestamp  int64  \n",
      " 4   imdbId     int64  \n",
      " 5   tmdbId     object \n",
      "dtypes: float64(1), int64(4), object(1)\n",
      "memory usage: 1.2+ GB\n"
     ]
    }
   ],
   "source": [
    "#train[train[\"userId\"] == 67848]\n",
    "#|135804||203267|\n",
    "#get_user_recommendations(1, train)"
   ]
  },
  {
   "cell_type": "code",
   "execution_count": 163,
   "id": "90a43d30-02d6-46e8-b1f4-1f0bfa8b2f79",
   "metadata": {},
   "outputs": [
    {
     "name": "stdout",
     "output_type": "stream",
     "text": [
      "[0]: start\n",
      "[1]: start\n",
      "[2]: start\n",
      "[3]: start\n"
     ]
    },
    {
     "data": {
      "application/vnd.jupyter.widget-view+json": {
       "model_id": "a7c8b03dc72a48f783acae004cbfba2e",
       "version_major": 2,
       "version_minor": 0
      },
      "text/plain": [
       "HBox(children=(HTML(value=' proc #0'), FloatProgress(value=0.0, max=53117.0), HTML(value='')))"
      ]
     },
     "metadata": {},
     "output_type": "display_data"
    },
    {
     "data": {
      "application/vnd.jupyter.widget-view+json": {
       "model_id": "52943032e43149df9b149cb46cc91888",
       "version_major": 2,
       "version_minor": 0
      },
      "text/plain": [
       "HBox(children=(HTML(value=' proc #1'), FloatProgress(value=0.0, max=53117.0), HTML(value='')))"
      ]
     },
     "metadata": {},
     "output_type": "display_data"
    },
    {
     "data": {
      "application/vnd.jupyter.widget-view+json": {
       "model_id": "f4448715260d41208d080788f4b6dc40",
       "version_major": 2,
       "version_minor": 0
      },
      "text/plain": [
       "HBox(children=(HTML(value=' proc #2'), FloatProgress(value=0.0, max=53117.0), HTML(value='')))"
      ]
     },
     "metadata": {},
     "output_type": "display_data"
    },
    {
     "data": {
      "application/vnd.jupyter.widget-view+json": {
       "model_id": "947924eec075486d921448b71d5fb3fc",
       "version_major": 2,
       "version_minor": 0
      },
      "text/plain": [
       "HBox(children=(HTML(value=' proc #3'), FloatProgress(value=0.0, max=53117.0), HTML(value='')))"
      ]
     },
     "metadata": {},
     "output_type": "display_data"
    },
    {
     "name": "stdout",
     "output_type": "stream",
     "text": [
      "\n",
      "[3]: finish\n",
      "\n",
      "[1]: finish\n",
      "\n",
      "[2]: finish\n",
      "\n",
      "[0]: finish\n",
      "Finished!\n",
      "CPU times: user 1min 53s, sys: 1min 2s, total: 2min 55s\n",
      "Wall time: 2h 32min 37s\n"
     ]
    }
   ],
   "source": [
    "%%time\n",
    "from multiprocess import Process, Manager\n",
    "from typing import List\n",
    "# https://stackoverflow.com/questions/10415028/how-can-i-recover-the-return-value-of-a-function-passed-to-multiprocessing-proce\n",
    "\n",
    "def predict(i: int, return_dict, users: List[int]):\n",
    "    actual = []\n",
    "    predicted = []\n",
    "    print(f\"[{i}]: start\")\n",
    "    for user_id in tqdm(users, position=i, desc=f\" proc #{i}\"):\n",
    "        predicted_movies = get_user_recommendations(user_id, train)[\"tmdbId\"]\n",
    "        actual_movies = test[test[\"userId\"] == user_id][\"tmdbId\"]\n",
    "        \n",
    "        predicted.append(list(predicted_movies))\n",
    "        actual.append(list(actual_movies))\n",
    "        \n",
    "    return_dict[i] = {\n",
    "        \"pred\": predicted,\n",
    "        \"actual\": actual,\n",
    "    }\n",
    "\n",
    "    print(f\"[{i}]: finish\")\n",
    "\n",
    "users_split = split_into_chunks(list(train[\"userId\"].unique()), 4)\n",
    "\n",
    "procs = []\n",
    "manager = Manager()\n",
    "return_dict = manager.dict()\n",
    "for i, chunk in enumerate(users_split):\n",
    "    p = Process(target=predict, args=(i, return_dict, chunk))\n",
    "    p.start()\n",
    "    procs.append(p)\n",
    "\n",
    "for p in procs:\n",
    "    p.join()\n",
    "\n",
    "predicted = []\n",
    "actual = []\n",
    "\n",
    "for return_value in return_dict.values():\n",
    "    predicted.extend(return_value[\"pred\"])\n",
    "    actual.extend(return_value[\"actual\"])\n",
    "print(\"Finished!\")"
   ]
  },
  {
   "cell_type": "code",
   "execution_count": 164,
   "id": "02848845-a27e-4acb-91be-30c3d02e176e",
   "metadata": {},
   "outputs": [],
   "source": [
    "import result_io\n",
    "result_io.write_results(result_io.NAME_CONTENT, predicted, actual)"
   ]
  },
  {
   "cell_type": "markdown",
   "id": "147c1367-9161-4900-b22e-e810e665790b",
   "metadata": {},
   "source": [
    "TODO: se está rompiendo porque hay ratings para peliculas que no aparecen en movies. Filtrar user ratings para que no los tenga.\n",
    "Si sacamos muchas muchas, hay algo raro, si son pocas, debe ser un error del dataset."
   ]
  },
  {
   "cell_type": "code",
   "execution_count": 166,
   "id": "0db57ad9-7f94-41cc-81d8-eca1f83129eb",
   "metadata": {},
   "outputs": [
    {
     "data": {
      "text/plain": [
       "(0.005652072984435974, 0.005652072984435974)"
      ]
     },
     "execution_count": 166,
     "metadata": {},
     "output_type": "execute_result"
    }
   ],
   "source": [
    "import average_precision\n",
    "import recmetrics.metrics\n",
    "\n",
    "mark = recmetrics.metrics.mark(actual, predicted, k=10)\n",
    "mapk = average_precision.mapk(actual, predicted, k=10)\n",
    "mark, mapk"
   ]
  },
  {
   "cell_type": "code",
   "execution_count": null,
   "id": "b29190aa-3d89-4e04-9168-8f1843e21722",
   "metadata": {},
   "outputs": [],
   "source": []
  }
 ],
 "metadata": {
  "kernelspec": {
   "display_name": "Python 3 (ipykernel)",
   "language": "python",
   "name": "python3"
  },
  "language_info": {
   "codemirror_mode": {
    "name": "ipython",
    "version": 3
   },
   "file_extension": ".py",
   "mimetype": "text/x-python",
   "name": "python",
   "nbconvert_exporter": "python",
   "pygments_lexer": "ipython3",
   "version": "3.9.7"
  }
 },
 "nbformat": 4,
 "nbformat_minor": 5
}
