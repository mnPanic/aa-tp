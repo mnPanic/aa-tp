{
 "cells": [
  {
   "cell_type": "markdown",
   "id": "4be80f25-ad24-4346-8386-90df77604ddf",
   "metadata": {},
   "source": [
    "## Evaluating the systems\n",
    "Tomamos los usuarios que tengan x+y ratings de peliculas.\n",
    "Removemos las x peliculas de sus ratings, y pedimos las recomendaciones para las y peliculas.\\\n",
    "Del total de recomendaciones nos quedamos con el TOP z, ordenando por aparicion, y el promedio del cosine_similarity.\\\n",
    "Calculamos recall y precision, variamos x,y,z"
   ]
  },
  {
   "cell_type": "code",
   "execution_count": 1,
   "id": "3db24e22",
   "metadata": {},
   "outputs": [],
   "source": [
    "import pandas as pd\n",
    "import numpy as np\n",
    "from tqdm.notebook import tqdm"
   ]
  },
  {
   "cell_type": "code",
   "execution_count": 2,
   "id": "dce10f31",
   "metadata": {
    "tags": []
   },
   "outputs": [],
   "source": [
    "BASE_PATH = \"dataset\"\n",
    "movies = pd.read_csv(f\"{BASE_PATH}/movies_metadata.csv\", low_memory=False)"
   ]
  },
  {
   "cell_type": "code",
   "execution_count": 3,
   "id": "a172555f-db10-4094-b510-a869ba7f556b",
   "metadata": {},
   "outputs": [
    {
     "name": "stdout",
     "output_type": "stream",
     "text": [
      "before: 45466, after: 45436, diff: 30\n"
     ]
    }
   ],
   "source": [
    "# Sacamos las películas duplicadas, algunas como id 69234 aparecen dos veces\n",
    "len_before = len(movies)\n",
    "movies = movies.drop_duplicates(subset=[\"id\"])\n",
    "print(f\"before: {len_before}, after: {len(movies)}, diff: {len_before - len(movies)}\")"
   ]
  },
  {
   "cell_type": "code",
   "execution_count": 4,
   "id": "d077c5fd-6614-47a6-a08c-a040c06d0b5b",
   "metadata": {},
   "outputs": [],
   "source": [
    "real_shit_indices = pd.Series(movies.index, index=movies['id']).drop_duplicates()"
   ]
  },
  {
   "cell_type": "code",
   "execution_count": 5,
   "id": "b2b169d2",
   "metadata": {
    "tags": []
   },
   "outputs": [
    {
     "data": {
      "text/plain": [
       "(45436, 75827)"
      ]
     },
     "execution_count": 5,
     "metadata": {},
     "output_type": "execute_result"
    }
   ],
   "source": [
    "#Import TfIdfVectorizer from scikit-learn\n",
    "from sklearn.feature_extraction.text import TfidfVectorizer\n",
    "\n",
    "#Define a TF-IDF Vectorizer Object. Remove all english stop words such as 'the', 'a'\n",
    "tfidf = TfidfVectorizer(stop_words='english')\n",
    "\n",
    "#Replace NaN with an empty string\n",
    "movies['overview'] = movies['overview'].fillna('')\n",
    "\n",
    "#Construct the required TF-IDF matrix by fitting and transforming the data\n",
    "tfidf_matrix = tfidf.fit_transform(movies['overview'])\n",
    "\n",
    "#Output the shape of tfidf_matrix\n",
    "tfidf_matrix.shape"
   ]
  },
  {
   "cell_type": "code",
   "execution_count": null,
   "id": "2fc5cfd1-5427-4162-b575-f8ccc8d79a13",
   "metadata": {},
   "outputs": [],
   "source": [
    "# Import linear_kernel\n",
    "from sklearn.metrics.pairwise import linear_kernel\n",
    "\n",
    "# Compute the cosine similarity matrix\n",
    "cosine_sim = linear_kernel(tfidf_matrix, tfidf_matrix)"
   ]
  },
  {
   "cell_type": "code",
   "execution_count": null,
   "id": "11bb5d9b",
   "metadata": {},
   "outputs": [],
   "source": [
    "def get_recommendations_and_similarities(data, movie_id, cosine_sim):\n",
    "    # Get the movie index from dataframe\n",
    "    idx = real_shit_indices[movie_id]\n",
    "    \n",
    "    # Get the pairwsie similarity scores of all movies with that movie\n",
    "    sim_scores = list(enumerate(cosine_sim[idx]))\n",
    "    try:\n",
    "        # Sort the movies based on the similarity scores\n",
    "        sim_scores = sorted(sim_scores, key=lambda x: x[1], reverse=True)\n",
    "    \n",
    "    except ValueError as e:\n",
    "        print(f\"exception! movie_id:{movie_id} idx:{idx}\")\n",
    "        raise(e)\n",
    "\n",
    "    # Get the scores of the 10 most similar movies\n",
    "    sim_scores = sim_scores[1:11]\n",
    "    \n",
    "    rows = []\n",
    "    \n",
    "    for index, similarity in sim_scores:\n",
    "        title = data.iloc[index]['title']\n",
    "        tmdb_id = data.iloc[index]['id']\n",
    "        # TODO ¿ tener movieId o Index (id fila) ?\n",
    "        row = {'index':index, 'title':title, 'similarity':similarity, 'tmdbId': tmdb_id}\n",
    "        rows.append(row)\n",
    "\n",
    "    # Return the top 10 most similar movies\n",
    "    return pd.DataFrame.from_records(rows)"
   ]
  },
  {
   "cell_type": "code",
   "execution_count": null,
   "id": "33978bcf",
   "metadata": {},
   "outputs": [],
   "source": [
    "user_ratings = pd.read_csv(f\"{BASE_PATH}/ratings.csv\", dtype={'userId': int, 'movieId': str, 'rating': float,'timestamp': int})"
   ]
  },
  {
   "cell_type": "code",
   "execution_count": null,
   "id": "af9d360a-6e80-441e-805c-ffbe92f3a618",
   "metadata": {},
   "outputs": [],
   "source": [
    "user_ratings.head(2)"
   ]
  },
  {
   "cell_type": "code",
   "execution_count": null,
   "id": "635ae581",
   "metadata": {},
   "outputs": [],
   "source": [
    "id_links = pd.read_csv(f\"{BASE_PATH}/links.csv\", dtype={'movieId': str, 'imdbId': str, 'tmdbId': str})"
   ]
  },
  {
   "cell_type": "code",
   "execution_count": null,
   "id": "25058158",
   "metadata": {},
   "outputs": [],
   "source": [
    "id_links.head(2)"
   ]
  },
  {
   "cell_type": "code",
   "execution_count": null,
   "id": "db05d338-796e-489b-af8a-e67d4711dcee",
   "metadata": {},
   "outputs": [],
   "source": [
    "user_ratings = pd.merge(user_ratings, id_links, left_on='movieId', right_on='movieId', how='left')"
   ]
  },
  {
   "cell_type": "code",
   "execution_count": null,
   "id": "4c5e7b56-2b0e-4ad4-8b23-fe1a45b75c69",
   "metadata": {},
   "outputs": [],
   "source": [
    "user_ratings.head(2)"
   ]
  },
  {
   "cell_type": "code",
   "execution_count": null,
   "id": "1d252130",
   "metadata": {},
   "outputs": [],
   "source": [
    "def get_user_recommendations(user, user_ratings_train=user_ratings):\n",
    "    # WARNING!\n",
    "    #\n",
    "    # La matriz de ratings no usa el mismo ID que la matriz movies_metadata\n",
    "    # En el archivo links se establece una relación entre el movieID de ratings y los IDs de TMBD e IMBD (que el primero parece ser el de movies_metadata)\n",
    "    movies_and_ratings = user_ratings_train[user_ratings_train['userId'] == user][['tmdbId','rating']]\n",
    "    out = pd.DataFrame(columns=['index', 'title', 'similarity', \"tmdbId\"])\n",
    "    \n",
    "    for _, info in movies_and_ratings.iterrows():\n",
    "        # real shit indices se indexa con string, y estos son numeros i.e. '123', y movieId es un float, tonse '123.0' pincha\n",
    "        movieID = str(int(info.loc['tmdbId']))\n",
    "        rating = info.loc['rating']\n",
    "        # ID = id_links[id_links[\"movieId\"] == movieID][\"tmdbId\"].iloc[0]\n",
    "        recommendations = get_recommendations_and_similarities(movies, movieID, cosine_sim)\n",
    "        # Pesa la similaridad * rating, y la normaliza ( /5.0)\n",
    "        recommendations['similarity'] = recommendations['similarity'] * rating / 5.0\n",
    "        out = pd.concat([out,recommendations])\n",
    "        #out = out.append(recommendations, ignore_index=True)\n",
    "    \n",
    "    out = out.groupby(['index','title', 'tmdbId'])\n",
    "    #out['aux'] = None\n",
    "    #out = out.agg({'similarity':'mean', 'aux':'size'}).rename(columns={'similarity':'mean_similarity','aux':'count'}).reset_index()\n",
    "    out = out.agg({'similarity':'mean'}).rename(columns={'similarity':'mean_similarity'}).reset_index()\n",
    "    \n",
    "    #out.sort_values(by='count', ascending=False, inplace=True)\n",
    "    out.sort_values(by='mean_similarity', ascending=False, inplace=True)\n",
    "    to_remove = pd.merge(movies_and_ratings, real_shit_indices.to_frame(), left_on='tmdbId', right_on='id', how='left')\n",
    "    # Dado que le mergeamos la serie, queda la columna referenciable con el int 0 que son la lista de index del dataframe de movies\n",
    "    to_remove = to_remove[0].to_list()\n",
    "    \n",
    "    out = out[~out['index'].isin(to_remove)][0:10]\n",
    "    \n",
    "    \n",
    "    return out"
   ]
  },
  {
   "cell_type": "code",
   "execution_count": null,
   "id": "95dbd309-517a-477a-8728-60e16a05bc41",
   "metadata": {},
   "outputs": [],
   "source": [
    "get_user_recommendations(2)"
   ]
  },
  {
   "cell_type": "code",
   "execution_count": null,
   "id": "4e8d65bd-00b5-4b7f-a7c9-7719b4a652b6",
   "metadata": {},
   "outputs": [],
   "source": [
    "user_ratings_small = user_ratings[:len(user_ratings) // 2**11]\n",
    "len(user_ratings_small)\n",
    "user_ratings_small = user_ratings"
   ]
  },
  {
   "cell_type": "code",
   "execution_count": null,
   "id": "d5d7653e-3eb3-44cf-8dfb-7b746bdf35a5",
   "metadata": {},
   "outputs": [],
   "source": [
    "# 1. Sacar películas para las que no tenemos metadata\n",
    "# hay algunas películas como \"253768\" que están en ratings pero no en movies.\n",
    "rated_movies = user_ratings_small[\"tmdbId\"]\n",
    "rated_movies_with_metadata = rated_movies[rated_movies.isin(movies[\"id\"])]\n",
    "metadata_filtered_user_ratings = user_ratings_small[user_ratings_small[\"tmdbId\"].isin(rated_movies_with_metadata)]\n",
    "print(f\"total: {len(user_ratings_small)}, after filter: {len(metadata_filtered_user_ratings)}\")"
   ]
  },
  {
   "cell_type": "code",
   "execution_count": null,
   "id": "ea02dca6-cfe5-40da-8f6a-d77bfc707405",
   "metadata": {},
   "outputs": [],
   "source": [
    "# 2. Sacar los que tienen menos de 15\n",
    "user_rating_count = metadata_filtered_user_ratings.groupby([\"userId\"]).count()\n",
    "users_to_remove = user_rating_count[user_rating_count[\"movieId\"] < 15].reset_index()[\"userId\"]\n",
    "filtered_user_ratings = metadata_filtered_user_ratings[~metadata_filtered_user_ratings[\"userId\"].isin(users_to_remove)]\n",
    "print(f\"total: {len(metadata_filtered_user_ratings)}, after filter: {len(filtered_user_ratings)}\")\n",
    "print(f\"(diff = {len(metadata_filtered_user_ratings) - len(filtered_user_ratings)})\")"
   ]
  },
  {
   "cell_type": "code",
   "execution_count": 27,
   "id": "0ff13cec-d1f2-4c63-98b3-323a56cdeacb",
   "metadata": {},
   "outputs": [
    {
     "name": "stderr",
     "output_type": "stream",
     "text": [
      "  1%|█▎                                                                                                                                 | 2219/212468 [00:23<37:06, 94.45it/s]\n"
     ]
    },
    {
     "ename": "KeyboardInterrupt",
     "evalue": "",
     "output_type": "error",
     "traceback": [
      "\u001b[0;31m---------------------------------------------------------------------------\u001b[0m",
      "\u001b[0;31mKeyboardInterrupt\u001b[0m                         Traceback (most recent call last)",
      "\u001b[0;32m/var/folders/ww/8n507dkn503d0xnc7_dlmgy1lj2mm0/T/ipykernel_18999/2661344611.py\u001b[0m in \u001b[0;36m<module>\u001b[0;34m\u001b[0m\n\u001b[1;32m      5\u001b[0m \u001b[0;34m\u001b[0m\u001b[0m\n\u001b[1;32m      6\u001b[0m \u001b[0;32mfor\u001b[0m \u001b[0muser_id\u001b[0m \u001b[0;32min\u001b[0m \u001b[0mtqdm\u001b[0m\u001b[0;34m(\u001b[0m\u001b[0muser_ids\u001b[0m\u001b[0;34m)\u001b[0m\u001b[0;34m:\u001b[0m\u001b[0;34m\u001b[0m\u001b[0;34m\u001b[0m\u001b[0m\n\u001b[0;32m----> 7\u001b[0;31m     \u001b[0mmovies_of_user\u001b[0m \u001b[0;34m=\u001b[0m \u001b[0mfiltered_user_ratings\u001b[0m\u001b[0;34m[\u001b[0m\u001b[0mfiltered_user_ratings\u001b[0m\u001b[0;34m[\u001b[0m\u001b[0;34m\"userId\"\u001b[0m\u001b[0;34m]\u001b[0m \u001b[0;34m==\u001b[0m \u001b[0muser_id\u001b[0m\u001b[0;34m]\u001b[0m\u001b[0;34m.\u001b[0m\u001b[0msample\u001b[0m\u001b[0;34m(\u001b[0m\u001b[0mn\u001b[0m\u001b[0;34m=\u001b[0m\u001b[0;36m10\u001b[0m\u001b[0;34m)\u001b[0m\u001b[0;34m\u001b[0m\u001b[0;34m\u001b[0m\u001b[0m\n\u001b[0m\u001b[1;32m      8\u001b[0m     \u001b[0mtest\u001b[0m \u001b[0;34m=\u001b[0m \u001b[0mpd\u001b[0m\u001b[0;34m.\u001b[0m\u001b[0mconcat\u001b[0m\u001b[0;34m(\u001b[0m\u001b[0;34m[\u001b[0m\u001b[0mtest\u001b[0m\u001b[0;34m,\u001b[0m \u001b[0mmovies_of_user\u001b[0m\u001b[0;34m]\u001b[0m\u001b[0;34m)\u001b[0m\u001b[0;34m\u001b[0m\u001b[0;34m\u001b[0m\u001b[0m\n\u001b[1;32m      9\u001b[0m \u001b[0;34m\u001b[0m\u001b[0m\n",
      "\u001b[0;32m/opt/homebrew/anaconda3/lib/python3.9/site-packages/pandas/core/frame.py\u001b[0m in \u001b[0;36m__getitem__\u001b[0;34m(self, key)\u001b[0m\n\u001b[1;32m   3447\u001b[0m         \u001b[0;31m# Do we have a (boolean) 1d indexer?\u001b[0m\u001b[0;34m\u001b[0m\u001b[0;34m\u001b[0m\u001b[0m\n\u001b[1;32m   3448\u001b[0m         \u001b[0;32mif\u001b[0m \u001b[0mcom\u001b[0m\u001b[0;34m.\u001b[0m\u001b[0mis_bool_indexer\u001b[0m\u001b[0;34m(\u001b[0m\u001b[0mkey\u001b[0m\u001b[0;34m)\u001b[0m\u001b[0;34m:\u001b[0m\u001b[0;34m\u001b[0m\u001b[0;34m\u001b[0m\u001b[0m\n\u001b[0;32m-> 3449\u001b[0;31m             \u001b[0;32mreturn\u001b[0m \u001b[0mself\u001b[0m\u001b[0;34m.\u001b[0m\u001b[0m_getitem_bool_array\u001b[0m\u001b[0;34m(\u001b[0m\u001b[0mkey\u001b[0m\u001b[0;34m)\u001b[0m\u001b[0;34m\u001b[0m\u001b[0;34m\u001b[0m\u001b[0m\n\u001b[0m\u001b[1;32m   3450\u001b[0m \u001b[0;34m\u001b[0m\u001b[0m\n\u001b[1;32m   3451\u001b[0m         \u001b[0;31m# We are left with two options: a single key, and a collection of keys,\u001b[0m\u001b[0;34m\u001b[0m\u001b[0;34m\u001b[0m\u001b[0m\n",
      "\u001b[0;32m/opt/homebrew/anaconda3/lib/python3.9/site-packages/pandas/core/frame.py\u001b[0m in \u001b[0;36m_getitem_bool_array\u001b[0;34m(self, key)\u001b[0m\n\u001b[1;32m   3501\u001b[0m         \u001b[0;31m# be reindexed to match DataFrame rows\u001b[0m\u001b[0;34m\u001b[0m\u001b[0;34m\u001b[0m\u001b[0m\n\u001b[1;32m   3502\u001b[0m         \u001b[0mkey\u001b[0m \u001b[0;34m=\u001b[0m \u001b[0mcheck_bool_indexer\u001b[0m\u001b[0;34m(\u001b[0m\u001b[0mself\u001b[0m\u001b[0;34m.\u001b[0m\u001b[0mindex\u001b[0m\u001b[0;34m,\u001b[0m \u001b[0mkey\u001b[0m\u001b[0;34m)\u001b[0m\u001b[0;34m\u001b[0m\u001b[0;34m\u001b[0m\u001b[0m\n\u001b[0;32m-> 3503\u001b[0;31m         \u001b[0mindexer\u001b[0m \u001b[0;34m=\u001b[0m \u001b[0mkey\u001b[0m\u001b[0;34m.\u001b[0m\u001b[0mnonzero\u001b[0m\u001b[0;34m(\u001b[0m\u001b[0;34m)\u001b[0m\u001b[0;34m[\u001b[0m\u001b[0;36m0\u001b[0m\u001b[0;34m]\u001b[0m\u001b[0;34m\u001b[0m\u001b[0;34m\u001b[0m\u001b[0m\n\u001b[0m\u001b[1;32m   3504\u001b[0m         \u001b[0;32mreturn\u001b[0m \u001b[0mself\u001b[0m\u001b[0;34m.\u001b[0m\u001b[0m_take_with_is_copy\u001b[0m\u001b[0;34m(\u001b[0m\u001b[0mindexer\u001b[0m\u001b[0;34m,\u001b[0m \u001b[0maxis\u001b[0m\u001b[0;34m=\u001b[0m\u001b[0;36m0\u001b[0m\u001b[0;34m)\u001b[0m\u001b[0;34m\u001b[0m\u001b[0;34m\u001b[0m\u001b[0m\n\u001b[1;32m   3505\u001b[0m \u001b[0;34m\u001b[0m\u001b[0m\n",
      "\u001b[0;31mKeyboardInterrupt\u001b[0m: "
     ]
    }
   ],
   "source": [
    "# 3. Sacar 10 de cada uno para test\n",
    "user_ids = filtered_user_ratings[\"userId\"].unique()\n",
    "train = filtered_user_ratings\n",
    "test = pd.DataFrame(columns=filtered_user_ratings.columns)\n",
    "\n",
    "for user_id in tqdm(user_ids):\n",
    "    movies_of_user = filtered_user_ratings[filtered_user_ratings[\"userId\"] == user_id].sample(n=10)\n",
    "    test = pd.concat([test, movies_of_user])\n",
    "\n",
    "train = train.drop(test.index)"
   ]
  },
  {
   "cell_type": "code",
   "execution_count": 1,
   "id": "bae8325b-67a7-4ac7-a212-6c321577f28e",
   "metadata": {},
   "outputs": [],
   "source": [
    "def split_into_chunks(elems: list, chunks: int):\n",
    "    chunk_size = len(elems)//chunks\n",
    "    rem = len(elems)%chunks\n",
    "    chunks_split = [ elems[chunk_size*i:chunk_size*(i+1)] for i in range(0, chunks)]\n",
    "\n",
    "    # Agregamos el resto al último\n",
    "    chunks_split[chunks-1].extend(user_ids[len(user_ids) - rem:])\n",
    "\n",
    "    return chunks_split"
   ]
  },
  {
   "cell_type": "code",
   "execution_count": null,
   "id": "873c3ebe-9f00-40aa-aa15-2a0689d5cf35",
   "metadata": {},
   "outputs": [],
   "source": [
    "%%time\n",
    "# 3. Sacar 10 de cada uno para test\n",
    "\n",
    "from multiprocess import Process, Manager\n",
    "from typing import List\n",
    "# https://stackoverflow.com/questions/10415028/how-can-i-recover-the-return-value-of-a-function-passed-to-multiprocessing-proce\n",
    "\n",
    "def sample_test_ratings(procnum: int, return_dict, users: List[int]):\n",
    "    test = pd.DataFrame(columns=filtered_user_ratings.columns)\n",
    "\n",
    "    print(f\"[{procnum}]: start\")\n",
    "    for i, user_id in enumerate(users):\n",
    "        movies_of_user = filtered_user_ratings[filtered_user_ratings[\"userId\"] == user_id].sample(n=10)\n",
    "        test = pd.concat([test, movies_of_user])\n",
    "        \n",
    "        if i % 1000 == 0:\n",
    "            print(f\"[{procnum}]: {i}/{len(users)}\")\n",
    "\n",
    "    return_dict[procnum] = test\n",
    "\n",
    "    print(f\"[{procnum}]: finish\")\n",
    "\n",
    "user_ids = list(filtered_user_ratings[\"userId\"].unique())\n",
    "users_split = split_into_chunks(user_ids, 6)\n",
    "\n",
    "procs = []\n",
    "manager = Manager()\n",
    "return_dict = manager.dict()\n",
    "for i, chunk in enumerate(users_split):\n",
    "    p = Process(target=sample_test_ratings, args=(i, return_dict, chunk))\n",
    "    p.start()\n",
    "    procs.append(p)\n",
    "\n",
    "for p in procs:\n",
    "    p.join()\n",
    "\n",
    "test = pd.DataFrame(columns=filtered_user_ratings.columns)\n",
    "for return_value in return_dict.values():\n",
    "    test = pd.concat([test, return_value])\n",
    "    \n",
    "train = filtered_user_ratings.drop(test.index)\n",
    "\n",
    "print(\"Finished!\")"
   ]
  },
  {
   "cell_type": "code",
   "execution_count": 34,
   "id": "f558633a-43c6-46cb-8a62-13a836ac98e8",
   "metadata": {},
   "outputs": [],
   "source": [
    "train.to_csv(\"dfs/content-train.csv\")\n",
    "test.to_csv(\"dfs/content-test.csv\")"
   ]
  },
  {
   "cell_type": "code",
   "execution_count": 35,
   "id": "7999b95d-419a-4474-ada2-56e1de9cab4a",
   "metadata": {},
   "outputs": [],
   "source": [
    "train = pd.read_csv(\"dfs/content-train.csv\")\n",
    "test = pd.read_csv(\"dfs/content-test.csv\")"
   ]
  },
  {
   "cell_type": "code",
   "execution_count": 45,
   "id": "90a43d30-02d6-46e8-b1f4-1f0bfa8b2f79",
   "metadata": {},
   "outputs": [
    {
     "name": "stdout",
     "output_type": "stream",
     "text": [
      "[0]: start\n",
      "[1]: start\n",
      "[2]: start\n",
      "[3]: start\n"
     ]
    },
    {
     "data": {
      "application/vnd.jupyter.widget-view+json": {
       "model_id": "57cc566d6e6e48b4a73b2f0e41a2a4a8",
       "version_major": 2,
       "version_minor": 0
      },
      "text/plain": [
       "HBox(children=(HTML(value=' proc #0'), FloatProgress(value=0.0, max=53117.0), HTML(value='')))"
      ]
     },
     "metadata": {},
     "output_type": "display_data"
    },
    {
     "data": {
      "application/vnd.jupyter.widget-view+json": {
       "model_id": "02ae21d00a5a4cd6a451bd1e1b50d0f9",
       "version_major": 2,
       "version_minor": 0
      },
      "text/plain": [
       "HBox(children=(HTML(value=' proc #1'), FloatProgress(value=0.0, max=53117.0), HTML(value='')))"
      ]
     },
     "metadata": {},
     "output_type": "display_data"
    },
    {
     "data": {
      "application/vnd.jupyter.widget-view+json": {
       "model_id": "5487ff7aec5946f9af7c33ab9e6f851f",
       "version_major": 2,
       "version_minor": 0
      },
      "text/plain": [
       "HBox(children=(HTML(value=' proc #2'), FloatProgress(value=0.0, max=53117.0), HTML(value='')))"
      ]
     },
     "metadata": {},
     "output_type": "display_data"
    },
    {
     "data": {
      "application/vnd.jupyter.widget-view+json": {
       "model_id": "5d6c8ed81c864327935c38db6db77e73",
       "version_major": 2,
       "version_minor": 0
      },
      "text/plain": [
       "HBox(children=(HTML(value=' proc #3'), FloatProgress(value=0.0, max=53117.0), HTML(value='')))"
      ]
     },
     "metadata": {},
     "output_type": "display_data"
    },
    {
     "name": "stdout",
     "output_type": "stream",
     "text": [
      "exception! movie_id:69234 idx:id\n",
      "69234     9576\n",
      "69234    26625\n",
      "dtype: int64\n",
      "\n"
     ]
    },
    {
     "name": "stderr",
     "output_type": "stream",
     "text": [
      "Process Process-56:\n",
      "Traceback (most recent call last):\n",
      "  File \"/opt/homebrew/anaconda3/lib/python3.9/site-packages/multiprocess/process.py\", line 315, in _bootstrap\n",
      "    self.run()\n",
      "  File \"/opt/homebrew/anaconda3/lib/python3.9/site-packages/multiprocess/process.py\", line 108, in run\n",
      "    self._target(*self._args, **self._kwargs)\n",
      "  File \"<timed exec>\", line 10, in predict\n",
      "  File \"/var/folders/ww/8n507dkn503d0xnc7_dlmgy1lj2mm0/T/ipykernel_18999/3961617345.py\", line 14, in get_user_recommendations\n",
      "    recommendations = get_recommendations_and_similarities(movies, movieID, cosine_sim)\n",
      "  File \"/var/folders/ww/8n507dkn503d0xnc7_dlmgy1lj2mm0/T/ipykernel_18999/3957301293.py\", line 13, in get_recommendations_and_similarities\n",
      "    raise(e)\n",
      "  File \"/var/folders/ww/8n507dkn503d0xnc7_dlmgy1lj2mm0/T/ipykernel_18999/3957301293.py\", line 9, in get_recommendations_and_similarities\n",
      "    sim_scores = sorted(sim_scores, key=lambda x: x[1], reverse=True)\n",
      "ValueError: The truth value of an array with more than one element is ambiguous. Use a.any() or a.all()\n"
     ]
    },
    {
     "name": "stdout",
     "output_type": "stream",
     "text": [
      "\n",
      "\n"
     ]
    },
    {
     "ename": "KeyboardInterrupt",
     "evalue": "",
     "output_type": "error",
     "traceback": [
      "\u001b[0;31m---------------------------------------------------------------------------\u001b[0m",
      "\u001b[0;31mKeyboardInterrupt\u001b[0m                         Traceback (most recent call last)",
      "\u001b[0;32m<timed exec>\u001b[0m in \u001b[0;36m<module>\u001b[0;34m\u001b[0m\n",
      "\u001b[0;32m/opt/homebrew/anaconda3/lib/python3.9/site-packages/multiprocess/process.py\u001b[0m in \u001b[0;36mjoin\u001b[0;34m(self, timeout)\u001b[0m\n\u001b[1;32m    147\u001b[0m         \u001b[0;32massert\u001b[0m \u001b[0mself\u001b[0m\u001b[0;34m.\u001b[0m\u001b[0m_parent_pid\u001b[0m \u001b[0;34m==\u001b[0m \u001b[0mos\u001b[0m\u001b[0;34m.\u001b[0m\u001b[0mgetpid\u001b[0m\u001b[0;34m(\u001b[0m\u001b[0;34m)\u001b[0m\u001b[0;34m,\u001b[0m \u001b[0;34m'can only join a child process'\u001b[0m\u001b[0;34m\u001b[0m\u001b[0;34m\u001b[0m\u001b[0m\n\u001b[1;32m    148\u001b[0m         \u001b[0;32massert\u001b[0m \u001b[0mself\u001b[0m\u001b[0;34m.\u001b[0m\u001b[0m_popen\u001b[0m \u001b[0;32mis\u001b[0m \u001b[0;32mnot\u001b[0m \u001b[0;32mNone\u001b[0m\u001b[0;34m,\u001b[0m \u001b[0;34m'can only join a started process'\u001b[0m\u001b[0;34m\u001b[0m\u001b[0;34m\u001b[0m\u001b[0m\n\u001b[0;32m--> 149\u001b[0;31m         \u001b[0mres\u001b[0m \u001b[0;34m=\u001b[0m \u001b[0mself\u001b[0m\u001b[0;34m.\u001b[0m\u001b[0m_popen\u001b[0m\u001b[0;34m.\u001b[0m\u001b[0mwait\u001b[0m\u001b[0;34m(\u001b[0m\u001b[0mtimeout\u001b[0m\u001b[0;34m)\u001b[0m\u001b[0;34m\u001b[0m\u001b[0;34m\u001b[0m\u001b[0m\n\u001b[0m\u001b[1;32m    150\u001b[0m         \u001b[0;32mif\u001b[0m \u001b[0mres\u001b[0m \u001b[0;32mis\u001b[0m \u001b[0;32mnot\u001b[0m \u001b[0;32mNone\u001b[0m\u001b[0;34m:\u001b[0m\u001b[0;34m\u001b[0m\u001b[0;34m\u001b[0m\u001b[0m\n\u001b[1;32m    151\u001b[0m             \u001b[0m_children\u001b[0m\u001b[0;34m.\u001b[0m\u001b[0mdiscard\u001b[0m\u001b[0;34m(\u001b[0m\u001b[0mself\u001b[0m\u001b[0;34m)\u001b[0m\u001b[0;34m\u001b[0m\u001b[0;34m\u001b[0m\u001b[0m\n",
      "\u001b[0;32m/opt/homebrew/anaconda3/lib/python3.9/site-packages/multiprocess/popen_fork.py\u001b[0m in \u001b[0;36mwait\u001b[0;34m(self, timeout)\u001b[0m\n\u001b[1;32m     41\u001b[0m                     \u001b[0;32mreturn\u001b[0m \u001b[0;32mNone\u001b[0m\u001b[0;34m\u001b[0m\u001b[0;34m\u001b[0m\u001b[0m\n\u001b[1;32m     42\u001b[0m             \u001b[0;31m# This shouldn't block if wait() returned successfully.\u001b[0m\u001b[0;34m\u001b[0m\u001b[0;34m\u001b[0m\u001b[0m\n\u001b[0;32m---> 43\u001b[0;31m             \u001b[0;32mreturn\u001b[0m \u001b[0mself\u001b[0m\u001b[0;34m.\u001b[0m\u001b[0mpoll\u001b[0m\u001b[0;34m(\u001b[0m\u001b[0mos\u001b[0m\u001b[0;34m.\u001b[0m\u001b[0mWNOHANG\u001b[0m \u001b[0;32mif\u001b[0m \u001b[0mtimeout\u001b[0m \u001b[0;34m==\u001b[0m \u001b[0;36m0.0\u001b[0m \u001b[0;32melse\u001b[0m \u001b[0;36m0\u001b[0m\u001b[0;34m)\u001b[0m\u001b[0;34m\u001b[0m\u001b[0;34m\u001b[0m\u001b[0m\n\u001b[0m\u001b[1;32m     44\u001b[0m         \u001b[0;32mreturn\u001b[0m \u001b[0mself\u001b[0m\u001b[0;34m.\u001b[0m\u001b[0mreturncode\u001b[0m\u001b[0;34m\u001b[0m\u001b[0;34m\u001b[0m\u001b[0m\n\u001b[1;32m     45\u001b[0m \u001b[0;34m\u001b[0m\u001b[0m\n",
      "\u001b[0;32m/opt/homebrew/anaconda3/lib/python3.9/site-packages/multiprocess/popen_fork.py\u001b[0m in \u001b[0;36mpoll\u001b[0;34m(self, flag)\u001b[0m\n\u001b[1;32m     25\u001b[0m         \u001b[0;32mif\u001b[0m \u001b[0mself\u001b[0m\u001b[0;34m.\u001b[0m\u001b[0mreturncode\u001b[0m \u001b[0;32mis\u001b[0m \u001b[0;32mNone\u001b[0m\u001b[0;34m:\u001b[0m\u001b[0;34m\u001b[0m\u001b[0;34m\u001b[0m\u001b[0m\n\u001b[1;32m     26\u001b[0m             \u001b[0;32mtry\u001b[0m\u001b[0;34m:\u001b[0m\u001b[0;34m\u001b[0m\u001b[0;34m\u001b[0m\u001b[0m\n\u001b[0;32m---> 27\u001b[0;31m                 \u001b[0mpid\u001b[0m\u001b[0;34m,\u001b[0m \u001b[0msts\u001b[0m \u001b[0;34m=\u001b[0m \u001b[0mos\u001b[0m\u001b[0;34m.\u001b[0m\u001b[0mwaitpid\u001b[0m\u001b[0;34m(\u001b[0m\u001b[0mself\u001b[0m\u001b[0;34m.\u001b[0m\u001b[0mpid\u001b[0m\u001b[0;34m,\u001b[0m \u001b[0mflag\u001b[0m\u001b[0;34m)\u001b[0m\u001b[0;34m\u001b[0m\u001b[0;34m\u001b[0m\u001b[0m\n\u001b[0m\u001b[1;32m     28\u001b[0m             \u001b[0;32mexcept\u001b[0m \u001b[0mOSError\u001b[0m\u001b[0;34m:\u001b[0m\u001b[0;34m\u001b[0m\u001b[0;34m\u001b[0m\u001b[0m\n\u001b[1;32m     29\u001b[0m                 \u001b[0;31m# Child process not yet created. See #1731717\u001b[0m\u001b[0;34m\u001b[0m\u001b[0;34m\u001b[0m\u001b[0m\n",
      "\u001b[0;31mKeyboardInterrupt\u001b[0m: "
     ]
    },
    {
     "name": "stderr",
     "output_type": "stream",
     "text": [
      "Process Process-55:\n"
     ]
    },
    {
     "name": "stdout",
     "output_type": "stream",
     "text": [
      "\n"
     ]
    },
    {
     "name": "stderr",
     "output_type": "stream",
     "text": [
      "Traceback (most recent call last):\n",
      "  File \"/opt/homebrew/anaconda3/lib/python3.9/site-packages/multiprocess/process.py\", line 315, in _bootstrap\n",
      "    self.run()\n",
      "  File \"/opt/homebrew/anaconda3/lib/python3.9/site-packages/multiprocess/process.py\", line 108, in run\n",
      "    self._target(*self._args, **self._kwargs)\n",
      "Process Process-53:\n",
      "  File \"<timed exec>\", line 10, in predict\n",
      "  File \"/var/folders/ww/8n507dkn503d0xnc7_dlmgy1lj2mm0/T/ipykernel_18999/3961617345.py\", line 14, in get_user_recommendations\n",
      "    recommendations = get_recommendations_and_similarities(movies, movieID, cosine_sim)\n",
      "  File \"/var/folders/ww/8n507dkn503d0xnc7_dlmgy1lj2mm0/T/ipykernel_18999/3957301293.py\", line 6, in get_recommendations_and_similarities\n",
      "    sim_scores = list(enumerate(cosine_sim[idx]))\n",
      "Process Process-54:\n",
      "Traceback (most recent call last):\n",
      "KeyboardInterrupt\n",
      "Traceback (most recent call last):\n",
      "  File \"/opt/homebrew/anaconda3/lib/python3.9/site-packages/multiprocess/process.py\", line 315, in _bootstrap\n",
      "    self.run()\n",
      "  File \"/opt/homebrew/anaconda3/lib/python3.9/site-packages/multiprocess/process.py\", line 315, in _bootstrap\n",
      "    self.run()\n",
      "  File \"/opt/homebrew/anaconda3/lib/python3.9/site-packages/multiprocess/process.py\", line 108, in run\n",
      "    self._target(*self._args, **self._kwargs)\n",
      "  File \"/opt/homebrew/anaconda3/lib/python3.9/site-packages/multiprocess/process.py\", line 108, in run\n",
      "    self._target(*self._args, **self._kwargs)\n",
      "  File \"<timed exec>\", line 10, in predict\n",
      "  File \"<timed exec>\", line 10, in predict\n",
      "  File \"/var/folders/ww/8n507dkn503d0xnc7_dlmgy1lj2mm0/T/ipykernel_18999/3961617345.py\", line 14, in get_user_recommendations\n",
      "    recommendations = get_recommendations_and_similarities(movies, movieID, cosine_sim)\n",
      "  File \"/var/folders/ww/8n507dkn503d0xnc7_dlmgy1lj2mm0/T/ipykernel_18999/3961617345.py\", line 14, in get_user_recommendations\n",
      "    recommendations = get_recommendations_and_similarities(movies, movieID, cosine_sim)\n",
      "  File \"/var/folders/ww/8n507dkn503d0xnc7_dlmgy1lj2mm0/T/ipykernel_18999/3957301293.py\", line 28, in get_recommendations_and_similarities\n",
      "    return pd.DataFrame.from_records(rows)\n",
      "  File \"/var/folders/ww/8n507dkn503d0xnc7_dlmgy1lj2mm0/T/ipykernel_18999/3957301293.py\", line 9, in get_recommendations_and_similarities\n",
      "    sim_scores = sorted(sim_scores, key=lambda x: x[1], reverse=True)\n",
      "  File \"/opt/homebrew/anaconda3/lib/python3.9/site-packages/pandas/core/frame.py\", line 2122, in from_records\n",
      "    mgr = arrays_to_mgr(arrays, arr_columns, result_index, columns, typ=manager)\n",
      "  File \"/var/folders/ww/8n507dkn503d0xnc7_dlmgy1lj2mm0/T/ipykernel_18999/3957301293.py\", line 9, in <lambda>\n",
      "    sim_scores = sorted(sim_scores, key=lambda x: x[1], reverse=True)\n",
      "  File \"/opt/homebrew/anaconda3/lib/python3.9/site-packages/pandas/core/internals/construction.py\", line 135, in arrays_to_mgr\n",
      "    return create_block_manager_from_arrays(\n",
      "KeyboardInterrupt\n",
      "  File \"/opt/homebrew/anaconda3/lib/python3.9/site-packages/pandas/core/internals/managers.py\", line 1773, in create_block_manager_from_arrays\n",
      "    blocks = _form_blocks(arrays, names, axes, consolidate)\n",
      "  File \"/opt/homebrew/anaconda3/lib/python3.9/site-packages/pandas/core/internals/managers.py\", line 1838, in _form_blocks\n",
      "    numeric_blocks = _multi_blockify(\n",
      "  File \"/opt/homebrew/anaconda3/lib/python3.9/site-packages/pandas/core/internals/managers.py\", line 1920, in _multi_blockify\n",
      "    grouper = itertools.groupby(tuples, lambda x: x[1].dtype)\n",
      "KeyboardInterrupt\n"
     ]
    }
   ],
   "source": [
    "%%time\n",
    "from multiprocess import Process, Manager\n",
    "from typing import List\n",
    "# https://stackoverflow.com/questions/10415028/how-can-i-recover-the-return-value-of-a-function-passed-to-multiprocessing-proce\n",
    "\n",
    "def predict(i: int, return_dict, users: List[int]):\n",
    "    actual = []\n",
    "    predicted = []\n",
    "    print(f\"[{i}]: start\")\n",
    "    for user_id in tqdm(users, position=i, desc=f\" proc #{i}\"):\n",
    "        predicted_movies = get_user_recommendations(user_id, train)[\"tmdbId\"]\n",
    "        actual_movies = test[test[\"userId\"] == user_id][\"tmdbId\"]\n",
    "        \n",
    "        predicted.append(list(predicted_movies))\n",
    "        actual.append(list(actual_movies))\n",
    "        \n",
    "    return_dict[i] = {\n",
    "        \"pred\": predicted,\n",
    "        \"actual\": actual,\n",
    "    }\n",
    "\n",
    "    print(f\"[{i}]: finish\")\n",
    "\n",
    "users_split = split_into_chunks(list(train[\"userId\"].unique()), 4)\n",
    "\n",
    "procs = []\n",
    "manager = Manager()\n",
    "return_dict = manager.dict()\n",
    "for i, chunk in enumerate(users_split):\n",
    "    p = Process(target=predict, args=(i, return_dict, chunk))\n",
    "    p.start()\n",
    "    procs.append(p)\n",
    "\n",
    "for p in procs:\n",
    "    p.join()\n",
    "\n",
    "predicted = []\n",
    "actual = []    \n",
    "\n",
    "for return_value in return_dict.values():\n",
    "    predicted.extend(return_value[\"pred\"])\n",
    "    actual.extend(return_value[\"actual\"])\n",
    "print(\"Finished!\")"
   ]
  },
  {
   "cell_type": "code",
   "execution_count": 42,
   "id": "404c35b2-623e-4c91-8112-ff3bb3b66af9",
   "metadata": {},
   "outputs": [
    {
     "ename": "NameError",
     "evalue": "name 'sim_scores' is not defined",
     "output_type": "error",
     "traceback": [
      "\u001b[0;31m---------------------------------------------------------------------------\u001b[0m",
      "\u001b[0;31mNameError\u001b[0m                                 Traceback (most recent call last)",
      "\u001b[0;32m/var/folders/ww/8n507dkn503d0xnc7_dlmgy1lj2mm0/T/ipykernel_18999/3646164233.py\u001b[0m in \u001b[0;36m<module>\u001b[0;34m\u001b[0m\n\u001b[0;32m----> 1\u001b[0;31m \u001b[0msim_scores\u001b[0m\u001b[0;34m\u001b[0m\u001b[0;34m\u001b[0m\u001b[0m\n\u001b[0m",
      "\u001b[0;31mNameError\u001b[0m: name 'sim_scores' is not defined"
     ]
    }
   ],
   "source": [
    "sim_scores"
   ]
  },
  {
   "cell_type": "markdown",
   "id": "147c1367-9161-4900-b22e-e810e665790b",
   "metadata": {},
   "source": [
    "TODO: se está rompiendo porque hay ratings para peliculas que no aparecen en movies. Filtrar user ratings para que no los tenga.\n",
    "Si sacamos muchas muchas, hay algo raro, si son pocas, debe ser un error del dataset."
   ]
  },
  {
   "cell_type": "code",
   "execution_count": 23,
   "id": "0db57ad9-7f94-41cc-81d8-eca1f83129eb",
   "metadata": {},
   "outputs": [
    {
     "data": {
      "text/plain": [
       "(0.004513805522208884, 0.004513805522208884)"
      ]
     },
     "execution_count": 23,
     "metadata": {},
     "output_type": "execute_result"
    }
   ],
   "source": [
    "import average_precision\n",
    "import recmetrics.metrics\n",
    "\n",
    "mark = recmetrics.metrics.mark(predicted, actual, k=10)\n",
    "mapk = average_precision.mapk(predicted, actual, k=10)\n",
    "mark, mapk"
   ]
  },
  {
   "cell_type": "code",
   "execution_count": null,
   "id": "b29190aa-3d89-4e04-9168-8f1843e21722",
   "metadata": {},
   "outputs": [],
   "source": []
  }
 ],
 "metadata": {
  "kernelspec": {
   "display_name": "Python 3 (ipykernel)",
   "language": "python",
   "name": "python3"
  },
  "language_info": {
   "codemirror_mode": {
    "name": "ipython",
    "version": 3
   },
   "file_extension": ".py",
   "mimetype": "text/x-python",
   "name": "python",
   "nbconvert_exporter": "python",
   "pygments_lexer": "ipython3",
   "version": "3.9.7"
  }
 },
 "nbformat": 4,
 "nbformat_minor": 5
}
