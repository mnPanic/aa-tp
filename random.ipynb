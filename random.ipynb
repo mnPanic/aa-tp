{
 "cells": [
  {
   "cell_type": "markdown",
   "id": "4be80f25-ad24-4346-8386-90df77604ddf",
   "metadata": {},
   "source": [
    "## Evaluating the systems\n",
    "Tomamos los usuarios que tengan x+y ratings de peliculas.\n",
    "Removemos las x peliculas de sus ratings, y pedimos las recomendaciones para las y peliculas.\\\n",
    "Del total de recomendaciones nos quedamos con el TOP z, ordenando por aparicion, y el promedio del cosine_similarity.\\\n",
    "Calculamos recall y precision, variamos x,y,z"
   ]
  },
  {
   "cell_type": "code",
   "execution_count": 1,
   "id": "3db24e22",
   "metadata": {},
   "outputs": [],
   "source": [
    "import pandas as pd\n",
    "import numpy as np\n",
    "from tqdm.notebook import tqdm\n",
    "import time\n",
    "import result_io\n",
    "import math\n",
    "import scipy.stats as stats\n",
    "from scipy import spatial\n",
    "from tqdm.notebook import tqdm\n",
    "from multiprocess import Process, Manager\n",
    "from typing import List\n",
    "\n",
    "import time"
   ]
  },
  {
   "cell_type": "code",
   "execution_count": 2,
   "id": "dce10f31",
   "metadata": {
    "tags": []
   },
   "outputs": [],
   "source": [
    "BASE_PATH = \"dataset\"\n",
    "\n",
    "movies = pd.read_csv(f\"{BASE_PATH}/movies_metadata.csv\", low_memory=False)\n",
    "user_ratings = pd.read_csv(f\"{BASE_PATH}/ratings.csv\", dtype={'userId': int, 'movieId': str, 'rating': float,'timestamp': int})\n",
    "id_links = pd.read_csv(f\"{BASE_PATH}/links.csv\", dtype={'movieId': str , 'tmdbId': str}) \n",
    "user_ratings = pd.merge(user_ratings, id_links, left_on='movieId', right_on='movieId', how='left')"
   ]
  },
  {
   "cell_type": "code",
   "execution_count": 3,
   "id": "a172555f-db10-4094-b510-a869ba7f556b",
   "metadata": {},
   "outputs": [
    {
     "name": "stdout",
     "output_type": "stream",
     "text": [
      "before: 45466, after: 45436, diff: 30\n"
     ]
    }
   ],
   "source": [
    "# Sacamos las películas duplicadas, algunas como id 69234 aparecen dos veces\n",
    "len_before = len(movies)\n",
    "movies = movies.drop_duplicates(subset=[\"id\"]).reset_index()\n",
    "print(f\"before: {len_before}, after: {len(movies)}, diff: {len_before - len(movies)}\")"
   ]
  },
  {
   "cell_type": "code",
   "execution_count": 30,
   "id": "a11c006d-ca23-4750-a4b8-92c522ec2b69",
   "metadata": {},
   "outputs": [],
   "source": [
    "def timestep(start: float, name: str) -> float:\n",
    "    now = time.time()\n",
    "    print(f\"{name}: {now - start}\")\n",
    "    return now"
   ]
  },
  {
   "cell_type": "code",
   "execution_count": 6,
   "id": "1d252130",
   "metadata": {},
   "outputs": [],
   "source": [
    "def get_random_recommendations():\n",
    "    ten_movies = movies.sample(n=10)\n",
    "    \n",
    "    return ten_movies[['id','title']]"
   ]
  },
  {
   "cell_type": "code",
   "execution_count": 7,
   "id": "95dbd309-517a-477a-8728-60e16a05bc41",
   "metadata": {},
   "outputs": [
    {
     "data": {
      "text/html": [
       "<div>\n",
       "<style scoped>\n",
       "    .dataframe tbody tr th:only-of-type {\n",
       "        vertical-align: middle;\n",
       "    }\n",
       "\n",
       "    .dataframe tbody tr th {\n",
       "        vertical-align: top;\n",
       "    }\n",
       "\n",
       "    .dataframe thead th {\n",
       "        text-align: right;\n",
       "    }\n",
       "</style>\n",
       "<table border=\"1\" class=\"dataframe\">\n",
       "  <thead>\n",
       "    <tr style=\"text-align: right;\">\n",
       "      <th></th>\n",
       "      <th>id</th>\n",
       "      <th>title</th>\n",
       "    </tr>\n",
       "  </thead>\n",
       "  <tbody>\n",
       "    <tr>\n",
       "      <th>27334</th>\n",
       "      <td>36634</td>\n",
       "      <td>The People Against O'Hara</td>\n",
       "    </tr>\n",
       "    <tr>\n",
       "      <th>22101</th>\n",
       "      <td>77403</td>\n",
       "      <td>Disco Godfather</td>\n",
       "    </tr>\n",
       "    <tr>\n",
       "      <th>5139</th>\n",
       "      <td>116904</td>\n",
       "      <td>Bar Girls</td>\n",
       "    </tr>\n",
       "    <tr>\n",
       "      <th>37709</th>\n",
       "      <td>337758</td>\n",
       "      <td>Honey Night</td>\n",
       "    </tr>\n",
       "    <tr>\n",
       "      <th>18384</th>\n",
       "      <td>60938</td>\n",
       "      <td>Time Without Pity</td>\n",
       "    </tr>\n",
       "    <tr>\n",
       "      <th>38856</th>\n",
       "      <td>382088</td>\n",
       "      <td>The Division: Agent Origins</td>\n",
       "    </tr>\n",
       "    <tr>\n",
       "      <th>31898</th>\n",
       "      <td>69599</td>\n",
       "      <td>Long Arm of the Law</td>\n",
       "    </tr>\n",
       "    <tr>\n",
       "      <th>15556</th>\n",
       "      <td>43605</td>\n",
       "      <td>Treasure Island</td>\n",
       "    </tr>\n",
       "    <tr>\n",
       "      <th>12132</th>\n",
       "      <td>13066</td>\n",
       "      <td>I Want Someone to Eat Cheese With</td>\n",
       "    </tr>\n",
       "    <tr>\n",
       "      <th>11551</th>\n",
       "      <td>13668</td>\n",
       "      <td>Catch and Release</td>\n",
       "    </tr>\n",
       "  </tbody>\n",
       "</table>\n",
       "</div>"
      ],
      "text/plain": [
       "           id                              title\n",
       "27334   36634          The People Against O'Hara\n",
       "22101   77403                    Disco Godfather\n",
       "5139   116904                          Bar Girls\n",
       "37709  337758                        Honey Night\n",
       "18384   60938                  Time Without Pity\n",
       "38856  382088        The Division: Agent Origins\n",
       "31898   69599                Long Arm of the Law\n",
       "15556   43605                    Treasure Island\n",
       "12132   13066  I Want Someone to Eat Cheese With\n",
       "11551   13668                  Catch and Release"
      ]
     },
     "execution_count": 7,
     "metadata": {},
     "output_type": "execute_result"
    }
   ],
   "source": [
    "get_random_recommendations()"
   ]
  },
  {
   "cell_type": "code",
   "execution_count": 22,
   "id": "d5d7653e-3eb3-44cf-8dfb-7b746bdf35a5",
   "metadata": {},
   "outputs": [
    {
     "name": "stdout",
     "output_type": "stream",
     "text": [
      "total: 26024289, after filter: 25981582\n"
     ]
    }
   ],
   "source": [
    "# 1. Sacar películas para las que no tenemos metadata\n",
    "# hay algunas películas como \"253768\" que están en ratings pero no en movies.\n",
    "rated_movies = user_ratings[\"tmdbId\"]\n",
    "rated_movies_with_metadata = rated_movies[rated_movies.isin(movies[\"id\"])]\n",
    "metadata_filtered_user_ratings = user_ratings[user_ratings[\"tmdbId\"].isin(rated_movies_with_metadata)]\n",
    "\n",
    "print(f\"total: {len(user_ratings)}, after filter: {len(metadata_filtered_user_ratings)}\")"
   ]
  },
  {
   "cell_type": "code",
   "execution_count": 23,
   "id": "ea02dca6-cfe5-40da-8f6a-d77bfc707405",
   "metadata": {},
   "outputs": [
    {
     "name": "stdout",
     "output_type": "stream",
     "text": [
      "total: 25981582, after filter: 25556154\n",
      "(diff = 425428)\n"
     ]
    }
   ],
   "source": [
    "# 2. Sacar los que tienen menos de 15\n",
    "user_rating_count = metadata_filtered_user_ratings.groupby([\"userId\"]).count()\n",
    "users_to_remove = user_rating_count[user_rating_count[\"movieId\"] < 15].reset_index()[\"userId\"]\n",
    "filtered_user_ratings = metadata_filtered_user_ratings[~metadata_filtered_user_ratings[\"userId\"].isin(users_to_remove)]\n",
    "\n",
    "print(f\"total: {len(metadata_filtered_user_ratings)}, after filter: {len(filtered_user_ratings)}\")\n",
    "print(f\"(diff = {len(metadata_filtered_user_ratings) - len(filtered_user_ratings)})\")"
   ]
  },
  {
   "cell_type": "code",
   "execution_count": 12,
   "id": "bae8325b-67a7-4ac7-a212-6c321577f28e",
   "metadata": {},
   "outputs": [],
   "source": [
    "def split_into_chunks(elems: list, chunks: int):\n",
    "    chunk_size = len(elems)//chunks\n",
    "    rem = len(elems)%chunks\n",
    "    chunks_split = [ elems[chunk_size*i:chunk_size*(i+1)] for i in range(0, chunks)]\n",
    "\n",
    "    # Agregamos el resto al último\n",
    "    chunks_split[chunks-1].extend(elems[len(elems) - rem:])\n",
    "\n",
    "    return chunks_split"
   ]
  },
  {
   "cell_type": "code",
   "execution_count": 25,
   "id": "873c3ebe-9f00-40aa-aa15-2a0689d5cf35",
   "metadata": {
    "tags": []
   },
   "outputs": [
    {
     "name": "stdout",
     "output_type": "stream",
     "text": [
      "[0] start[1] start\n",
      "[2] start\n",
      "\n",
      "[3] start\n",
      "[4] start\n",
      "[5] start\n"
     ]
    },
    {
     "data": {
      "application/vnd.jupyter.widget-view+json": {
       "model_id": "3d1e4ab8e05e47a6abc66aae3691666e",
       "version_major": 2,
       "version_minor": 0
      },
      "text/plain": [
       "HBox(children=(HTML(value=' proc #1'), FloatProgress(value=0.0, max=35411.0), HTML(value='')))"
      ]
     },
     "metadata": {},
     "output_type": "display_data"
    },
    {
     "data": {
      "application/vnd.jupyter.widget-view+json": {
       "model_id": "5e515d089e414e0a9e3c285f7142601a",
       "version_major": 2,
       "version_minor": 0
      },
      "text/plain": [
       "HBox(children=(HTML(value=' proc #0'), FloatProgress(value=0.0, max=35411.0), HTML(value='')))"
      ]
     },
     "metadata": {},
     "output_type": "display_data"
    },
    {
     "data": {
      "application/vnd.jupyter.widget-view+json": {
       "model_id": "592447023b4f48429b696f9983591924",
       "version_major": 2,
       "version_minor": 0
      },
      "text/plain": [
       "HBox(children=(HTML(value=' proc #2'), FloatProgress(value=0.0, max=35411.0), HTML(value='')))"
      ]
     },
     "metadata": {},
     "output_type": "display_data"
    },
    {
     "data": {
      "application/vnd.jupyter.widget-view+json": {
       "model_id": "114f7430420e44a2ba89c32a42b4a7a8",
       "version_major": 2,
       "version_minor": 0
      },
      "text/plain": [
       "HBox(children=(HTML(value=' proc #4'), FloatProgress(value=0.0, max=35411.0), HTML(value='')))"
      ]
     },
     "metadata": {},
     "output_type": "display_data"
    },
    {
     "data": {
      "application/vnd.jupyter.widget-view+json": {
       "model_id": "2d4d49122cc442c4a97443639ddea906",
       "version_major": 2,
       "version_minor": 0
      },
      "text/plain": [
       "HBox(children=(HTML(value=' proc #3'), FloatProgress(value=0.0, max=35411.0), HTML(value='')))"
      ]
     },
     "metadata": {},
     "output_type": "display_data"
    },
    {
     "data": {
      "application/vnd.jupyter.widget-view+json": {
       "model_id": "2db69f603f944eefb38836a9055efd56",
       "version_major": 2,
       "version_minor": 0
      },
      "text/plain": [
       "HBox(children=(HTML(value=' proc #5'), FloatProgress(value=0.0, max=35413.0), HTML(value='')))"
      ]
     },
     "metadata": {},
     "output_type": "display_data"
    },
    {
     "name": "stdout",
     "output_type": "stream",
     "text": [
      "\n",
      "\n",
      "\n",
      "\n",
      "\n",
      "\n",
      "[4] finish\n",
      "[2] finish\n",
      "[3] finish\n",
      "[5] finish\n",
      "[1] finish\n",
      "[0] finish\n",
      "Finished!\n",
      "CPU times: user 4min 4s, sys: 2min 25s, total: 6min 29s\n",
      "Wall time: 58min 10s\n"
     ]
    }
   ],
   "source": [
    "%%time\n",
    "# 3. Sacar 10 de cada uno para test\n",
    "\n",
    "\n",
    "# https://stackoverflow.com/questions/10415028/how-can-i-recover-the-return-value-of-a-function-passed-to-multiprocessing-proce\n",
    "\n",
    "def sample_test_ratings(procnum: int, return_dict, users: List[int]):\n",
    "    print(f\"[{procnum}] start\")\n",
    "    test = pd.DataFrame(columns=filtered_user_ratings.columns)\n",
    "\n",
    "    for user_id in tqdm(users, position=procnum, desc=f\" proc #{procnum}\"):\n",
    "        movies_of_user = filtered_user_ratings[filtered_user_ratings[\"userId\"] == user_id].sample(n=10)\n",
    "        test = pd.concat([test, movies_of_user])\n",
    "\n",
    "    return_dict[procnum] = test\n",
    "    print(f\"[{procnum}] finish\")\n",
    "\n",
    "user_ids = list(filtered_user_ratings[\"userId\"].unique())\n",
    "users_split = split_into_chunks(user_ids, 6)\n",
    "\n",
    "procs = []\n",
    "manager = Manager()\n",
    "return_dict = manager.dict()\n",
    "for i, chunk in enumerate(users_split):\n",
    "    p = Process(target=sample_test_ratings, args=(i, return_dict, chunk))\n",
    "    p.start()\n",
    "    procs.append(p)\n",
    "\n",
    "for p in procs:\n",
    "    p.join()\n",
    "\n",
    "test = pd.DataFrame(columns=filtered_user_ratings.columns)\n",
    "for return_value in return_dict.values():\n",
    "    test = pd.concat([test, return_value])\n",
    "    \n",
    "train = filtered_user_ratings.drop(test.index)\n",
    "\n",
    "print(\"Finished!\")"
   ]
  },
  {
   "cell_type": "code",
   "execution_count": 28,
   "id": "f558633a-43c6-46cb-8a62-13a836ac98e8",
   "metadata": {
    "tags": []
   },
   "outputs": [],
   "source": [
    "train.to_csv(\"dfs/random-train.csv\")\n",
    "test.to_csv(\"dfs/random-test.csv\")"
   ]
  },
  {
   "cell_type": "code",
   "execution_count": 9,
   "id": "7999b95d-419a-4474-ada2-56e1de9cab4a",
   "metadata": {},
   "outputs": [],
   "source": [
    "train = pd.read_csv(\"dfs/random-train.csv\", index_col=0, dtype={\"tmdbId\": str})\n",
    "test = pd.read_csv(\"dfs/random-test.csv\", index_col=0, dtype={\"tmdbId\": str})"
   ]
  },
  {
   "cell_type": "code",
   "execution_count": null,
   "id": "a3de7695-a91d-495d-b5e9-9732f25e306f",
   "metadata": {},
   "outputs": [],
   "source": [
    "# Remove users that were already processed\n",
    "import result_io\n",
    "processed_users = result_io.read_processed_users_for(result_io.NAME_RANDOM)\n",
    "\n",
    "users = train[\"userId\"]\n",
    "users = users[~np.isin(users, processed_users)]\n",
    "users = list(users.unique())\n",
    "\n",
    "print(f\"Already processed {len(processed_users)}/{len(users) + len(processed_users)} users\")"
   ]
  },
  {
   "cell_type": "code",
   "execution_count": 13,
   "id": "90a43d30-02d6-46e8-b1f4-1f0bfa8b2f79",
   "metadata": {},
   "outputs": [
    {
     "name": "stdout",
     "output_type": "stream",
     "text": [
      "[0]: start\n",
      "[1]: start\n",
      "[2]: start\n",
      "[3]: start\n"
     ]
    },
    {
     "data": {
      "application/vnd.jupyter.widget-view+json": {
       "model_id": "a8baa23f7a8e4fe4bd2f2f4be157a617",
       "version_major": 2,
       "version_minor": 0
      },
      "text/plain": [
       "HBox(children=(HTML(value=' proc #0'), FloatProgress(value=0.0, max=53117.0), HTML(value='')))"
      ]
     },
     "metadata": {},
     "output_type": "display_data"
    },
    {
     "data": {
      "application/vnd.jupyter.widget-view+json": {
       "model_id": "50dbc6737ee24478ba8f12de884b35c2",
       "version_major": 2,
       "version_minor": 0
      },
      "text/plain": [
       "HBox(children=(HTML(value=' proc #2'), FloatProgress(value=0.0, max=53117.0), HTML(value='')))"
      ]
     },
     "metadata": {},
     "output_type": "display_data"
    },
    {
     "data": {
      "application/vnd.jupyter.widget-view+json": {
       "model_id": "84ff9ab4cbcb44f7bcb1648ee89c41a9",
       "version_major": 2,
       "version_minor": 0
      },
      "text/plain": [
       "HBox(children=(HTML(value=' proc #1'), FloatProgress(value=0.0, max=53117.0), HTML(value='')))"
      ]
     },
     "metadata": {},
     "output_type": "display_data"
    },
    {
     "data": {
      "application/vnd.jupyter.widget-view+json": {
       "model_id": "ed8312a0ea1c48c495893e676ca01dd5",
       "version_major": 2,
       "version_minor": 0
      },
      "text/plain": [
       "HBox(children=(HTML(value=' proc #3'), FloatProgress(value=0.0, max=53117.0), HTML(value='')))"
      ]
     },
     "metadata": {},
     "output_type": "display_data"
    },
    {
     "name": "stdout",
     "output_type": "stream",
     "text": [
      "\n",
      "\n",
      "\n",
      "\n",
      "[2]: finish\n",
      "[0]: finish\n"
     ]
    },
    {
     "name": "stderr",
     "output_type": "stream",
     "text": [
      "/usr/local/Cellar/python@3.9/3.9.7/Frameworks/Python.framework/Versions/3.9/lib/python3.9/multiprocessing/resource_tracker.py:216: UserWarning: resource_tracker: There appear to be 1 leaked semaphore objects to clean up at shutdown\n",
      "  warnings.warn('resource_tracker: There appear to be %d '\n"
     ]
    },
    {
     "name": "stdout",
     "output_type": "stream",
     "text": [
      "[3]: finish\n",
      "[1]: finish\n"
     ]
    },
    {
     "name": "stderr",
     "output_type": "stream",
     "text": [
      "/usr/local/Cellar/python@3.9/3.9.7/Frameworks/Python.framework/Versions/3.9/lib/python3.9/multiprocessing/resource_tracker.py:216: UserWarning: resource_tracker: There appear to be 1 leaked semaphore objects to clean up at shutdown\n",
      "  warnings.warn('resource_tracker: There appear to be %d '\n",
      "/usr/local/Cellar/python@3.9/3.9.7/Frameworks/Python.framework/Versions/3.9/lib/python3.9/multiprocessing/resource_tracker.py:216: UserWarning: resource_tracker: There appear to be 1 leaked semaphore objects to clean up at shutdown\n",
      "  warnings.warn('resource_tracker: There appear to be %d '\n",
      "/usr/local/Cellar/python@3.9/3.9.7/Frameworks/Python.framework/Versions/3.9/lib/python3.9/multiprocessing/resource_tracker.py:216: UserWarning: resource_tracker: There appear to be 1 leaked semaphore objects to clean up at shutdown\n",
      "  warnings.warn('resource_tracker: There appear to be %d '\n"
     ]
    },
    {
     "name": "stdout",
     "output_type": "stream",
     "text": [
      "Finished!\n",
      "CPU times: user 16.2 s, sys: 10.3 s, total: 26.5 s\n",
      "Wall time: 5min 25s\n"
     ]
    }
   ],
   "source": [
    "%%time\n",
    "from multiprocess import Process, Manager\n",
    "from typing import List\n",
    "# https://stackoverflow.com/questions/10415028/how-can-i-recover-the-return-value-of-a-function-passed-to-multiprocessing-proce\n",
    "\n",
    "def predict(i: int, users: List[int]):\n",
    "    print(f\"[{i}]: start\")\n",
    "    for user_id in tqdm(users, position=i, desc=f\" proc #{i}\"):\n",
    "        predicted_movies = list(get_random_recommendations())\n",
    "        actual_movies = list(test[test[\"userId\"] == user_id][\"tmdbId\"])\n",
    "        \n",
    "        result_io.write_results_new_format(result_io.NAME_RANDOM, user_id, predicted_movies, actual_movies)\n",
    "\n",
    "    print(f\"[{i}]: finish\")\n",
    "\n",
    "users_split = split_into_chunks(users, 6)\n",
    "\n",
    "procs = []\n",
    "for i, chunk in enumerate(users_split):\n",
    "    p = Process(target=predict, args=(i, chunk))\n",
    "    p.start()\n",
    "    procs.append(p)\n",
    "\n",
    "for p in procs:\n",
    "    p.join()\n",
    "\n",
    "print(\"Finished!\")"
   ]
  },
  {
   "cell_type": "code",
   "execution_count": null,
   "id": "b29190aa-3d89-4e04-9168-8f1843e21722",
   "metadata": {},
   "outputs": [],
   "source": []
  }
 ],
 "metadata": {
  "kernelspec": {
   "display_name": "Python 3 (ipykernel)",
   "language": "python",
   "name": "python3"
  },
  "language_info": {
   "codemirror_mode": {
    "name": "ipython",
    "version": 3
   },
   "file_extension": ".py",
   "mimetype": "text/x-python",
   "name": "python",
   "nbconvert_exporter": "python",
   "pygments_lexer": "ipython3",
   "version": "3.9.7"
  }
 },
 "nbformat": 4,
 "nbformat_minor": 5
}
