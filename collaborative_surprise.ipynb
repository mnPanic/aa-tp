{
 "cells": [
  {
   "cell_type": "markdown",
   "id": "289ff692-54d8-4fc1-b316-99a50391eaad",
   "metadata": {
    "tags": []
   },
   "source": [
    "# Collaborative filtering con surprise\n",
    "\n",
    "Fuente: https://www.kaggle.com/code/ibtesama/getting-started-with-a-movie-recommendation-system"
   ]
  },
  {
   "cell_type": "code",
   "execution_count": null,
   "id": "486d2e35-fde7-4502-a42f-f3b15322a6f5",
   "metadata": {},
   "outputs": [],
   "source": [
    "%load_ext autoreload\n",
    "%autoreload 2"
   ]
  },
  {
   "cell_type": "code",
   "execution_count": null,
   "id": "de26598d-3fdd-4248-ac9c-13902ce7bff8",
   "metadata": {},
   "outputs": [],
   "source": [
    "import pandas as pd\n",
    "import numpy as np\n",
    "import math\n",
    "import scipy.stats as stats\n",
    "from scipy import spatial\n",
    "import surprise\n",
    "import surprise.model_selection\n",
    "\n",
    "from sklearn.metrics.pairwise import cosine_similarity\n",
    "\n",
    "from tqdm.notebook import tqdm\n",
    "\n",
    "import time"
   ]
  },
  {
   "cell_type": "code",
   "execution_count": null,
   "id": "c6de494b-24d2-406d-ab8a-dd5c4f30016a",
   "metadata": {
    "tags": []
   },
   "outputs": [],
   "source": [
    "BASE_PATH = \"dataset\"\n",
    "movies = pd.read_csv(f\"{BASE_PATH}/movies_metadata.csv\", low_memory=False, dtype={'id':str, 'original_title':str})\n",
    "user_ratings = pd.read_csv(f\"{BASE_PATH}/ratings.csv\", dtype={'userId': str, 'movieId': str, 'rating': float,'timestamp': int})\n",
    "id_links = pd.read_csv(f\"{BASE_PATH}/links.csv\", dtype={'movieId': str, 'imdbId': str, 'tmdbId': str})"
   ]
  },
  {
   "cell_type": "code",
   "execution_count": null,
   "id": "ac5aeb14-fb02-4d8b-9bb1-a72e34728fbe",
   "metadata": {},
   "outputs": [],
   "source": [
    "def get_movie_name(movie_tmdb_id: str) -> str:\n",
    "    return movies[movies[\"id\"] == movie_tmdb_id][\"original_title\"][0]\n",
    "\n",
    "def get_movie_id(movie_name: str) -> str:\n",
    "    return movies[movies[\"original_title\"] == movie_name][\"id\"].iloc[0]"
   ]
  },
  {
   "cell_type": "code",
   "execution_count": null,
   "id": "063cf2ae-40ae-4e92-846e-15084691fb96",
   "metadata": {},
   "outputs": [],
   "source": [
    "def decorate_with_titles(df: pd.DataFrame):\n",
    "    df_with_titles = pd.merge(df, movies[[\"id\", \"original_title\"]], left_on=\"tmdbId\", right_on=\"id\", how=\"left\")\n",
    "    return df_with_titles.drop('id', axis=1) # 1 = columns\n",
    "    "
   ]
  },
  {
   "cell_type": "code",
   "execution_count": null,
   "id": "7688c96f-389a-4f59-a19a-6523c7ffe3bb",
   "metadata": {
    "tags": []
   },
   "outputs": [],
   "source": [
    "# Extend user ratings with additional information, movie ids\n",
    "user_ratings_ids = pd.merge(user_ratings, id_links[[\"movieId\", \"tmdbId\"]], left_on='movieId', right_on='movieId', how='left')"
   ]
  },
  {
   "cell_type": "code",
   "execution_count": null,
   "id": "f231a201-9bb5-4a20-938e-9fbb89cdc542",
   "metadata": {
    "tags": []
   },
   "outputs": [],
   "source": [
    "# movie names\n",
    "user_ratings_titles = decorate_with_titles(user_ratings_ids)"
   ]
  },
  {
   "cell_type": "code",
   "execution_count": null,
   "id": "de7af651-c555-4316-a32c-0490ad41abc4",
   "metadata": {},
   "outputs": [],
   "source": [
    "#user_ratings_small = user_ratings_titles[:len(user_ratings_titles) //128]\n",
    "#user_ratings_small = user_ratings_titles.sample(len(user_ratings_titles) // 2**4)\n",
    "user_ratings_small = user_ratings_ids\n",
    "print(f\"{len(user_ratings_small)} of {len(user_ratings_ids)}\")"
   ]
  },
  {
   "cell_type": "code",
   "execution_count": null,
   "id": "41321773-0a84-4388-8e8a-6f8d0947e49a",
   "metadata": {},
   "outputs": [],
   "source": [
    "def timestep(start: float, name: str) -> float:\n",
    "    now = time.time()\n",
    "    print(f\"{name}: {now - start}\")\n",
    "    return now"
   ]
  },
  {
   "cell_type": "code",
   "execution_count": null,
   "id": "c1472619-3a60-4069-b62e-f17e3cc9f821",
   "metadata": {},
   "outputs": [],
   "source": [
    "def predict_ratings_for_movies(model, user_id: str, movie_ids: pd.Series, train) -> pd.DataFrame:\n",
    "    rows = []\n",
    "\n",
    "    movies_rated_by_user = train[train['userId'] == user_id][\"tmdbId\"]\n",
    "    movie_ids = remove_rated_movies(movie_ids, movies_rated_by_user)\n",
    "\n",
    "    for _, movie_id in movie_ids.items():\n",
    "        pred = model.predict(user_id, movie_id)\n",
    "        rows.append({\"tmdbId\": movie_id, \"est_rating\": pred.est})\n",
    "\n",
    "    df = pd.DataFrame.from_records(rows)\n",
    "    top_10_movies = df.sort_values(by=\"est_rating\", ascending=False).head(10)\n",
    "    \n",
    "    # Comentado porque es muy lento y no hace falta\n",
    "    #top_10_movies = decorate_with_titles(top_10_movies)\n",
    "    \n",
    "    return top_10_movies"
   ]
  },
  {
   "cell_type": "code",
   "execution_count": null,
   "id": "88c91ab4-4cf0-4fa9-9f34-de91c7d9365b",
   "metadata": {},
   "outputs": [],
   "source": [
    "def remove_rated_movies(movie_ids: pd.Series, rated_movies: pd.Series) -> pd.Series:\n",
    "    # https://stackoverflow.com/questions/69774160/how-to-delete-values-from-one-pandas-series-that-are-common-to-another\n",
    "    return movie_ids[~np.isin(movie_ids, rated_movies)]"
   ]
  },
  {
   "cell_type": "code",
   "execution_count": null,
   "id": "e5cc2cc4-de73-49be-a9f6-fc66b7917290",
   "metadata": {},
   "outputs": [],
   "source": [
    "# TODO (optimizacion): para sacar los ids rateados mas rapido, se puede decorar user ratings\n",
    "# con el indice de la pelicula en movies para así hacer drop en remove_rated_movies."
   ]
  },
  {
   "cell_type": "markdown",
   "id": "b4e24153-deba-4e08-916c-91572f83df71",
   "metadata": {},
   "source": [
    "## Evaluación"
   ]
  },
  {
   "cell_type": "markdown",
   "id": "cae4b9f0-ccab-47cc-a430-ef5381708506",
   "metadata": {},
   "source": [
    "Para usar MARK y MAPK, tenemos que pasar dos listas de la misma longitud que representan los ratings reales (*actual*) y\n",
    "los ratings predichos (*predicted*).\n",
    "\n",
    "Para separar el dataset en train y test, vamos a sacar 10 películas de cada usuario. Luego vamos a predecir 10 para cada uno y\n",
    "aplicar MARK y MAPK para evaluar cada modelo.\n",
    "\n",
    "Previamente vamos a filtrar el dataset de todos los usuarios que no tengan al menos 15 películas, para tener suficientes para entrenar."
   ]
  },
  {
   "cell_type": "code",
   "execution_count": null,
   "id": "37be5ac8-70c9-42d3-99d0-834a00a8cf1f",
   "metadata": {},
   "outputs": [],
   "source": [
    "# 1. Sacar películas para las que no tenemos metadata\n",
    "# hay algunas películas como \"253768\" que están en ratings pero no en movies.\n",
    "rated_movies = user_ratings_small[\"tmdbId\"]\n",
    "rated_movies_with_metadata = rated_movies[rated_movies.isin(movies[\"id\"])]\n",
    "metadata_filtered_user_ratings = user_ratings_small[user_ratings_small[\"tmdbId\"].isin(rated_movies_with_metadata)]\n",
    "\n",
    "print(f\"total: {len(user_ratings_small)}, after filter: {len(metadata_filtered_user_ratings)}\")"
   ]
  },
  {
   "cell_type": "code",
   "execution_count": null,
   "id": "76b5b1cf-c5f2-4f6c-9643-73e1428fa673",
   "metadata": {},
   "outputs": [],
   "source": [
    "# 2. Sacar los que tienen menos de 15\n",
    "user_rating_count = metadata_filtered_user_ratings.groupby([\"userId\"]).count()\n",
    "users_to_remove = user_rating_count[user_rating_count[\"movieId\"] < 15].reset_index()[\"userId\"]\n",
    "filtered_user_ratings = metadata_filtered_user_ratings[~metadata_filtered_user_ratings[\"userId\"].isin(users_to_remove)]\n",
    "\n",
    "print(f\"total: {len(metadata_filtered_user_ratings)}, after filter: {len(filtered_user_ratings)}\")\n",
    "print(f\"(diff = {len(metadata_filtered_user_ratings) - len(filtered_user_ratings)})\")"
   ]
  },
  {
   "cell_type": "code",
   "execution_count": null,
   "id": "3727f916-1470-496e-8f45-ebe059eb495c",
   "metadata": {},
   "outputs": [],
   "source": [
    "# 1. Sacar los que tienen menos de 15\n",
    "user_rating_count = user_ratings_small.groupby([\"userId\"]).count()\n",
    "users_to_remove = user_rating_count[user_rating_count[\"movieId\"] < 15].reset_index()[\"userId\"]\n",
    "filtered_user_ratings = user_ratings_small[~user_ratings_small[\"userId\"].isin(users_to_remove)]"
   ]
  },
  {
   "cell_type": "code",
   "execution_count": null,
   "id": "9f532ea7-32dc-4839-afe9-457413cef6c3",
   "metadata": {},
   "outputs": [],
   "source": [
    "filtered_user_ratings"
   ]
  },
  {
   "cell_type": "code",
   "execution_count": null,
   "id": "c0b6e158-e339-40c0-9f0a-58271314eeef",
   "metadata": {},
   "outputs": [],
   "source": [
    "def split_into_chunks(elems: list, chunks: int):\n",
    "    chunk_size = len(elems)//chunks\n",
    "    rem = len(elems)%chunks\n",
    "    chunks_split = [ elems[chunk_size*i:chunk_size*(i+1)] for i in range(0, chunks)]\n",
    "\n",
    "    # Agregamos el resto al último\n",
    "    chunks_split[chunks-1].extend(elems[len(elems) - rem:])\n",
    "\n",
    "    return chunks_split"
   ]
  },
  {
   "cell_type": "code",
   "execution_count": null,
   "id": "23e61171-b863-4f9d-975b-b0a95699830d",
   "metadata": {},
   "outputs": [],
   "source": [
    "# 3. Sacar 10 de cada uno para test\n",
    "NUM_PROCS = 4\n",
    "\n",
    "from multiprocess import Process, Manager\n",
    "from typing import List\n",
    "# https://stackoverflow.com/questions/10415028/how-can-i-recover-the-return-value-of-a-function-passed-to-multiprocessing-proce\n",
    "\n",
    "def sample_test_ratings(procnum: int, return_dict, users: List[int]):\n",
    "    print(f\"[{procnum}] start\")\n",
    "    test = pd.DataFrame(columns=filtered_user_ratings.columns)\n",
    "\n",
    "    for user_id in tqdm(users, position=procnum, desc=f\" proc #{procnum}\"):\n",
    "        movies_of_user = filtered_user_ratings[filtered_user_ratings[\"userId\"] == user_id].sample(n=10)\n",
    "        test = pd.concat([test, movies_of_user])\n",
    "\n",
    "    return_dict[procnum] = test\n",
    "    print(f\"[{procnum}] finish\")\n",
    "\n",
    "user_ids = list(filtered_user_ratings[\"userId\"].unique())\n",
    "users_split = split_into_chunks(user_ids, NUM_PROCS)\n",
    "\n",
    "procs = []\n",
    "manager = Manager()\n",
    "return_dict = manager.dict()\n",
    "for i, chunk in enumerate(users_split):\n",
    "    p = Process(target=sample_test_ratings, args=(i, return_dict, chunk))\n",
    "    p.start()\n",
    "    procs.append(p)\n",
    "\n",
    "for p in procs:\n",
    "    p.join()\n",
    "\n",
    "test = pd.DataFrame(columns=filtered_user_ratings.columns)\n",
    "for return_value in return_dict.values():\n",
    "    test = pd.concat([test, return_value])\n",
    "    \n",
    "train = filtered_user_ratings.drop(test.index)\n",
    "\n",
    "print(\"Finished!\")"
   ]
  },
  {
   "cell_type": "code",
   "execution_count": null,
   "id": "6fee3eae-bafd-430b-81a2-c3b7239ccc4f",
   "metadata": {},
   "outputs": [],
   "source": [
    "train = pd.read_csv(\"dfs/content-train.csv\", index_col=0, dtype={\"tmdbId\": str})\n",
    "test = pd.read_csv(\"dfs/content-test.csv\", index_col=0, dtype={\"tmdbId\": str})"
   ]
  },
  {
   "cell_type": "code",
   "execution_count": null,
   "id": "5cb0dc73-f96e-45c3-a9df-abd0b963773b",
   "metadata": {},
   "outputs": [],
   "source": [
    "# 3. Entrenamos el modelo con la data de train\n",
    "# user_ratings_small_sup = user_ratings_small[['userId', 'tmdbId', 'rating']].dropna()\n",
    "reader = surprise.Reader(rating_scale=(1, 5))\n",
    "data = surprise.Dataset.load_from_df(train[['userId', 'tmdbId', 'rating']], reader)"
   ]
  },
  {
   "cell_type": "code",
   "execution_count": null,
   "id": "ff93c724-68c5-4e3e-97e7-1a61be8760a7",
   "metadata": {},
   "outputs": [],
   "source": [
    "%%time\n",
    "svd = surprise.SVD()\n",
    "trainset = data.build_full_trainset()\n",
    "svd.fit(trainset)"
   ]
  },
  {
   "cell_type": "code",
   "execution_count": null,
   "id": "66c4cee1-f68d-417f-8e9d-d223b07d689e",
   "metadata": {},
   "outputs": [],
   "source": [
    "import average_precision\n",
    "import recmetrics.metrics"
   ]
  },
  {
   "cell_type": "code",
   "execution_count": null,
   "id": "99d47011-fa92-466b-bff2-f203d8dab07e",
   "metadata": {},
   "outputs": [],
   "source": [
    "%%time\n",
    "from multiprocess import Process, Manager\n",
    "from typing import List\n",
    "# https://stackoverflow.com/questions/10415028/how-can-i-recover-the-return-value-of-a-function-passed-to-multiprocessing-proce\n",
    "\n",
    "def predict(i: int, return_dict, users: List[int]):\n",
    "    actual = []\n",
    "    predicted = []\n",
    "    print(f\"[{i}]: start\")\n",
    "    for user_id in tqdm(users, position=i, desc=f\" proc #{i}\"):\n",
    "        predicted_movies = predict_ratings_for_movies(svd, user_id, all_movie_ids, train)[\"tmdbId\"]\n",
    "        actual_movies = test[test[\"userId\"] == user_id][\"tmdbId\"]\n",
    "        \n",
    "        predicted.append(list(predicted_movies))\n",
    "        actual.append(list(actual_movies))\n",
    "        \n",
    "    return_dict[i] = {\n",
    "        \"pred\": predicted,\n",
    "        \"actual\": actual,\n",
    "    }\n",
    "\n",
    "    print(f\"[{i}]: finish\")\n",
    "\n",
    "users_split = split_into_chunks(list(train[\"userId\"].unique()), 6)\n",
    "\n",
    "procs = []\n",
    "manager = Manager()\n",
    "return_dict = manager.dict()\n",
    "for i, chunk in enumerate(users_split):\n",
    "    p = Process(target=predict, args=(i, return_dict, chunk))\n",
    "    p.start()\n",
    "    procs.append(p)\n",
    "\n",
    "for p in procs:\n",
    "    p.join()\n",
    "\n",
    "predicted = []\n",
    "actual = []\n",
    "\n",
    "for return_value in return_dict.values():\n",
    "    predicted.extend(return_value[\"pred\"])\n",
    "    actual.extend(return_value[\"actual\"])\n",
    "print(\"Finished!\")"
   ]
  },
  {
   "cell_type": "code",
   "execution_count": null,
   "id": "f1bba168-b8be-405d-b866-ba73b9f47b16",
   "metadata": {},
   "outputs": [],
   "source": [
    "mark = recmetrics.metrics.mark(actual, predicted, k=10)\n",
    "mapk = average_precision.mapk(actual, predicted, k=10)\n",
    "mark, mapk\n",
    "# (0.0027199076980248984, 0.0027199076980248984)"
   ]
  },
  {
   "cell_type": "code",
   "execution_count": null,
   "id": "3d1c4d55-20ae-4994-a64e-013e79746801",
   "metadata": {},
   "outputs": [],
   "source": [
    "# test is in\n",
    "df = pd.DataFrame({\n",
    "    'ids': [1, 2, 3, 4],\n",
    "    'values': [\"a\", \"b\", \"c\", \"d\"]\n",
    "})\n",
    "\n",
    "to_remove = pd.Series([1, 2])\n",
    "df[~df[\"ids\"].isin(to_remove)]"
   ]
  },
  {
   "cell_type": "code",
   "execution_count": null,
   "id": "62e024c0-6604-44b4-9ef5-4c8da1839402",
   "metadata": {},
   "outputs": [],
   "source": [
    "# TODO: Tal vez da 0,0 porque los tipos de ids de actual y predicted son int y string."
   ]
  }
 ],
 "metadata": {
  "kernelspec": {
   "display_name": "Python 3 (ipykernel)",
   "language": "python",
   "name": "python3"
  },
  "language_info": {
   "codemirror_mode": {
    "name": "ipython",
    "version": 3
   },
   "file_extension": ".py",
   "mimetype": "text/x-python",
   "name": "python",
   "nbconvert_exporter": "python",
   "pygments_lexer": "ipython3",
   "version": "3.9.7"
  }
 },
 "nbformat": 4,
 "nbformat_minor": 5
}
