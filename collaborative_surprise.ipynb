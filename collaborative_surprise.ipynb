{
 "cells": [
  {
   "cell_type": "markdown",
   "id": "289ff692-54d8-4fc1-b316-99a50391eaad",
   "metadata": {
    "tags": []
   },
   "source": [
    "# Collaborative filtering con surprise\n",
    "\n",
    "Fuente: https://www.kaggle.com/code/ibtesama/getting-started-with-a-movie-recommendation-system"
   ]
  },
  {
   "cell_type": "code",
   "execution_count": 1,
   "id": "486d2e35-fde7-4502-a42f-f3b15322a6f5",
   "metadata": {},
   "outputs": [],
   "source": [
    "%load_ext autoreload\n",
    "%autoreload 2"
   ]
  },
  {
   "cell_type": "code",
   "execution_count": 2,
   "id": "de26598d-3fdd-4248-ac9c-13902ce7bff8",
   "metadata": {},
   "outputs": [],
   "source": [
    "import pandas as pd\n",
    "import numpy as np\n",
    "import math\n",
    "import scipy.stats as stats\n",
    "from scipy import spatial\n",
    "import surprise\n",
    "import surprise.model_selection\n",
    "\n",
    "from sklearn.metrics.pairwise import cosine_similarity"
   ]
  },
  {
   "cell_type": "code",
   "execution_count": 3,
   "id": "c6de494b-24d2-406d-ab8a-dd5c4f30016a",
   "metadata": {
    "tags": []
   },
   "outputs": [],
   "source": [
    "BASE_PATH = \"dataset\"\n",
    "movies = pd.read_csv(f\"{BASE_PATH}/movies_metadata.csv\", low_memory=False, dtype={'id':str, 'original_title':str})\n",
    "user_ratings = pd.read_csv(f\"{BASE_PATH}/ratings.csv\", dtype={'userId': str, 'movieId': str, 'rating': float,'timestamp': int})\n",
    "id_links = pd.read_csv(f\"{BASE_PATH}/links.csv\", dtype={'movieId': str, 'imdbId': str, 'tmdbId': str})"
   ]
  },
  {
   "cell_type": "code",
   "execution_count": 4,
   "id": "ac5aeb14-fb02-4d8b-9bb1-a72e34728fbe",
   "metadata": {},
   "outputs": [],
   "source": [
    "def get_movie_name(movie_tmdb_id: str) -> str:\n",
    "    return movies[movies[\"id\"] == movie_tmdb_id][\"original_title\"][0]\n",
    "\n",
    "def get_movie_id(movie_name: str) -> str:\n",
    "    return movies[movies[\"original_title\"] == movie_name][\"id\"].iloc[0]"
   ]
  },
  {
   "cell_type": "code",
   "execution_count": 5,
   "id": "063cf2ae-40ae-4e92-846e-15084691fb96",
   "metadata": {},
   "outputs": [],
   "source": [
    "def decorate_with_titles(df: pd.DataFrame):\n",
    "    df_with_titles = pd.merge(df, movies[[\"id\", \"original_title\"]], left_on=\"tmdbId\", right_on=\"id\", how=\"left\")\n",
    "    return df_with_titles.drop('id', axis=1) # 1 = columns\n",
    "    "
   ]
  },
  {
   "cell_type": "code",
   "execution_count": 6,
   "id": "7688c96f-389a-4f59-a19a-6523c7ffe3bb",
   "metadata": {
    "tags": []
   },
   "outputs": [],
   "source": [
    "# Extend user ratings with additional information\n",
    "\n",
    "# movie ids\n",
    "user_ratings_ids = pd.merge(user_ratings, id_links[[\"movieId\", \"tmdbId\"]], left_on='movieId', right_on='movieId', how='left')"
   ]
  },
  {
   "cell_type": "code",
   "execution_count": 7,
   "id": "f231a201-9bb5-4a20-938e-9fbb89cdc542",
   "metadata": {
    "tags": []
   },
   "outputs": [],
   "source": [
    "# movie names\n",
    "user_ratings_titles = decorate_with_titles(user_ratings_ids)"
   ]
  },
  {
   "cell_type": "code",
   "execution_count": 83,
   "id": "de7af651-c555-4316-a32c-0490ad41abc4",
   "metadata": {},
   "outputs": [
    {
     "data": {
      "text/plain": [
       "203389"
      ]
     },
     "execution_count": 83,
     "metadata": {},
     "output_type": "execute_result"
    }
   ],
   "source": [
    "#user_ratings_small = user_ratings_titles[:len(user_ratings_titles) //128]\n",
    "user_ratings_small = user_ratings_titles[:len(user_ratings_titles) // 2**7]\n",
    "len(user_ratings_small)"
   ]
  },
  {
   "cell_type": "code",
   "execution_count": 84,
   "id": "c1472619-3a60-4069-b62e-f17e3cc9f821",
   "metadata": {},
   "outputs": [],
   "source": [
    "def predict_ratings_for_movies(model, user_id: str, movie_ids: pd.Series) -> pd.DataFrame:\n",
    "    rows = []\n",
    "    movies_rated_by_user = user_ratings_small[user_ratings_small['userId'] == user_id][\"tmdbId\"]\n",
    "    movie_ids = remove_rated_movies(movie_ids, movies_rated_by_user)\n",
    "\n",
    "    for _, movie_id in movie_ids.items():\n",
    "        pred = model.predict(user_id, movie_id)\n",
    "        rows.append({\"tmdbId\": movie_id, \"est_rating\": pred.est})\n",
    "\n",
    "    return decorate_with_titles(pd.DataFrame.from_records(rows)).sort_values(by=\"est_rating\", ascending=False).head(10)"
   ]
  },
  {
   "cell_type": "code",
   "execution_count": 85,
   "id": "88c91ab4-4cf0-4fa9-9f34-de91c7d9365b",
   "metadata": {},
   "outputs": [],
   "source": [
    "def remove_rated_movies(movie_ids: pd.Series, rated_movies: pd.Series) -> pd.Series:\n",
    "    # https://stackoverflow.com/questions/69774160/how-to-delete-values-from-one-pandas-series-that-are-common-to-another\n",
    "    return movie_ids[~np.isin(movie_ids, rated_movies)]"
   ]
  },
  {
   "cell_type": "markdown",
   "id": "b4e24153-deba-4e08-916c-91572f83df71",
   "metadata": {},
   "source": [
    "## Evaluación"
   ]
  },
  {
   "cell_type": "code",
   "execution_count": 86,
   "id": "dadf8f3f-650b-4a0f-a4a1-80577fa1a123",
   "metadata": {},
   "outputs": [
    {
     "data": {
      "text/html": [
       "<div>\n",
       "<style scoped>\n",
       "    .dataframe tbody tr th:only-of-type {\n",
       "        vertical-align: middle;\n",
       "    }\n",
       "\n",
       "    .dataframe tbody tr th {\n",
       "        vertical-align: top;\n",
       "    }\n",
       "\n",
       "    .dataframe thead th {\n",
       "        text-align: right;\n",
       "    }\n",
       "</style>\n",
       "<table border=\"1\" class=\"dataframe\">\n",
       "  <thead>\n",
       "    <tr style=\"text-align: right;\">\n",
       "      <th></th>\n",
       "      <th>userId</th>\n",
       "      <th>movieId</th>\n",
       "      <th>timestamp</th>\n",
       "      <th>tmdbId</th>\n",
       "    </tr>\n",
       "    <tr>\n",
       "      <th>rating</th>\n",
       "      <th></th>\n",
       "      <th></th>\n",
       "      <th></th>\n",
       "      <th></th>\n",
       "    </tr>\n",
       "  </thead>\n",
       "  <tbody>\n",
       "    <tr>\n",
       "      <th>18276</th>\n",
       "      <td>1</td>\n",
       "      <td>1</td>\n",
       "      <td>1</td>\n",
       "      <td>1</td>\n",
       "    </tr>\n",
       "    <tr>\n",
       "      <th>1801</th>\n",
       "      <td>1</td>\n",
       "      <td>1</td>\n",
       "      <td>1</td>\n",
       "      <td>1</td>\n",
       "    </tr>\n",
       "    <tr>\n",
       "      <th>1271</th>\n",
       "      <td>1</td>\n",
       "      <td>1</td>\n",
       "      <td>1</td>\n",
       "      <td>1</td>\n",
       "    </tr>\n",
       "    <tr>\n",
       "      <th>1809</th>\n",
       "      <td>1</td>\n",
       "      <td>1</td>\n",
       "      <td>1</td>\n",
       "      <td>1</td>\n",
       "    </tr>\n",
       "    <tr>\n",
       "      <th>1810</th>\n",
       "      <td>1</td>\n",
       "      <td>1</td>\n",
       "      <td>1</td>\n",
       "      <td>1</td>\n",
       "    </tr>\n",
       "    <tr>\n",
       "      <th>...</th>\n",
       "      <td>...</td>\n",
       "      <td>...</td>\n",
       "      <td>...</td>\n",
       "      <td>...</td>\n",
       "    </tr>\n",
       "    <tr>\n",
       "      <th>10</th>\n",
       "      <td>6795</td>\n",
       "      <td>6795</td>\n",
       "      <td>6795</td>\n",
       "      <td>6795</td>\n",
       "    </tr>\n",
       "    <tr>\n",
       "      <th>17</th>\n",
       "      <td>7012</td>\n",
       "      <td>7012</td>\n",
       "      <td>7012</td>\n",
       "      <td>7012</td>\n",
       "    </tr>\n",
       "    <tr>\n",
       "      <th>5</th>\n",
       "      <td>7324</td>\n",
       "      <td>7324</td>\n",
       "      <td>7324</td>\n",
       "      <td>7324</td>\n",
       "    </tr>\n",
       "    <tr>\n",
       "      <th>16</th>\n",
       "      <td>10105</td>\n",
       "      <td>10105</td>\n",
       "      <td>10105</td>\n",
       "      <td>10105</td>\n",
       "    </tr>\n",
       "    <tr>\n",
       "      <th>15</th>\n",
       "      <td>19289</td>\n",
       "      <td>19289</td>\n",
       "      <td>19289</td>\n",
       "      <td>19289</td>\n",
       "    </tr>\n",
       "  </tbody>\n",
       "</table>\n",
       "<p>2095 rows × 4 columns</p>\n",
       "</div>"
      ],
      "text/plain": [
       "        userId  movieId  timestamp  tmdbId\n",
       "rating                                    \n",
       "18276        1        1          1       1\n",
       "1801         1        1          1       1\n",
       "1271         1        1          1       1\n",
       "1809         1        1          1       1\n",
       "1810         1        1          1       1\n",
       "...        ...      ...        ...     ...\n",
       "10        6795     6795       6795    6795\n",
       "17        7012     7012       7012    7012\n",
       "5         7324     7324       7324    7324\n",
       "16       10105    10105      10105   10105\n",
       "15       19289    19289      19289   19289\n",
       "\n",
       "[2095 rows x 4 columns]"
      ]
     },
     "execution_count": 86,
     "metadata": {},
     "output_type": "execute_result"
    }
   ],
   "source": [
    "# Cuantos users tienen cierta cantidad de ratings?\n",
    "#user_ratings_ids_sin_friki = user_ratings_ids[user_ratings_ids[\"userId\"] != \"45811\"]\n",
    "#user_ratings_ids.groupby([\"userId\"]).count().reset_index().groupby([\"rating\"]).count().sort_values(\"userId\")\n",
    "#user_ratings_small.groupby([\"userId\"]).count().reset_index().groupby([\"rating\"]).count().sort_values(\"userId\")"
   ]
  },
  {
   "cell_type": "code",
   "execution_count": 13,
   "id": "b52d0ec8-c5a0-4694-8ea2-16ccec2618c3",
   "metadata": {},
   "outputs": [
    {
     "data": {
      "text/html": [
       "<div>\n",
       "<style scoped>\n",
       "    .dataframe tbody tr th:only-of-type {\n",
       "        vertical-align: middle;\n",
       "    }\n",
       "\n",
       "    .dataframe tbody tr th {\n",
       "        vertical-align: top;\n",
       "    }\n",
       "\n",
       "    .dataframe thead th {\n",
       "        text-align: right;\n",
       "    }\n",
       "</style>\n",
       "<table border=\"1\" class=\"dataframe\">\n",
       "  <thead>\n",
       "    <tr style=\"text-align: right;\">\n",
       "      <th></th>\n",
       "      <th>userId</th>\n",
       "      <th>movieId</th>\n",
       "      <th>rating</th>\n",
       "      <th>timestamp</th>\n",
       "      <th>tmdbId</th>\n",
       "    </tr>\n",
       "  </thead>\n",
       "  <tbody>\n",
       "    <tr>\n",
       "      <th>4439700</th>\n",
       "      <td>45811</td>\n",
       "      <td>1</td>\n",
       "      <td>4.0</td>\n",
       "      <td>1450166644</td>\n",
       "      <td>862</td>\n",
       "    </tr>\n",
       "    <tr>\n",
       "      <th>4439701</th>\n",
       "      <td>45811</td>\n",
       "      <td>2</td>\n",
       "      <td>3.0</td>\n",
       "      <td>1473241811</td>\n",
       "      <td>8844</td>\n",
       "    </tr>\n",
       "    <tr>\n",
       "      <th>4439702</th>\n",
       "      <td>45811</td>\n",
       "      <td>6</td>\n",
       "      <td>4.0</td>\n",
       "      <td>1450164123</td>\n",
       "      <td>949</td>\n",
       "    </tr>\n",
       "    <tr>\n",
       "      <th>4439703</th>\n",
       "      <td>45811</td>\n",
       "      <td>9</td>\n",
       "      <td>2.5</td>\n",
       "      <td>1482568533</td>\n",
       "      <td>9091</td>\n",
       "    </tr>\n",
       "    <tr>\n",
       "      <th>4439704</th>\n",
       "      <td>45811</td>\n",
       "      <td>10</td>\n",
       "      <td>3.0</td>\n",
       "      <td>1485704866</td>\n",
       "      <td>710</td>\n",
       "    </tr>\n",
       "    <tr>\n",
       "      <th>...</th>\n",
       "      <td>...</td>\n",
       "      <td>...</td>\n",
       "      <td>...</td>\n",
       "      <td>...</td>\n",
       "      <td>...</td>\n",
       "    </tr>\n",
       "    <tr>\n",
       "      <th>4457971</th>\n",
       "      <td>45811</td>\n",
       "      <td>175941</td>\n",
       "      <td>3.0</td>\n",
       "      <td>1501022661</td>\n",
       "      <td>81313</td>\n",
       "    </tr>\n",
       "    <tr>\n",
       "      <th>4457972</th>\n",
       "      <td>45811</td>\n",
       "      <td>175945</td>\n",
       "      <td>2.0</td>\n",
       "      <td>1501022673</td>\n",
       "      <td>190817</td>\n",
       "    </tr>\n",
       "    <tr>\n",
       "      <th>4457973</th>\n",
       "      <td>45811</td>\n",
       "      <td>175951</td>\n",
       "      <td>1.5</td>\n",
       "      <td>1501022675</td>\n",
       "      <td>120831</td>\n",
       "    </tr>\n",
       "    <tr>\n",
       "      <th>4457974</th>\n",
       "      <td>45811</td>\n",
       "      <td>175967</td>\n",
       "      <td>2.5</td>\n",
       "      <td>1501022665</td>\n",
       "      <td>43656</td>\n",
       "    </tr>\n",
       "    <tr>\n",
       "      <th>4457975</th>\n",
       "      <td>45811</td>\n",
       "      <td>175971</td>\n",
       "      <td>3.5</td>\n",
       "      <td>1501022648</td>\n",
       "      <td>366505</td>\n",
       "    </tr>\n",
       "  </tbody>\n",
       "</table>\n",
       "<p>18276 rows × 5 columns</p>\n",
       "</div>"
      ],
      "text/plain": [
       "        userId movieId  rating   timestamp  tmdbId\n",
       "4439700  45811       1     4.0  1450166644     862\n",
       "4439701  45811       2     3.0  1473241811    8844\n",
       "4439702  45811       6     4.0  1450164123     949\n",
       "4439703  45811       9     2.5  1482568533    9091\n",
       "4439704  45811      10     3.0  1485704866     710\n",
       "...        ...     ...     ...         ...     ...\n",
       "4457971  45811  175941     3.0  1501022661   81313\n",
       "4457972  45811  175945     2.0  1501022673  190817\n",
       "4457973  45811  175951     1.5  1501022675  120831\n",
       "4457974  45811  175967     2.5  1501022665   43656\n",
       "4457975  45811  175971     3.5  1501022648  366505\n",
       "\n",
       "[18276 rows x 5 columns]"
      ]
     },
     "execution_count": 13,
     "metadata": {},
     "output_type": "execute_result"
    }
   ],
   "source": [
    "user_ratings_ids[user_ratings_ids[\"userId\"] == \"45811\"]"
   ]
  },
  {
   "cell_type": "markdown",
   "id": "cae4b9f0-ccab-47cc-a430-ef5381708506",
   "metadata": {},
   "source": [
    "Para usar MARK y MAPK, tenemos que pasar dos listas de la misma longitud que representan los ratings reales (*actual*) y\n",
    "los ratings predichos (*predicted*).\n",
    "\n",
    "Para separar el dataset en train y test, vamos a sacar 10 películas de cada usuario. Luego vamos a predecir 10 para cada uno y\n",
    "aplicar MARK y MAPK para evaluar cada modelo.\n",
    "\n",
    "Previamente vamos a filtrar el dataset de todos los usuarios que no tengan al menos 15 películas, para tener suficientes para entrenar."
   ]
  },
  {
   "cell_type": "code",
   "execution_count": 87,
   "id": "3727f916-1470-496e-8f45-ebe059eb495c",
   "metadata": {},
   "outputs": [],
   "source": [
    "# 1. Sacar los que tienen menos de 15\n",
    "user_rating_count = user_ratings_small.groupby([\"userId\"]).count()\n",
    "users_to_remove = user_rating_count[user_rating_count[\"movieId\"] < 15].reset_index()[\"userId\"]\n",
    "filtered_user_ratings = user_ratings_small[~user_ratings_small[\"userId\"].isin(users_to_remove)]"
   ]
  },
  {
   "cell_type": "code",
   "execution_count": 88,
   "id": "23e61171-b863-4f9d-975b-b0a95699830d",
   "metadata": {},
   "outputs": [
    {
     "name": "stderr",
     "output_type": "stream",
     "text": [
      "/opt/homebrew/anaconda3/lib/python3.9/site-packages/pandas/core/frame.py:4906: SettingWithCopyWarning: \n",
      "A value is trying to be set on a copy of a slice from a DataFrame\n",
      "\n",
      "See the caveats in the documentation: https://pandas.pydata.org/pandas-docs/stable/user_guide/indexing.html#returning-a-view-versus-a-copy\n",
      "  return super().drop(\n"
     ]
    }
   ],
   "source": [
    "# 2. Sacar 10 de cada uno para test\n",
    "user_ids = filtered_user_ratings[\"userId\"].unique()\n",
    "train = filtered_user_ratings\n",
    "test = pd.DataFrame(columns=filtered_user_ratings.columns)\n",
    "\n",
    "for user_id in user_ids:\n",
    "    movies_of_user = filtered_user_ratings[filtered_user_ratings[\"userId\"] == user_id].sample(n=10)\n",
    "    train.drop(movies_of_user.index, inplace=True)\n",
    "    test = pd.concat([test, movies_of_user])"
   ]
  },
  {
   "cell_type": "code",
   "execution_count": 89,
   "id": "5cb0dc73-f96e-45c3-a9df-abd0b963773b",
   "metadata": {},
   "outputs": [],
   "source": [
    "# 3. Entrenamos el modelo con la data de train\n",
    "# user_ratings_small_sup = user_ratings_small[['userId', 'tmdbId', 'rating']].dropna()\n",
    "reader = surprise.Reader(rating_scale=(1, 5))\n",
    "data = surprise.Dataset.load_from_df(train[['userId', 'tmdbId', 'rating']], reader)"
   ]
  },
  {
   "cell_type": "code",
   "execution_count": 90,
   "id": "ff93c724-68c5-4e3e-97e7-1a61be8760a7",
   "metadata": {},
   "outputs": [
    {
     "data": {
      "text/plain": [
       "<surprise.prediction_algorithms.matrix_factorization.SVD at 0x7f9f4a1ab1f0>"
      ]
     },
     "execution_count": 90,
     "metadata": {},
     "output_type": "execute_result"
    }
   ],
   "source": [
    "svd = surprise.SVD()\n",
    "trainset = data.build_full_trainset()\n",
    "svd.fit(trainset)"
   ]
  },
  {
   "cell_type": "code",
   "execution_count": 91,
   "id": "66c4cee1-f68d-417f-8e9d-d223b07d689e",
   "metadata": {},
   "outputs": [],
   "source": [
    "import average_precision\n",
    "import recmetrics.metrics\n",
    "from tqdm import tqdm"
   ]
  },
  {
   "cell_type": "code",
   "execution_count": 95,
   "id": "99d47011-fa92-466b-bff2-f203d8dab07e",
   "metadata": {},
   "outputs": [
    {
     "name": "stderr",
     "output_type": "stream",
     "text": [
      "100%|█████████████████████| 1663/1663 [07:57<00:00,  3.48it/s]"
     ]
    },
    {
     "name": "stdout",
     "output_type": "stream",
     "text": [
      "Finished!\n"
     ]
    },
    {
     "name": "stderr",
     "output_type": "stream",
     "text": [
      "\n"
     ]
    }
   ],
   "source": [
    "\n",
    "predicted = []\n",
    "actual = []\n",
    "user_ids = train[\"userId\"].unique()\n",
    "all_movie_ids = movies[\"id\"]\n",
    "for user_id in tqdm(user_ids):\n",
    "    predicted_movies = predict_ratings_for_movies(svd, user_id, all_movie_ids)[\"tmdbId\"]\n",
    "    predicted.append(predicted_movies)\n",
    "\n",
    "    actual_movies = test[test[\"userId\"] == user_id][\"tmdbId\"]\n",
    "    actual.append(actual_movies)\n",
    "\n",
    "print(\"Finished!\")"
   ]
  },
  {
   "cell_type": "code",
   "execution_count": 96,
   "id": "944d4a4e-de74-4d61-a470-83b6ddd838ad",
   "metadata": {},
   "outputs": [],
   "source": [
    "predicted2 = list(map(list, predicted))\n",
    "actual2 = list(map(list, actual))"
   ]
  },
  {
   "cell_type": "code",
   "execution_count": 97,
   "id": "9be8eb24-c76f-4525-9c8f-d222843640c3",
   "metadata": {},
   "outputs": [],
   "source": [
    "mark = recmetrics.metrics.mark(predicted2, actual2)\n",
    "mapk = average_precision.mapk(predicted2, actual2)"
   ]
  },
  {
   "cell_type": "code",
   "execution_count": 98,
   "id": "69b646e0-bab6-4cb3-a318-98d253f2b91b",
   "metadata": {},
   "outputs": [
    {
     "data": {
      "text/plain": [
       "(0.0, 0.0)"
      ]
     },
     "execution_count": 98,
     "metadata": {},
     "output_type": "execute_result"
    }
   ],
   "source": [
    "mark, mapk"
   ]
  },
  {
   "cell_type": "code",
   "execution_count": 92,
   "id": "7a91bf92-7987-4ed7-86f2-29ca8dd16803",
   "metadata": {},
   "outputs": [],
   "source": [
    "def split_into_chunks(elems: list, chunks: int):\n",
    "    chunk_size = len(elems)//chunks\n",
    "    rem = len(elems)%chunks\n",
    "    chunks_split = [ elems[chunk_size*i:chunk_size*(i+1)] for i in range(0, chunks)]\n",
    "\n",
    "    # Agregamos el resto al último\n",
    "    chunks_split[chunks-1].extend(user_ids[len(user_ids) - rem:])\n",
    "\n",
    "    return chunks_split"
   ]
  },
  {
   "cell_type": "code",
   "execution_count": 93,
   "id": "bf6397d9-159b-43b3-924b-9aa19d4e6f77",
   "metadata": {},
   "outputs": [
    {
     "name": "stdout",
     "output_type": "stream",
     "text": [
      "[0]: start\n",
      "[1]: start\n",
      "[2]: start\n",
      "[3]: start\n",
      "[4]: start\n",
      "[5]: start[6]: start\n",
      "\n",
      "[7]: start\n",
      "[5]: finish\n",
      "[0]: finish\n",
      "[6]: finish\n",
      "[1]: finish\n",
      "[3]: finish\n",
      "[7]: finish\n",
      "[4]: finish\n",
      "[2]: finish\n",
      "Finished!\n",
      "CPU times: user 59.6 ms, sys: 129 ms, total: 189 ms\n",
      "Wall time: 1min 46s\n"
     ]
    }
   ],
   "source": [
    "%%time\n",
    "from multiprocess import Process, Manager\n",
    "from typing import List\n",
    "# https://stackoverflow.com/questions/10415028/how-can-i-recover-the-return-value-of-a-function-passed-to-multiprocessing-proce\n",
    "\n",
    "\n",
    "def predict(i: int, return_dict, users: List[str]):\n",
    "    actual = []\n",
    "    predicted = []\n",
    "    print(f\"[{i}]: start\")\n",
    "    for user_id in tqdm(users, position=i, desc=f\" proc #{i}\"):\n",
    "        predicted_movies = predict_ratings_for_movies(svd, user_id, all_movie_ids)[\"tmdbId\"]\n",
    "        actual_movies = test[test[\"userId\"] == user_id][\"tmdbId\"]\n",
    "        \n",
    "        predicted.append(list(predicted_movies))\n",
    "        actual.append(list(actual_movies))\n",
    "        \n",
    "    return_dict[i] = {\n",
    "        \"pred\": predicted,\n",
    "        \"actual\": actual,\n",
    "    }\n",
    "\n",
    "    print(f\"[{i}]: finish\")\n",
    "\n",
    "users_split = split_into_chunks(list(train[\"userId\"].unique()), 8)\n",
    "\n",
    "procs = []\n",
    "manager = Manager()\n",
    "return_dict = manager.dict()\n",
    "for i, chunk in enumerate(users_split):\n",
    "    p = Process(target=predict, args=(i, return_dict, chunk))\n",
    "    p.start()\n",
    "    procs.append(p)\n",
    "\n",
    "for p in procs:\n",
    "    p.join()\n",
    "\n",
    "predicted = []\n",
    "actual = []    \n",
    "\n",
    "for return_value in return_dict.values():\n",
    "    predicted.extend(return_value[\"pred\"])\n",
    "    actual.extend(return_value[\"actual\"])\n",
    "print(\"Finished!\")"
   ]
  },
  {
   "cell_type": "code",
   "execution_count": 94,
   "id": "f1bba168-b8be-405d-b866-ba73b9f47b16",
   "metadata": {},
   "outputs": [
    {
     "data": {
      "text/plain": [
       "(0.0, 0.0)"
      ]
     },
     "execution_count": 94,
     "metadata": {},
     "output_type": "execute_result"
    }
   ],
   "source": [
    "mark = recmetrics.metrics.mark(predicted, actual, k=10)\n",
    "mapk = average_precision.mapk(predicted, actual, k=10)\n",
    "mark, mapk"
   ]
  },
  {
   "cell_type": "code",
   "execution_count": null,
   "id": "3d1c4d55-20ae-4994-a64e-013e79746801",
   "metadata": {},
   "outputs": [
    {
     "data": {
      "text/html": [
       "<div>\n",
       "<style scoped>\n",
       "    .dataframe tbody tr th:only-of-type {\n",
       "        vertical-align: middle;\n",
       "    }\n",
       "\n",
       "    .dataframe tbody tr th {\n",
       "        vertical-align: top;\n",
       "    }\n",
       "\n",
       "    .dataframe thead th {\n",
       "        text-align: right;\n",
       "    }\n",
       "</style>\n",
       "<table border=\"1\" class=\"dataframe\">\n",
       "  <thead>\n",
       "    <tr style=\"text-align: right;\">\n",
       "      <th></th>\n",
       "      <th>ids</th>\n",
       "      <th>values</th>\n",
       "    </tr>\n",
       "  </thead>\n",
       "  <tbody>\n",
       "    <tr>\n",
       "      <th>2</th>\n",
       "      <td>3</td>\n",
       "      <td>c</td>\n",
       "    </tr>\n",
       "    <tr>\n",
       "      <th>3</th>\n",
       "      <td>4</td>\n",
       "      <td>d</td>\n",
       "    </tr>\n",
       "  </tbody>\n",
       "</table>\n",
       "</div>"
      ],
      "text/plain": [
       "   ids values\n",
       "2    3      c\n",
       "3    4      d"
      ]
     },
     "execution_count": 82,
     "metadata": {},
     "output_type": "execute_result"
    }
   ],
   "source": [
    "# test is in\n",
    "df = pd.DataFrame({\n",
    "    'ids': [1, 2, 3, 4],\n",
    "    'values': [\"a\", \"b\", \"c\", \"d\"]\n",
    "})\n",
    "\n",
    "to_remove = pd.Series([1, 2])\n",
    "df[~df[\"ids\"].isin(to_remove)]"
   ]
  },
  {
   "cell_type": "code",
   "execution_count": null,
   "id": "62e024c0-6604-44b4-9ef5-4c8da1839402",
   "metadata": {},
   "outputs": [],
   "source": [
    "# TODO: Tal vez da 0,0 porque los tipos de ids de actual y predicted son int y string."
   ]
  }
 ],
 "metadata": {
  "kernelspec": {
   "display_name": "Python 3 (ipykernel)",
   "language": "python",
   "name": "python3"
  },
  "language_info": {
   "codemirror_mode": {
    "name": "ipython",
    "version": 3
   },
   "file_extension": ".py",
   "mimetype": "text/x-python",
   "name": "python",
   "nbconvert_exporter": "python",
   "pygments_lexer": "ipython3",
   "version": "3.9.7"
  }
 },
 "nbformat": 4,
 "nbformat_minor": 5
}
