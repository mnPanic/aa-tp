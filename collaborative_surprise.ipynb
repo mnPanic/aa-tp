{
 "cells": [
  {
   "cell_type": "markdown",
   "id": "289ff692-54d8-4fc1-b316-99a50391eaad",
   "metadata": {
    "tags": []
   },
   "source": [
    "# Collaborative filtering con surprise\n",
    "\n",
    "Fuente: https://www.kaggle.com/code/ibtesama/getting-started-with-a-movie-recommendation-system"
   ]
  },
  {
   "cell_type": "code",
   "execution_count": 1,
   "id": "486d2e35-fde7-4502-a42f-f3b15322a6f5",
   "metadata": {},
   "outputs": [],
   "source": [
    "%load_ext autoreload\n",
    "%autoreload 2"
   ]
  },
  {
   "cell_type": "code",
   "execution_count": 2,
   "id": "de26598d-3fdd-4248-ac9c-13902ce7bff8",
   "metadata": {},
   "outputs": [],
   "source": [
    "import pandas as pd\n",
    "import numpy as np\n",
    "import math\n",
    "import scipy.stats as stats\n",
    "from scipy import spatial\n",
    "import surprise\n",
    "import surprise.model_selection\n",
    "\n",
    "from sklearn.metrics.pairwise import cosine_similarity\n",
    "\n",
    "from tqdm.notebook import tqdm\n",
    "\n",
    "import time"
   ]
  },
  {
   "cell_type": "code",
   "execution_count": 3,
   "id": "c6de494b-24d2-406d-ab8a-dd5c4f30016a",
   "metadata": {
    "tags": []
   },
   "outputs": [],
   "source": [
    "BASE_PATH = \"dataset\"\n",
    "movies = pd.read_csv(f\"{BASE_PATH}/movies_metadata.csv\", low_memory=False, dtype={'id':str, 'original_title':str})\n",
    "user_ratings = pd.read_csv(f\"{BASE_PATH}/ratings.csv\", dtype={'userId': int, 'movieId': int, 'rating': float,'timestamp': int})\n",
    "id_links = pd.read_csv(f\"{BASE_PATH}/links.csv\", dtype={'movieId': str, 'tmdbId': str})"
   ]
  },
  {
   "cell_type": "code",
   "execution_count": 4,
   "id": "dab54b74-a9a1-44f7-857c-922f8bf90b8e",
   "metadata": {},
   "outputs": [],
   "source": [
    "# Remuevo los IDs problemáticos y casteo los movie ids a ints para que sea todo más rápido\n",
    "movies = movies[\n",
    "    (movies[\"id\"] != \"1997-08-20\") &\n",
    "    (movies[\"id\"] != \"2012-09-29\") &\n",
    "    (movies[\"id\"] != \"2014-01-01\")\n",
    "]\n",
    "movies = movies.astype({\"id\": int})\n",
    "id_links = id_links.dropna().astype({\"tmdbId\": int, \"movieId\": int}) # dropna porque tmdbId es NaN a veces"
   ]
  },
  {
   "cell_type": "code",
   "execution_count": 5,
   "id": "ec27b673-f7c8-4956-a87d-ea5046f6cedc",
   "metadata": {},
   "outputs": [
    {
     "name": "stdout",
     "output_type": "stream",
     "text": [
      "before: 45463, after: 45433, diff: 30\n"
     ]
    }
   ],
   "source": [
    "# Sacamos las películas duplicadas, algunas como id 69234 aparecen dos veces\n",
    "len_before = len(movies)\n",
    "movies = movies.drop_duplicates(subset=[\"id\"]).reset_index()\n",
    "print(f\"before: {len_before}, after: {len(movies)}, diff: {len_before - len(movies)}\")"
   ]
  },
  {
   "cell_type": "code",
   "execution_count": 6,
   "id": "36e9f7c2-d5ae-41c8-8ebe-44f9f7a862f8",
   "metadata": {},
   "outputs": [],
   "source": [
    "# Extend user ratings with additional information, movie ids\n",
    "user_ratings = pd.merge(user_ratings, id_links[[\"movieId\", \"tmdbId\"]], left_on='movieId', right_on='movieId', how='left')\n",
    "# Dropna porque hay algunas columnas de id_links que no tienen tmdbId,\n",
    "# entonces tampoco los vamos a tener en user_ratings.\n",
    "user_ratings.dropna(axis=0, subset=[\"tmdbId\"], inplace=True)\n",
    "user_ratings = user_ratings.astype({\"tmdbId\": int, \"movieId\": int}) # por alguna razón sino tmdbId es float"
   ]
  },
  {
   "cell_type": "code",
   "execution_count": 7,
   "id": "d72c1d9a-a148-43b7-b1ea-6cc02d7c2d51",
   "metadata": {},
   "outputs": [
    {
     "name": "stdout",
     "output_type": "stream",
     "text": [
      "before: 26010786 after: 25981582\n"
     ]
    }
   ],
   "source": [
    "# Sacar ratings para las películas que no tenemos metadata\n",
    "# hay algunas películas como \"253768\" que están en ratings pero no en movies.\n",
    "len_before = len(user_ratings)\n",
    "rated_movies = user_ratings[\"tmdbId\"]\n",
    "rated_movies_with_metadata = rated_movies[rated_movies.isin(movies[\"id\"])]\n",
    "user_ratings = user_ratings[user_ratings[\"tmdbId\"].isin(rated_movies_with_metadata)]\n",
    "print(f\"before: {len_before} after: {len(user_ratings)}\")"
   ]
  },
  {
   "cell_type": "code",
   "execution_count": 8,
   "id": "de7af651-c555-4316-a32c-0490ad41abc4",
   "metadata": {},
   "outputs": [
    {
     "name": "stdout",
     "output_type": "stream",
     "text": [
      "25981582 of 25981582\n"
     ]
    }
   ],
   "source": [
    "#user_ratings_small = user_ratings.sample(len(user_ratings) // 2**6)\n",
    "user_ratings_small = user_ratings\n",
    "print(f\"{len(user_ratings_small)} of {len(user_ratings)}\")"
   ]
  },
  {
   "cell_type": "code",
   "execution_count": 9,
   "id": "82fc9496-e3d1-43dc-9227-40c13fed9e80",
   "metadata": {},
   "outputs": [],
   "source": [
    "# Decoro user_ratings con el indice de movies para poder hacer los drops más rápido\n",
    "#movie_id_to_movies_index = pd.Series(movies.index, index=movies['id'])\n",
    "#user_ratings_small['movie_index'] = movie_id_to_movies_index[user_ratings_small['tmdbId']].values"
   ]
  },
  {
   "cell_type": "code",
   "execution_count": 10,
   "id": "063cf2ae-40ae-4e92-846e-15084691fb96",
   "metadata": {},
   "outputs": [],
   "source": [
    "def decorate_with_titles(df: pd.DataFrame):\n",
    "    df_with_titles = pd.merge(df, movies[[\"id\", \"original_title\"]], left_on=\"tmdbId\", right_on=\"id\", how=\"left\")\n",
    "    return df_with_titles.drop('id', axis=1) # 1 = columns\n",
    "# movie names\n",
    "#user_ratings_titles = decorate_with_titles(user_ratings_ids)"
   ]
  },
  {
   "cell_type": "code",
   "execution_count": 11,
   "id": "41321773-0a84-4388-8e8a-6f8d0947e49a",
   "metadata": {},
   "outputs": [],
   "source": [
    "import time\n",
    "\n",
    "def timestep(start: float, name: str) -> float:\n",
    "    now = time.time()\n",
    "    print(f\"{name}: {now - start}\")\n",
    "    return now"
   ]
  },
  {
   "cell_type": "code",
   "execution_count": 13,
   "id": "c1472619-3a60-4069-b62e-f17e3cc9f821",
   "metadata": {},
   "outputs": [],
   "source": [
    "def predict_ratings_for_movies(model, user_id: int, train) -> pd.DataFrame:\n",
    "    rows = []\n",
    "\n",
    "    #start = time.time()\n",
    "    movie_ids = movies[\"id\"]\n",
    "    movies_rated_by_user = train[train['userId'] == user_id][\"tmdbId\"]\n",
    "    movie_ids = remove_rated_movies(movie_ids, movies_rated_by_user)\n",
    "    #start = timestep(start, \"remove\")\n",
    "\n",
    "    for _, movie_id in movie_ids.items():\n",
    "        pred = model.predict(user_id, movie_id)\n",
    "        rows.append({\"tmdbId\": movie_id, \"est_rating\": pred.est})\n",
    "\n",
    "    #start = timestep(start, \"predict all\")\n",
    "    df = pd.DataFrame.from_records(rows)\n",
    "    #start = timestep(start, \"records\")\n",
    "    top_10_movies = df.sort_values(by=\"est_rating\", ascending=False).head(10)\n",
    "    #start = timestep(start, \"top 10\")\n",
    "    \n",
    "    # Comentado porque es muy lento y no hace falta\n",
    "    #top_10_movies = decorate_with_titles(top_10_movies)\n",
    "    \n",
    "    return top_10_movies"
   ]
  },
  {
   "cell_type": "code",
   "execution_count": 14,
   "id": "fff01255-fcd9-48e8-9c61-55c0d7a03705",
   "metadata": {},
   "outputs": [],
   "source": [
    "def predict_ratings_for_movies_eff(model, user_id: int, train) -> pd.DataFrame:\n",
    "    movie_ids = movies[\"id\"]\n",
    "    movies_rated_by_user = train[train['userId'] == user_id][\"tmdbId\"]\n",
    "    movie_ids = remove_rated_movies(movie_ids, movies_rated_by_user)\n",
    "\n",
    "    start = time.time()\n",
    "    # Armo dataset de mentira para pasarle a .test\n",
    "    fake_df = pd.DataFrame(columns=['rating', 'tmdbId', 'userId'])\n",
    "    fake_df['tmdbId'] = movie_ids\n",
    "    fake_df['userId'] = user_id\n",
    "    fake_df['rating'] = 0.0\n",
    "\n",
    "    fake_trainset = surprise.Dataset.load_from_df(fake_df[['userId', 'tmdbId', 'rating']], reader)\n",
    "    testset = fake_trainset.build_full_trainset().build_testset()\n",
    "    start = timestep(start, \"test set\")\n",
    "    result = svd.test(testset)\n",
    "    start = timestep(start, \"test\")\n",
    "\n",
    "    rows = [{\"tmdbId\": pred.iid, \"est_rating\": pred.est} for pred in result]\n",
    "    timestep(start, \"rows\")\n",
    "\n",
    "    #start = timestep(start, \"predict all\")\n",
    "    df = pd.DataFrame.from_records(rows)\n",
    "    #start = timestep(start, \"records\")\n",
    "    top_10_movies = df.sort_values(by=\"est_rating\", ascending=False).head(10)\n",
    "    \n",
    "    return top_10_movies"
   ]
  },
  {
   "cell_type": "code",
   "execution_count": 15,
   "id": "88c91ab4-4cf0-4fa9-9f34-de91c7d9365b",
   "metadata": {},
   "outputs": [],
   "source": [
    "def remove_rated_movies(movie_ids: pd.Series, rated_movies: pd.Series) -> pd.Series:\n",
    "    # https://stackoverflow.com/questions/69774160/how-to-delete-values-from-one-pandas-series-that-are-common-to-another\n",
    "    return movie_ids[~np.isin(movie_ids, rated_movies)]"
   ]
  },
  {
   "cell_type": "code",
   "execution_count": 16,
   "id": "e5cc2cc4-de73-49be-a9f6-fc66b7917290",
   "metadata": {},
   "outputs": [],
   "source": [
    "# TODO (optimizacion): para sacar los ids rateados mas rapido, se puede decorar user ratings\n",
    "# con el indice de la pelicula en movies para así hacer drop en remove_rated_movies."
   ]
  },
  {
   "cell_type": "markdown",
   "id": "b4e24153-deba-4e08-916c-91572f83df71",
   "metadata": {},
   "source": [
    "## Evaluación"
   ]
  },
  {
   "cell_type": "markdown",
   "id": "cae4b9f0-ccab-47cc-a430-ef5381708506",
   "metadata": {},
   "source": [
    "Para usar MARK y MAPK, tenemos que pasar dos listas de la misma longitud que representan los ratings reales (*actual*) y\n",
    "los ratings predichos (*predicted*).\n",
    "\n",
    "Para separar el dataset en train y test, vamos a sacar 10 películas de cada usuario. Luego vamos a predecir 10 para cada uno y\n",
    "aplicar MARK y MAPK para evaluar cada modelo.\n",
    "\n",
    "Previamente vamos a filtrar el dataset de todos los usuarios que no tengan al menos 15 películas, para tener suficientes para entrenar."
   ]
  },
  {
   "cell_type": "code",
   "execution_count": 17,
   "id": "37be5ac8-70c9-42d3-99d0-834a00a8cf1f",
   "metadata": {},
   "outputs": [
    {
     "name": "stdout",
     "output_type": "stream",
     "text": [
      "total: 25981582, after filter: 25981582\n"
     ]
    }
   ],
   "source": [
    "# 1. Sacar películas para las que no tenemos metadata\n",
    "# hay algunas películas como \"253768\" que están en ratings pero no en movies.\n",
    "rated_movies = user_ratings_small[\"tmdbId\"]\n",
    "rated_movies_with_metadata = rated_movies[rated_movies.isin(movies[\"id\"])]\n",
    "metadata_filtered_user_ratings = user_ratings_small[user_ratings_small[\"tmdbId\"].isin(rated_movies_with_metadata)]\n",
    "\n",
    "print(f\"total: {len(user_ratings_small)}, after filter: {len(metadata_filtered_user_ratings)}\")"
   ]
  },
  {
   "cell_type": "code",
   "execution_count": 18,
   "id": "76b5b1cf-c5f2-4f6c-9643-73e1428fa673",
   "metadata": {},
   "outputs": [
    {
     "name": "stdout",
     "output_type": "stream",
     "text": [
      "total: 25981582, after filter: 25556154\n",
      "(diff = 425428)\n"
     ]
    }
   ],
   "source": [
    "# 2. Sacar los que tienen menos de 15\n",
    "user_rating_count = metadata_filtered_user_ratings.groupby([\"userId\"]).count()\n",
    "users_to_remove = user_rating_count[user_rating_count[\"movieId\"] < 15].reset_index()[\"userId\"]\n",
    "filtered_user_ratings = metadata_filtered_user_ratings[~metadata_filtered_user_ratings[\"userId\"].isin(users_to_remove)]\n",
    "\n",
    "print(f\"total: {len(metadata_filtered_user_ratings)}, after filter: {len(filtered_user_ratings)}\")\n",
    "print(f\"(diff = {len(metadata_filtered_user_ratings) - len(filtered_user_ratings)})\")"
   ]
  },
  {
   "cell_type": "code",
   "execution_count": 19,
   "id": "c0b6e158-e339-40c0-9f0a-58271314eeef",
   "metadata": {},
   "outputs": [],
   "source": [
    "def split_into_chunks(elems: list, chunks: int):\n",
    "    chunk_size = len(elems)//chunks\n",
    "    rem = len(elems)%chunks\n",
    "    chunks_split = [ elems[chunk_size*i:chunk_size*(i+1)] for i in range(0, chunks)]\n",
    "\n",
    "    # Agregamos el resto al último\n",
    "    chunks_split[chunks-1].extend(elems[len(elems) - rem:])\n",
    "\n",
    "    return chunks_split"
   ]
  },
  {
   "cell_type": "code",
   "execution_count": null,
   "id": "23e61171-b863-4f9d-975b-b0a95699830d",
   "metadata": {},
   "outputs": [
    {
     "name": "stdout",
     "output_type": "stream",
     "text": [
      "[0] start[1] start\n",
      "\n",
      "[2] start\n",
      "[3] start\n",
      "[4] start[5] start\n",
      "\n"
     ]
    },
    {
     "data": {
      "application/vnd.jupyter.widget-view+json": {
       "model_id": "8a89fb58bfc24703ae71b0f42fbe65b9",
       "version_major": 2,
       "version_minor": 0
      },
      "text/plain": [
       "HBox(children=(HTML(value=' proc #0'), FloatProgress(value=0.0, max=35411.0), HTML(value='')))"
      ]
     },
     "metadata": {},
     "output_type": "display_data"
    },
    {
     "data": {
      "application/vnd.jupyter.widget-view+json": {
       "model_id": "5ca26689da5f4e3aa4001d5bb582dfea",
       "version_major": 2,
       "version_minor": 0
      },
      "text/plain": [
       "HBox(children=(HTML(value=' proc #1'), FloatProgress(value=0.0, max=35411.0), HTML(value='')))"
      ]
     },
     "metadata": {},
     "output_type": "display_data"
    },
    {
     "data": {
      "application/vnd.jupyter.widget-view+json": {
       "model_id": "cdabc7efe0b24a298beeb64d3e852457",
       "version_major": 2,
       "version_minor": 0
      },
      "text/plain": [
       "HBox(children=(HTML(value=' proc #2'), FloatProgress(value=0.0, max=35411.0), HTML(value='')))"
      ]
     },
     "metadata": {},
     "output_type": "display_data"
    },
    {
     "data": {
      "application/vnd.jupyter.widget-view+json": {
       "model_id": "459d2cbbc31647eaa1d4ed9aa4559ab0",
       "version_major": 2,
       "version_minor": 0
      },
      "text/plain": [
       "HBox(children=(HTML(value=' proc #3'), FloatProgress(value=0.0, max=35411.0), HTML(value='')))"
      ]
     },
     "metadata": {},
     "output_type": "display_data"
    },
    {
     "data": {
      "application/vnd.jupyter.widget-view+json": {
       "model_id": "c2443e83863b47969acb571622a6b5fc",
       "version_major": 2,
       "version_minor": 0
      },
      "text/plain": [
       "HBox(children=(HTML(value=' proc #4'), FloatProgress(value=0.0, max=35411.0), HTML(value='')))"
      ]
     },
     "metadata": {},
     "output_type": "display_data"
    },
    {
     "data": {
      "application/vnd.jupyter.widget-view+json": {
       "model_id": "68480b4de7c442f7ab47d1c6539e9fe7",
       "version_major": 2,
       "version_minor": 0
      },
      "text/plain": [
       "HBox(children=(HTML(value=' proc #5'), FloatProgress(value=0.0, max=35413.0), HTML(value='')))"
      ]
     },
     "metadata": {},
     "output_type": "display_data"
    },
    {
     "name": "stderr",
     "output_type": "stream",
     "text": [
      "IOPub message rate exceeded.\n",
      "The Jupyter server will temporarily stop sending output\n",
      "to the client in order to avoid crashing it.\n",
      "To change this limit, set the config variable\n",
      "`--ServerApp.iopub_msg_rate_limit`.\n",
      "\n",
      "Current values:\n",
      "ServerApp.iopub_msg_rate_limit=1000.0 (msgs/sec)\n",
      "ServerApp.rate_limit_window=3.0 (secs)\n",
      "\n"
     ]
    }
   ],
   "source": [
    "%%time\n",
    "# 3. Sacar 10 de cada uno para test\n",
    "NUM_PROCS = 6\n",
    "\n",
    "from multiprocess import Process, Manager\n",
    "from typing import List\n",
    "# https://stackoverflow.com/questions/10415028/how-can-i-recover-the-return-value-of-a-function-passed-to-multiprocessing-proce\n",
    "\n",
    "def sample_test_ratings(procnum: int, return_dict, users: List[int]):\n",
    "    print(f\"[{procnum}] start\")\n",
    "    test = pd.DataFrame(columns=filtered_user_ratings.columns)\n",
    "\n",
    "    for user_id in tqdm(users, position=procnum, desc=f\" proc #{procnum}\"):\n",
    "        movies_of_user = filtered_user_ratings[filtered_user_ratings[\"userId\"] == user_id].sample(n=10)\n",
    "        test = pd.concat([test, movies_of_user])\n",
    "\n",
    "    return_dict[procnum] = test\n",
    "    print(f\"[{procnum}] finish\")\n",
    "\n",
    "user_ids = list(filtered_user_ratings[\"userId\"].unique())\n",
    "users_split = split_into_chunks(user_ids, NUM_PROCS)\n",
    "\n",
    "procs = []\n",
    "manager = Manager()\n",
    "return_dict = manager.dict()\n",
    "for i, chunk in enumerate(users_split):\n",
    "    p = Process(target=sample_test_ratings, args=(i, return_dict, chunk))\n",
    "    p.start()\n",
    "    procs.append(p)\n",
    "\n",
    "for p in procs:\n",
    "    p.join()\n",
    "\n",
    "test = pd.DataFrame(columns=filtered_user_ratings.columns)\n",
    "for return_value in return_dict.values():\n",
    "    test = pd.concat([test, return_value])\n",
    "    \n",
    "train = filtered_user_ratings.drop(test.index)\n",
    "\n",
    "print(\"Finished!\")"
   ]
  },
  {
   "cell_type": "code",
   "execution_count": null,
   "id": "33aeed00-2765-4944-bfb5-e50735a051f6",
   "metadata": {},
   "outputs": [],
   "source": [
    "train.to_csv(\"dfs/collab2-train.csv\")\n",
    "test.to_csv(\"dfs/collab2-test.csv\")"
   ]
  },
  {
   "cell_type": "code",
   "execution_count": 20,
   "id": "6fee3eae-bafd-430b-81a2-c3b7239ccc4f",
   "metadata": {},
   "outputs": [
    {
     "name": "stderr",
     "output_type": "stream",
     "text": [
      "/opt/homebrew/anaconda3/lib/python3.9/site-packages/numpy/lib/arraysetops.py:583: FutureWarning: elementwise comparison failed; returning scalar instead, but in the future will perform elementwise comparison\n",
      "  mask |= (ar1 == a)\n"
     ]
    }
   ],
   "source": [
    "train = pd.read_csv(\"dfs/collab2-train.csv\", index_col=0, dtype={\"tmdbId\": int})\n",
    "test = pd.read_csv(\"dfs/collab2-test.csv\", index_col=0, dtype={\"tmdbId\": int})"
   ]
  },
  {
   "cell_type": "code",
   "execution_count": 21,
   "id": "5cb0dc73-f96e-45c3-a9df-abd0b963773b",
   "metadata": {},
   "outputs": [],
   "source": [
    "# 3. Entrenamos el modelo con la data de train\n",
    "# user_ratings_small_sup = user_ratings_small[['userId', 'tmdbId', 'rating']].dropna()\n",
    "reader = surprise.Reader(rating_scale=(1, 5))\n",
    "data = surprise.Dataset.load_from_df(train[['userId', 'tmdbId', 'rating']], reader)"
   ]
  },
  {
   "cell_type": "code",
   "execution_count": 22,
   "id": "ff93c724-68c5-4e3e-97e7-1a61be8760a7",
   "metadata": {},
   "outputs": [
    {
     "name": "stdout",
     "output_type": "stream",
     "text": [
      "Fit done\n",
      "CPU times: user 18min 54s, sys: 1min 12s, total: 20min 7s\n",
      "Wall time: 21min 41s\n"
     ]
    }
   ],
   "source": [
    "%%time\n",
    "svd = surprise.SVD()\n",
    "trainset = data.build_full_trainset()\n",
    "svd.fit(trainset)\n",
    "print(\"Fit done\")"
   ]
  },
  {
   "cell_type": "code",
   "execution_count": null,
   "id": "ba16122b-4660-4175-8eee-93a16bd7a887",
   "metadata": {},
   "outputs": [],
   "source": [
    "predict_ratings_for_movies(svd, 1, train)"
   ]
  },
  {
   "cell_type": "code",
   "execution_count": null,
   "id": "a688967f-290a-42a8-b1ea-997c572e890c",
   "metadata": {},
   "outputs": [],
   "source": [
    "predict_ratings_for_movies_eff(svd, 1, train)"
   ]
  },
  {
   "cell_type": "code",
   "execution_count": 23,
   "id": "8d7d0a11-51d4-4d3c-b936-f036135fd155",
   "metadata": {},
   "outputs": [
    {
     "name": "stdout",
     "output_type": "stream",
     "text": [
      "Already processed 195888/212468 users\n"
     ]
    }
   ],
   "source": [
    "# Remove users that were already processed\n",
    "import result_io\n",
    "processed_users = result_io.read_processed_users()\n",
    "\n",
    "users = train[\"userId\"]\n",
    "users = users[~np.isin(users, processed_users)]\n",
    "users = list(users.unique())\n",
    "\n",
    "print(f\"Already processed {len(processed_users)}/{len(users) + len(processed_users)} users\")"
   ]
  },
  {
   "cell_type": "code",
   "execution_count": 24,
   "id": "99d47011-fa92-466b-bff2-f203d8dab07e",
   "metadata": {},
   "outputs": [
    {
     "name": "stdout",
     "output_type": "stream",
     "text": [
      "[0]: start[1]: start\n",
      "\n",
      "[3]: start[2]: start\n",
      "[4]: start\n",
      "\n",
      "[5]: start\n"
     ]
    },
    {
     "data": {
      "application/vnd.jupyter.widget-view+json": {
       "model_id": "e2a03681a48b4430bd62c29ead0582ee",
       "version_major": 2,
       "version_minor": 0
      },
      "text/plain": [
       "HBox(children=(HTML(value=' proc #1'), FloatProgress(value=0.0, max=2763.0), HTML(value='')))"
      ]
     },
     "metadata": {},
     "output_type": "display_data"
    },
    {
     "data": {
      "application/vnd.jupyter.widget-view+json": {
       "model_id": "b97c960eb7b84a9bba54a7956adadf99",
       "version_major": 2,
       "version_minor": 0
      },
      "text/plain": [
       "HBox(children=(HTML(value=' proc #0'), FloatProgress(value=0.0, max=2763.0), HTML(value='')))"
      ]
     },
     "metadata": {},
     "output_type": "display_data"
    },
    {
     "data": {
      "application/vnd.jupyter.widget-view+json": {
       "model_id": "4ec057aeea19484794fd19ec7bc47ae4",
       "version_major": 2,
       "version_minor": 0
      },
      "text/plain": [
       "HBox(children=(HTML(value=' proc #2'), FloatProgress(value=0.0, max=2763.0), HTML(value='')))"
      ]
     },
     "metadata": {},
     "output_type": "display_data"
    },
    {
     "data": {
      "application/vnd.jupyter.widget-view+json": {
       "model_id": "6a08cd80ae834a5e976a28024b8e066a",
       "version_major": 2,
       "version_minor": 0
      },
      "text/plain": [
       "HBox(children=(HTML(value=' proc #3'), FloatProgress(value=0.0, max=2763.0), HTML(value='')))"
      ]
     },
     "metadata": {},
     "output_type": "display_data"
    },
    {
     "data": {
      "application/vnd.jupyter.widget-view+json": {
       "model_id": "75ff653e2fa3411f85c32387f43b7e80",
       "version_major": 2,
       "version_minor": 0
      },
      "text/plain": [
       "HBox(children=(HTML(value=' proc #4'), FloatProgress(value=0.0, max=2763.0), HTML(value='')))"
      ]
     },
     "metadata": {},
     "output_type": "display_data"
    },
    {
     "data": {
      "application/vnd.jupyter.widget-view+json": {
       "model_id": "efc17810173c4902bf2d3b2bf0aac762",
       "version_major": 2,
       "version_minor": 0
      },
      "text/plain": [
       "HBox(children=(HTML(value=' proc #5'), FloatProgress(value=0.0, max=2765.0), HTML(value='')))"
      ]
     },
     "metadata": {},
     "output_type": "display_data"
    },
    {
     "name": "stdout",
     "output_type": "stream",
     "text": [
      "\n",
      "[3]: finish\n"
     ]
    },
    {
     "name": "stderr",
     "output_type": "stream",
     "text": [
      "/opt/homebrew/anaconda3/lib/python3.9/multiprocessing/resource_tracker.py:216: UserWarning: resource_tracker: There appear to be 1 leaked semaphore objects to clean up at shutdown\n",
      "  warnings.warn('resource_tracker: There appear to be %d '\n"
     ]
    },
    {
     "name": "stdout",
     "output_type": "stream",
     "text": [
      "\n",
      "[0]: finish\n"
     ]
    },
    {
     "name": "stderr",
     "output_type": "stream",
     "text": [
      "/opt/homebrew/anaconda3/lib/python3.9/multiprocessing/resource_tracker.py:216: UserWarning: resource_tracker: There appear to be 1 leaked semaphore objects to clean up at shutdown\n",
      "  warnings.warn('resource_tracker: There appear to be %d '\n"
     ]
    },
    {
     "name": "stdout",
     "output_type": "stream",
     "text": [
      "\n",
      "[1]: finish\n"
     ]
    },
    {
     "name": "stderr",
     "output_type": "stream",
     "text": [
      "/opt/homebrew/anaconda3/lib/python3.9/multiprocessing/resource_tracker.py:216: UserWarning: resource_tracker: There appear to be 1 leaked semaphore objects to clean up at shutdown\n",
      "  warnings.warn('resource_tracker: There appear to be %d '\n"
     ]
    },
    {
     "name": "stdout",
     "output_type": "stream",
     "text": [
      "\n",
      "[4]: finish\n"
     ]
    },
    {
     "name": "stderr",
     "output_type": "stream",
     "text": [
      "/opt/homebrew/anaconda3/lib/python3.9/multiprocessing/resource_tracker.py:216: UserWarning: resource_tracker: There appear to be 1 leaked semaphore objects to clean up at shutdown\n",
      "  warnings.warn('resource_tracker: There appear to be %d '\n"
     ]
    },
    {
     "name": "stdout",
     "output_type": "stream",
     "text": [
      "\n",
      "[2]: finish\n"
     ]
    },
    {
     "name": "stderr",
     "output_type": "stream",
     "text": [
      "/opt/homebrew/anaconda3/lib/python3.9/multiprocessing/resource_tracker.py:216: UserWarning: resource_tracker: There appear to be 1 leaked semaphore objects to clean up at shutdown\n",
      "  warnings.warn('resource_tracker: There appear to be %d '\n"
     ]
    },
    {
     "name": "stdout",
     "output_type": "stream",
     "text": [
      "\n",
      "[5]: finish\n",
      "Finished!\n",
      "CPU times: user 21.3 s, sys: 12.7 s, total: 34 s\n",
      "Wall time: 39min 11s\n"
     ]
    },
    {
     "name": "stderr",
     "output_type": "stream",
     "text": [
      "/opt/homebrew/anaconda3/lib/python3.9/multiprocessing/resource_tracker.py:216: UserWarning: resource_tracker: There appear to be 1 leaked semaphore objects to clean up at shutdown\n",
      "  warnings.warn('resource_tracker: There appear to be %d '\n"
     ]
    }
   ],
   "source": [
    "%%time\n",
    "from multiprocess import Process, Manager, Lock\n",
    "from typing import List\n",
    "# https://stackoverflow.com/questions/10415028/how-can-i-recover-the-return-value-of-a-function-passed-to-multiprocessing-proce\n",
    "\n",
    "\n",
    "def predict(i: int, users: List[int]):\n",
    "    print(f\"[{i}]: start\")\n",
    "    for user_id in tqdm(users, position=i, desc=f\" proc #{i}\"):\n",
    "        predicted_movies = list(predict_ratings_for_movies(svd, user_id, train)[\"tmdbId\"])\n",
    "        actual_movies = list(test[test[\"userId\"] == user_id][\"tmdbId\"])\n",
    "        \n",
    "        result_io.write_col_result(user_id, predicted_movies, actual_movies)\n",
    "\n",
    "    print(f\"[{i}]: finish\")\n",
    "\n",
    "users_split = split_into_chunks(users, 6)\n",
    "\n",
    "procs = []\n",
    "for i, chunk in enumerate(users_split):\n",
    "    p = Process(target=predict, args=(i, chunk))\n",
    "    p.start()\n",
    "    procs.append(p)\n",
    "\n",
    "for p in procs:\n",
    "    p.join()\n",
    "\n",
    "print(\"Finished!\")\n"
   ]
  },
  {
   "cell_type": "code",
   "execution_count": null,
   "id": "0f255651-aaba-481d-8aca-3fcc21644a30",
   "metadata": {},
   "outputs": [],
   "source": [
    "predicted = []\n",
    "actual = []\n",
    "\n",
    "users = list(train[\"userId\"].unique())\n",
    "for user_id in tqdm(users):\n",
    "    predicted_movies = predict_ratings_for_movies(svd, user_id, train)[\"tmdbId\"]\n",
    "    actual_movies = test[test[\"userId\"] == user_id][\"tmdbId\"]\n",
    "\n",
    "    predicted.append(list(predicted_movies))\n",
    "    actual.append(list(actual_movies))"
   ]
  },
  {
   "cell_type": "code",
   "execution_count": 25,
   "id": "49165806-6dac-4cf5-b249-7b2cf632ec06",
   "metadata": {},
   "outputs": [],
   "source": [
    "predicted, actual = result_io.read_col_results()"
   ]
  },
  {
   "cell_type": "code",
   "execution_count": 26,
   "id": "66c4cee1-f68d-417f-8e9d-d223b07d689e",
   "metadata": {},
   "outputs": [],
   "source": [
    "import average_precision\n",
    "import recmetrics.metrics"
   ]
  },
  {
   "cell_type": "code",
   "execution_count": 27,
   "id": "f1bba168-b8be-405d-b866-ba73b9f47b16",
   "metadata": {},
   "outputs": [
    {
     "data": {
      "text/plain": [
       "(0.0069481047528800605, 0.0069481047528800605)"
      ]
     },
     "execution_count": 27,
     "metadata": {},
     "output_type": "execute_result"
    }
   ],
   "source": [
    "predicted, actual = result_io.read_col_results()\n",
    "mark = recmetrics.metrics.mark(actual, predicted, k=10)\n",
    "mapk = average_precision.mapk(actual, predicted, k=10)\n",
    "mark, mapk\n",
    "# (0.0027199076980248984, 0.0027199076980248984)"
   ]
  },
  {
   "cell_type": "code",
   "execution_count": null,
   "id": "3d1c4d55-20ae-4994-a64e-013e79746801",
   "metadata": {},
   "outputs": [],
   "source": [
    "# test is in\n",
    "df = pd.DataFrame({\n",
    "    'ids': [1, 2, 3, 4],\n",
    "    'values': [\"a\", \"b\", \"c\", \"d\"]\n",
    "})\n",
    "\n",
    "to_remove = pd.Series([1, 2])\n",
    "df[~df[\"ids\"].isin(to_remove)]"
   ]
  },
  {
   "cell_type": "code",
   "execution_count": null,
   "id": "62e024c0-6604-44b4-9ef5-4c8da1839402",
   "metadata": {},
   "outputs": [],
   "source": [
    "# TODO: Tal vez da 0,0 porque los tipos de ids de actual y predicted son int y string."
   ]
  }
 ],
 "metadata": {
  "kernelspec": {
   "display_name": "Python 3 (ipykernel)",
   "language": "python",
   "name": "python3"
  },
  "language_info": {
   "codemirror_mode": {
    "name": "ipython",
    "version": 3
   },
   "file_extension": ".py",
   "mimetype": "text/x-python",
   "name": "python",
   "nbconvert_exporter": "python",
   "pygments_lexer": "ipython3",
   "version": "3.9.7"
  }
 },
 "nbformat": 4,
 "nbformat_minor": 5
}
