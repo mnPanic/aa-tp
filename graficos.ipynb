{
 "cells": [
  {
   "cell_type": "markdown",
   "id": "51942ea8-fc9e-46ed-aae0-7adc5b744ed1",
   "metadata": {},
   "source": [
    "# Gráficos\n",
    "\n",
    "Dataset\n",
    "\n",
    "- Histograma cantidad ratings, ver como hacer con la cola\n",
    "- Histograma de valores de ratings\n",
    "\n",
    "Resultados\n",
    "\n",
    "- Coverage (https://towardsdatascience.com/evaluation-metrics-for-recommender-systems-df56c6611093)\n",
    "\n",
    "\n",
    "- Métricas\n",
    "  - mark y mapk\n",
    "  - personalización"
   ]
  },
  {
   "cell_type": "code",
   "execution_count": 1,
   "id": "8300c461-cf7e-4079-b1de-999ed907eab4",
   "metadata": {},
   "outputs": [],
   "source": [
    "%load_ext autoreload\n",
    "%autoreload 2"
   ]
  },
  {
   "cell_type": "code",
   "execution_count": 4,
   "id": "c583264b-ce56-413d-8868-d3559e441331",
   "metadata": {},
   "outputs": [
    {
     "data": {
      "text/plain": [
       "([['1', '2', '3'], ['4'], ['5']], [['1', '2', '3'], ['4'], ['5']])"
      ]
     },
     "execution_count": 4,
     "metadata": {},
     "output_type": "execute_result"
    }
   ],
   "source": [
    "import result_io\n",
    "\n",
    "result_io.write_results(result_io.NAME_COLLABORATIVE, \n",
    "    [[\"1\", \"2\", \"3\"], [\"4\"], [\"5\"]],\n",
    "    [[\"1\", \"2\", \"3\"], [\"4\"], [\"5\"]],\n",
    ")\n",
    "\n",
    "result_io.read_results(result_io.NAME_COLLABORATIVE)"
   ]
  },
  {
   "cell_type": "code",
   "execution_count": null,
   "id": "097f163b-c442-4900-8e4b-58a666c89c7b",
   "metadata": {},
   "outputs": [],
   "source": []
  }
 ],
 "metadata": {
  "kernelspec": {
   "display_name": "Python 3 (ipykernel)",
   "language": "python",
   "name": "python3"
  },
  "language_info": {
   "codemirror_mode": {
    "name": "ipython",
    "version": 3
   },
   "file_extension": ".py",
   "mimetype": "text/x-python",
   "name": "python",
   "nbconvert_exporter": "python",
   "pygments_lexer": "ipython3",
   "version": "3.9.7"
  }
 },
 "nbformat": 4,
 "nbformat_minor": 5
}
